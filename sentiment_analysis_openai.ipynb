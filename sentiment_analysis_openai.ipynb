{
 "cells": [
  {
   "cell_type": "code",
   "execution_count": 17,
   "id": "07ae39d8",
   "metadata": {},
   "outputs": [],
   "source": [
    "import pandas as pd\n",
    "import json\n",
    "import re\n",
    "import seaborn as sns\n",
    "from plotly.subplots import make_subplots\n",
    "import plotly.express as px\n",
    "import time\n",
    "import openai\n",
    "import os\n",
    "from dotenv import load_dotenv\n",
    "import tiktoken"
   ]
  },
  {
   "cell_type": "code",
   "execution_count": 18,
   "id": "f933b095",
   "metadata": {},
   "outputs": [],
   "source": [
    "data = pd.read_csv(\"googlemaps_review.csv\")\n",
    "info = pd.read_csv(\"googlemaps_info.csv\")"
   ]
  },
  {
   "cell_type": "code",
   "execution_count": 19,
   "id": "82920aa3",
   "metadata": {},
   "outputs": [
    {
     "data": {
      "text/plain": [
       "['id_33', 'id_48', 'id_93']"
      ]
     },
     "execution_count": 19,
     "metadata": {},
     "output_type": "execute_result"
    }
   ],
   "source": [
    "id_list = data[\"location_id\"].unique().tolist()\n",
    "id_list"
   ]
  },
  {
   "cell_type": "markdown",
   "id": "c94a24d2",
   "metadata": {},
   "source": [
    "### Extract the data from the reviews in json"
   ]
  },
  {
   "cell_type": "code",
   "execution_count": 20,
   "id": "9a69a8bc",
   "metadata": {},
   "outputs": [],
   "source": [
    "rating_list = []\n",
    "review_date_list = []\n",
    "rating_cat_list = []\n",
    "review_text_list = []\n",
    "for id_num in id_list:\n",
    "    \n",
    "    current_df = data[data[\"location_id\"]==id_num]\n",
    "    current_review = current_df[\"moreReview\"].tolist()\n",
    "    \n",
    "    for i in range(len(current_review)):\n",
    "        # review in json object\n",
    "        json_obj = json.loads(current_review[i])\n",
    "        # extract ratings\n",
    "        ratings = int(json_obj[\"rating\"][0])\n",
    "        rating_list.append(ratings)\n",
    "        # categorize ratings\n",
    "        if ratings >3:\n",
    "            rating_cat_list.append(\"> 3 stars\")\n",
    "        else:\n",
    "            rating_cat_list.append(\"<= 3 stars\")\n",
    "        # extract review date\n",
    "        date = json_obj[\"review_date\"]\n",
    "        split_date = date.split(\" \")[0:-1]\n",
    "        if re.match(\"(year)s?\",split_date[1]):\n",
    "            review_date_list.append(\"> a year\")\n",
    "        else:\n",
    "            review_date_list.append(\"<= a year\")\n",
    "        # extract review text content\n",
    "        review_text_list.append(json_obj[\"review\"])\n",
    "\n",
    "data[\"review_rating\"] = rating_list\n",
    "data[\"review_rating_category\"] = rating_cat_list\n",
    "data[\"review_date\"] = review_date_list\n",
    "data[\"review_content\"] = review_text_list"
   ]
  },
  {
   "cell_type": "code",
   "execution_count": 21,
   "id": "b06813ef",
   "metadata": {},
   "outputs": [],
   "source": [
    "# Add the location name\n",
    "data[\"location_name\"] = data[\"location_id\"].apply(lambda x: info[info[\"location_id\"]==x][\"location\"].values[0])\n",
    "data= data.reindex(columns = [\"location_id\", \"location_name\",\n",
    "                              \"moreReview\", \"review_rating\",\"review_rating_category\", \"review_date\", \"review_content\"])\n",
    "data[\"location_name\"] = data[\"location_name\"].apply(lambda x : \" \".join(x.split(\" \")[1::]))"
   ]
  },
  {
   "cell_type": "code",
   "execution_count": 22,
   "id": "b8d85b41",
   "metadata": {},
   "outputs": [],
   "source": [
    "# Clean the location name \n",
    "data[\"location_name\"] = data[\"location_name\"].apply(lambda x: x[1:5] if not x.isascii() else x)\n",
    "data[\"location_name\"] = data[\"location_name\"].apply(lambda x: x.replace(\"*\", \"\"))"
   ]
  },
  {
   "cell_type": "markdown",
   "id": "20d221ab",
   "metadata": {},
   "source": [
    "### Bar plot of the ratings based on group category"
   ]
  },
  {
   "cell_type": "code",
   "execution_count": 27,
   "id": "00e95a8d",
   "metadata": {},
   "outputs": [
    {
     "data": {
      "text/html": [
       "<div>\n",
       "<style scoped>\n",
       "    .dataframe tbody tr th:only-of-type {\n",
       "        vertical-align: middle;\n",
       "    }\n",
       "\n",
       "    .dataframe tbody tr th {\n",
       "        vertical-align: top;\n",
       "    }\n",
       "\n",
       "    .dataframe thead th {\n",
       "        text-align: right;\n",
       "    }\n",
       "</style>\n",
       "<table border=\"1\" class=\"dataframe\">\n",
       "  <thead>\n",
       "    <tr style=\"text-align: right;\">\n",
       "      <th></th>\n",
       "      <th>location_id</th>\n",
       "      <th>location_name</th>\n",
       "      <th>review_rating_category</th>\n",
       "      <th>count</th>\n",
       "    </tr>\n",
       "  </thead>\n",
       "  <tbody>\n",
       "    <tr>\n",
       "      <th>0</th>\n",
       "      <td>id_33</td>\n",
       "      <td>香港大學</td>\n",
       "      <td>&lt;= 3 stars</td>\n",
       "      <td>7</td>\n",
       "    </tr>\n",
       "    <tr>\n",
       "      <th>1</th>\n",
       "      <td>id_33</td>\n",
       "      <td>香港大學</td>\n",
       "      <td>&gt; 3 stars</td>\n",
       "      <td>13</td>\n",
       "    </tr>\n",
       "    <tr>\n",
       "      <th>2</th>\n",
       "      <td>id_48</td>\n",
       "      <td>The Henry</td>\n",
       "      <td>&lt;= 3 stars</td>\n",
       "      <td>9</td>\n",
       "    </tr>\n",
       "    <tr>\n",
       "      <th>3</th>\n",
       "      <td>id_48</td>\n",
       "      <td>The Henry</td>\n",
       "      <td>&gt; 3 stars</td>\n",
       "      <td>11</td>\n",
       "    </tr>\n",
       "    <tr>\n",
       "      <th>4</th>\n",
       "      <td>id_93</td>\n",
       "      <td>Imperial Kennedy</td>\n",
       "      <td>&lt;= 3 stars</td>\n",
       "      <td>8</td>\n",
       "    </tr>\n",
       "    <tr>\n",
       "      <th>5</th>\n",
       "      <td>id_93</td>\n",
       "      <td>Imperial Kennedy</td>\n",
       "      <td>&gt; 3 stars</td>\n",
       "      <td>12</td>\n",
       "    </tr>\n",
       "  </tbody>\n",
       "</table>\n",
       "</div>"
      ],
      "text/plain": [
       "  location_id     location_name review_rating_category  count\n",
       "0       id_33              香港大學             <= 3 stars      7\n",
       "1       id_33              香港大學              > 3 stars     13\n",
       "2       id_48         The Henry             <= 3 stars      9\n",
       "3       id_48         The Henry              > 3 stars     11\n",
       "4       id_93  Imperial Kennedy             <= 3 stars      8\n",
       "5       id_93  Imperial Kennedy              > 3 stars     12"
      ]
     },
     "execution_count": 27,
     "metadata": {},
     "output_type": "execute_result"
    }
   ],
   "source": [
    "stats_rate_df = pd.DataFrame(data.groupby(['location_id','location_name', 'review_rating_category']).size().reset_index(name=\"count\"))\n",
    "stats_rate_df"
   ]
  },
  {
   "cell_type": "code",
   "execution_count": 30,
   "id": "d021550d",
   "metadata": {},
   "outputs": [
    {
     "data": {
      "application/vnd.plotly.v1+json": {
       "config": {
        "plotlyServerURL": "https://plot.ly"
       },
       "data": [
        {
         "alignmentgroup": "True",
         "hovertemplate": "Review Ratings=%{x}<br>Location=香港大學<br>Count=%{text}<extra></extra>",
         "legendgroup": "<= 3 stars",
         "marker": {
          "color": "rgb(103,0,31)",
          "line": {
           "color": "black",
           "width": 0.4
          },
          "pattern": {
           "shape": ""
          }
         },
         "name": "<= 3 stars",
         "offsetgroup": "<= 3 stars",
         "orientation": "v",
         "showlegend": true,
         "text": [
          7
         ],
         "textposition": "auto",
         "type": "bar",
         "x": [
          "<= 3 stars"
         ],
         "xaxis": "x",
         "y": [
          7
         ],
         "yaxis": "y"
        },
        {
         "alignmentgroup": "True",
         "hovertemplate": "Review Ratings=%{x}<br>Location=The Henry<br>Count=%{text}<extra></extra>",
         "legendgroup": "<= 3 stars",
         "marker": {
          "color": "rgb(103,0,31)",
          "line": {
           "color": "black",
           "width": 0.4
          },
          "pattern": {
           "shape": ""
          }
         },
         "name": "<= 3 stars",
         "offsetgroup": "<= 3 stars",
         "orientation": "v",
         "showlegend": false,
         "text": [
          9
         ],
         "textposition": "auto",
         "type": "bar",
         "x": [
          "<= 3 stars"
         ],
         "xaxis": "x2",
         "y": [
          9
         ],
         "yaxis": "y2"
        },
        {
         "alignmentgroup": "True",
         "hovertemplate": "Review Ratings=%{x}<br>Location=Imperial Kennedy<br>Count=%{text}<extra></extra>",
         "legendgroup": "<= 3 stars",
         "marker": {
          "color": "rgb(103,0,31)",
          "line": {
           "color": "black",
           "width": 0.4
          },
          "pattern": {
           "shape": ""
          }
         },
         "name": "<= 3 stars",
         "offsetgroup": "<= 3 stars",
         "orientation": "v",
         "showlegend": false,
         "text": [
          8
         ],
         "textposition": "auto",
         "type": "bar",
         "x": [
          "<= 3 stars"
         ],
         "xaxis": "x3",
         "y": [
          8
         ],
         "yaxis": "y3"
        },
        {
         "alignmentgroup": "True",
         "hovertemplate": "Review Ratings=%{x}<br>Location=香港大學<br>Count=%{text}<extra></extra>",
         "legendgroup": "> 3 stars",
         "marker": {
          "color": "rgb(5,48,97)",
          "line": {
           "color": "black",
           "width": 0.4
          },
          "pattern": {
           "shape": ""
          }
         },
         "name": "> 3 stars",
         "offsetgroup": "> 3 stars",
         "orientation": "v",
         "showlegend": true,
         "text": [
          13
         ],
         "textposition": "auto",
         "type": "bar",
         "x": [
          "> 3 stars"
         ],
         "xaxis": "x",
         "y": [
          13
         ],
         "yaxis": "y"
        },
        {
         "alignmentgroup": "True",
         "hovertemplate": "Review Ratings=%{x}<br>Location=The Henry<br>Count=%{text}<extra></extra>",
         "legendgroup": "> 3 stars",
         "marker": {
          "color": "rgb(5,48,97)",
          "line": {
           "color": "black",
           "width": 0.4
          },
          "pattern": {
           "shape": ""
          }
         },
         "name": "> 3 stars",
         "offsetgroup": "> 3 stars",
         "orientation": "v",
         "showlegend": false,
         "text": [
          11
         ],
         "textposition": "auto",
         "type": "bar",
         "x": [
          "> 3 stars"
         ],
         "xaxis": "x2",
         "y": [
          11
         ],
         "yaxis": "y2"
        },
        {
         "alignmentgroup": "True",
         "hovertemplate": "Review Ratings=%{x}<br>Location=Imperial Kennedy<br>Count=%{text}<extra></extra>",
         "legendgroup": "> 3 stars",
         "marker": {
          "color": "rgb(5,48,97)",
          "line": {
           "color": "black",
           "width": 0.4
          },
          "pattern": {
           "shape": ""
          }
         },
         "name": "> 3 stars",
         "offsetgroup": "> 3 stars",
         "orientation": "v",
         "showlegend": false,
         "text": [
          12
         ],
         "textposition": "auto",
         "type": "bar",
         "x": [
          "> 3 stars"
         ],
         "xaxis": "x3",
         "y": [
          12
         ],
         "yaxis": "y3"
        }
       ],
       "layout": {
        "annotations": [
         {
          "font": {},
          "showarrow": false,
          "text": "Location=香港大學",
          "x": 0.16333333333333333,
          "xanchor": "center",
          "xref": "paper",
          "y": 1,
          "yanchor": "bottom",
          "yref": "paper"
         },
         {
          "font": {},
          "showarrow": false,
          "text": "Location=The Henry",
          "x": 0.5,
          "xanchor": "center",
          "xref": "paper",
          "y": 1,
          "yanchor": "bottom",
          "yref": "paper"
         },
         {
          "font": {},
          "showarrow": false,
          "text": "Location=Imperial Kennedy",
          "x": 0.8366666666666667,
          "xanchor": "center",
          "xref": "paper",
          "y": 1,
          "yanchor": "bottom",
          "yref": "paper"
         }
        ],
        "barmode": "relative",
        "height": 400,
        "legend": {
         "bordercolor": "#B0C4DE",
         "borderwidth": 1,
         "orientation": "h",
         "title": {
          "text": "Review Ratings:"
         },
         "tracegroupgap": 0,
         "x": 0.5,
         "xanchor": "center",
         "y": 1.25,
         "yanchor": "top"
        },
        "showlegend": true,
        "template": {
         "data": {
          "bar": [
           {
            "error_x": {
             "color": "#2a3f5f"
            },
            "error_y": {
             "color": "#2a3f5f"
            },
            "marker": {
             "line": {
              "color": "#E5ECF6",
              "width": 0.5
             },
             "pattern": {
              "fillmode": "overlay",
              "size": 10,
              "solidity": 0.2
             }
            },
            "type": "bar"
           }
          ],
          "barpolar": [
           {
            "marker": {
             "line": {
              "color": "#E5ECF6",
              "width": 0.5
             },
             "pattern": {
              "fillmode": "overlay",
              "size": 10,
              "solidity": 0.2
             }
            },
            "type": "barpolar"
           }
          ],
          "carpet": [
           {
            "aaxis": {
             "endlinecolor": "#2a3f5f",
             "gridcolor": "white",
             "linecolor": "white",
             "minorgridcolor": "white",
             "startlinecolor": "#2a3f5f"
            },
            "baxis": {
             "endlinecolor": "#2a3f5f",
             "gridcolor": "white",
             "linecolor": "white",
             "minorgridcolor": "white",
             "startlinecolor": "#2a3f5f"
            },
            "type": "carpet"
           }
          ],
          "choropleth": [
           {
            "colorbar": {
             "outlinewidth": 0,
             "ticks": ""
            },
            "type": "choropleth"
           }
          ],
          "contour": [
           {
            "colorbar": {
             "outlinewidth": 0,
             "ticks": ""
            },
            "colorscale": [
             [
              0,
              "#0d0887"
             ],
             [
              0.1111111111111111,
              "#46039f"
             ],
             [
              0.2222222222222222,
              "#7201a8"
             ],
             [
              0.3333333333333333,
              "#9c179e"
             ],
             [
              0.4444444444444444,
              "#bd3786"
             ],
             [
              0.5555555555555556,
              "#d8576b"
             ],
             [
              0.6666666666666666,
              "#ed7953"
             ],
             [
              0.7777777777777778,
              "#fb9f3a"
             ],
             [
              0.8888888888888888,
              "#fdca26"
             ],
             [
              1,
              "#f0f921"
             ]
            ],
            "type": "contour"
           }
          ],
          "contourcarpet": [
           {
            "colorbar": {
             "outlinewidth": 0,
             "ticks": ""
            },
            "type": "contourcarpet"
           }
          ],
          "heatmap": [
           {
            "colorbar": {
             "outlinewidth": 0,
             "ticks": ""
            },
            "colorscale": [
             [
              0,
              "#0d0887"
             ],
             [
              0.1111111111111111,
              "#46039f"
             ],
             [
              0.2222222222222222,
              "#7201a8"
             ],
             [
              0.3333333333333333,
              "#9c179e"
             ],
             [
              0.4444444444444444,
              "#bd3786"
             ],
             [
              0.5555555555555556,
              "#d8576b"
             ],
             [
              0.6666666666666666,
              "#ed7953"
             ],
             [
              0.7777777777777778,
              "#fb9f3a"
             ],
             [
              0.8888888888888888,
              "#fdca26"
             ],
             [
              1,
              "#f0f921"
             ]
            ],
            "type": "heatmap"
           }
          ],
          "heatmapgl": [
           {
            "colorbar": {
             "outlinewidth": 0,
             "ticks": ""
            },
            "colorscale": [
             [
              0,
              "#0d0887"
             ],
             [
              0.1111111111111111,
              "#46039f"
             ],
             [
              0.2222222222222222,
              "#7201a8"
             ],
             [
              0.3333333333333333,
              "#9c179e"
             ],
             [
              0.4444444444444444,
              "#bd3786"
             ],
             [
              0.5555555555555556,
              "#d8576b"
             ],
             [
              0.6666666666666666,
              "#ed7953"
             ],
             [
              0.7777777777777778,
              "#fb9f3a"
             ],
             [
              0.8888888888888888,
              "#fdca26"
             ],
             [
              1,
              "#f0f921"
             ]
            ],
            "type": "heatmapgl"
           }
          ],
          "histogram": [
           {
            "marker": {
             "pattern": {
              "fillmode": "overlay",
              "size": 10,
              "solidity": 0.2
             }
            },
            "type": "histogram"
           }
          ],
          "histogram2d": [
           {
            "colorbar": {
             "outlinewidth": 0,
             "ticks": ""
            },
            "colorscale": [
             [
              0,
              "#0d0887"
             ],
             [
              0.1111111111111111,
              "#46039f"
             ],
             [
              0.2222222222222222,
              "#7201a8"
             ],
             [
              0.3333333333333333,
              "#9c179e"
             ],
             [
              0.4444444444444444,
              "#bd3786"
             ],
             [
              0.5555555555555556,
              "#d8576b"
             ],
             [
              0.6666666666666666,
              "#ed7953"
             ],
             [
              0.7777777777777778,
              "#fb9f3a"
             ],
             [
              0.8888888888888888,
              "#fdca26"
             ],
             [
              1,
              "#f0f921"
             ]
            ],
            "type": "histogram2d"
           }
          ],
          "histogram2dcontour": [
           {
            "colorbar": {
             "outlinewidth": 0,
             "ticks": ""
            },
            "colorscale": [
             [
              0,
              "#0d0887"
             ],
             [
              0.1111111111111111,
              "#46039f"
             ],
             [
              0.2222222222222222,
              "#7201a8"
             ],
             [
              0.3333333333333333,
              "#9c179e"
             ],
             [
              0.4444444444444444,
              "#bd3786"
             ],
             [
              0.5555555555555556,
              "#d8576b"
             ],
             [
              0.6666666666666666,
              "#ed7953"
             ],
             [
              0.7777777777777778,
              "#fb9f3a"
             ],
             [
              0.8888888888888888,
              "#fdca26"
             ],
             [
              1,
              "#f0f921"
             ]
            ],
            "type": "histogram2dcontour"
           }
          ],
          "mesh3d": [
           {
            "colorbar": {
             "outlinewidth": 0,
             "ticks": ""
            },
            "type": "mesh3d"
           }
          ],
          "parcoords": [
           {
            "line": {
             "colorbar": {
              "outlinewidth": 0,
              "ticks": ""
             }
            },
            "type": "parcoords"
           }
          ],
          "pie": [
           {
            "automargin": true,
            "type": "pie"
           }
          ],
          "scatter": [
           {
            "fillpattern": {
             "fillmode": "overlay",
             "size": 10,
             "solidity": 0.2
            },
            "type": "scatter"
           }
          ],
          "scatter3d": [
           {
            "line": {
             "colorbar": {
              "outlinewidth": 0,
              "ticks": ""
             }
            },
            "marker": {
             "colorbar": {
              "outlinewidth": 0,
              "ticks": ""
             }
            },
            "type": "scatter3d"
           }
          ],
          "scattercarpet": [
           {
            "marker": {
             "colorbar": {
              "outlinewidth": 0,
              "ticks": ""
             }
            },
            "type": "scattercarpet"
           }
          ],
          "scattergeo": [
           {
            "marker": {
             "colorbar": {
              "outlinewidth": 0,
              "ticks": ""
             }
            },
            "type": "scattergeo"
           }
          ],
          "scattergl": [
           {
            "marker": {
             "colorbar": {
              "outlinewidth": 0,
              "ticks": ""
             }
            },
            "type": "scattergl"
           }
          ],
          "scattermapbox": [
           {
            "marker": {
             "colorbar": {
              "outlinewidth": 0,
              "ticks": ""
             }
            },
            "type": "scattermapbox"
           }
          ],
          "scatterpolar": [
           {
            "marker": {
             "colorbar": {
              "outlinewidth": 0,
              "ticks": ""
             }
            },
            "type": "scatterpolar"
           }
          ],
          "scatterpolargl": [
           {
            "marker": {
             "colorbar": {
              "outlinewidth": 0,
              "ticks": ""
             }
            },
            "type": "scatterpolargl"
           }
          ],
          "scatterternary": [
           {
            "marker": {
             "colorbar": {
              "outlinewidth": 0,
              "ticks": ""
             }
            },
            "type": "scatterternary"
           }
          ],
          "surface": [
           {
            "colorbar": {
             "outlinewidth": 0,
             "ticks": ""
            },
            "colorscale": [
             [
              0,
              "#0d0887"
             ],
             [
              0.1111111111111111,
              "#46039f"
             ],
             [
              0.2222222222222222,
              "#7201a8"
             ],
             [
              0.3333333333333333,
              "#9c179e"
             ],
             [
              0.4444444444444444,
              "#bd3786"
             ],
             [
              0.5555555555555556,
              "#d8576b"
             ],
             [
              0.6666666666666666,
              "#ed7953"
             ],
             [
              0.7777777777777778,
              "#fb9f3a"
             ],
             [
              0.8888888888888888,
              "#fdca26"
             ],
             [
              1,
              "#f0f921"
             ]
            ],
            "type": "surface"
           }
          ],
          "table": [
           {
            "cells": {
             "fill": {
              "color": "#EBF0F8"
             },
             "line": {
              "color": "white"
             }
            },
            "header": {
             "fill": {
              "color": "#C8D4E3"
             },
             "line": {
              "color": "white"
             }
            },
            "type": "table"
           }
          ]
         },
         "layout": {
          "annotationdefaults": {
           "arrowcolor": "#2a3f5f",
           "arrowhead": 0,
           "arrowwidth": 1
          },
          "autotypenumbers": "strict",
          "coloraxis": {
           "colorbar": {
            "outlinewidth": 0,
            "ticks": ""
           }
          },
          "colorscale": {
           "diverging": [
            [
             0,
             "#8e0152"
            ],
            [
             0.1,
             "#c51b7d"
            ],
            [
             0.2,
             "#de77ae"
            ],
            [
             0.3,
             "#f1b6da"
            ],
            [
             0.4,
             "#fde0ef"
            ],
            [
             0.5,
             "#f7f7f7"
            ],
            [
             0.6,
             "#e6f5d0"
            ],
            [
             0.7,
             "#b8e186"
            ],
            [
             0.8,
             "#7fbc41"
            ],
            [
             0.9,
             "#4d9221"
            ],
            [
             1,
             "#276419"
            ]
           ],
           "sequential": [
            [
             0,
             "#0d0887"
            ],
            [
             0.1111111111111111,
             "#46039f"
            ],
            [
             0.2222222222222222,
             "#7201a8"
            ],
            [
             0.3333333333333333,
             "#9c179e"
            ],
            [
             0.4444444444444444,
             "#bd3786"
            ],
            [
             0.5555555555555556,
             "#d8576b"
            ],
            [
             0.6666666666666666,
             "#ed7953"
            ],
            [
             0.7777777777777778,
             "#fb9f3a"
            ],
            [
             0.8888888888888888,
             "#fdca26"
            ],
            [
             1,
             "#f0f921"
            ]
           ],
           "sequentialminus": [
            [
             0,
             "#0d0887"
            ],
            [
             0.1111111111111111,
             "#46039f"
            ],
            [
             0.2222222222222222,
             "#7201a8"
            ],
            [
             0.3333333333333333,
             "#9c179e"
            ],
            [
             0.4444444444444444,
             "#bd3786"
            ],
            [
             0.5555555555555556,
             "#d8576b"
            ],
            [
             0.6666666666666666,
             "#ed7953"
            ],
            [
             0.7777777777777778,
             "#fb9f3a"
            ],
            [
             0.8888888888888888,
             "#fdca26"
            ],
            [
             1,
             "#f0f921"
            ]
           ]
          },
          "colorway": [
           "#636efa",
           "#EF553B",
           "#00cc96",
           "#ab63fa",
           "#FFA15A",
           "#19d3f3",
           "#FF6692",
           "#B6E880",
           "#FF97FF",
           "#FECB52"
          ],
          "font": {
           "color": "#2a3f5f"
          },
          "geo": {
           "bgcolor": "white",
           "lakecolor": "white",
           "landcolor": "#E5ECF6",
           "showlakes": true,
           "showland": true,
           "subunitcolor": "white"
          },
          "hoverlabel": {
           "align": "left"
          },
          "hovermode": "closest",
          "mapbox": {
           "style": "light"
          },
          "paper_bgcolor": "white",
          "plot_bgcolor": "#E5ECF6",
          "polar": {
           "angularaxis": {
            "gridcolor": "white",
            "linecolor": "white",
            "ticks": ""
           },
           "bgcolor": "#E5ECF6",
           "radialaxis": {
            "gridcolor": "white",
            "linecolor": "white",
            "ticks": ""
           }
          },
          "scene": {
           "xaxis": {
            "backgroundcolor": "#E5ECF6",
            "gridcolor": "white",
            "gridwidth": 2,
            "linecolor": "white",
            "showbackground": true,
            "ticks": "",
            "zerolinecolor": "white"
           },
           "yaxis": {
            "backgroundcolor": "#E5ECF6",
            "gridcolor": "white",
            "gridwidth": 2,
            "linecolor": "white",
            "showbackground": true,
            "ticks": "",
            "zerolinecolor": "white"
           },
           "zaxis": {
            "backgroundcolor": "#E5ECF6",
            "gridcolor": "white",
            "gridwidth": 2,
            "linecolor": "white",
            "showbackground": true,
            "ticks": "",
            "zerolinecolor": "white"
           }
          },
          "shapedefaults": {
           "line": {
            "color": "#2a3f5f"
           }
          },
          "ternary": {
           "aaxis": {
            "gridcolor": "white",
            "linecolor": "white",
            "ticks": ""
           },
           "baxis": {
            "gridcolor": "white",
            "linecolor": "white",
            "ticks": ""
           },
           "bgcolor": "#E5ECF6",
           "caxis": {
            "gridcolor": "white",
            "linecolor": "white",
            "ticks": ""
           }
          },
          "title": {
           "x": 0.05
          },
          "xaxis": {
           "automargin": true,
           "gridcolor": "white",
           "linecolor": "white",
           "ticks": "",
           "title": {
            "standoff": 15
           },
           "zerolinecolor": "white",
           "zerolinewidth": 2
          },
          "yaxis": {
           "automargin": true,
           "gridcolor": "white",
           "linecolor": "white",
           "ticks": "",
           "title": {
            "standoff": 15
           },
           "zerolinecolor": "white",
           "zerolinewidth": 2
          }
         }
        },
        "title": {
         "text": "Bar Chart of the Ratings (Overview)",
         "x": 0.5,
         "xanchor": "center",
         "y": 0.95,
         "yanchor": "top"
        },
        "width": 600,
        "xaxis": {
         "anchor": "y",
         "categoryarray": [
          "<= 3 stars",
          "> 3 stars"
         ],
         "categoryorder": "array",
         "domain": [
          0,
          0.32666666666666666
         ],
         "title": {
          "text": "Review Ratings"
         }
        },
        "xaxis2": {
         "anchor": "y2",
         "categoryarray": [
          "<= 3 stars",
          "> 3 stars"
         ],
         "categoryorder": "array",
         "domain": [
          0.33666666666666667,
          0.6633333333333333
         ],
         "matches": "x",
         "title": {
          "text": "Review Ratings"
         }
        },
        "xaxis3": {
         "anchor": "y3",
         "categoryarray": [
          "<= 3 stars",
          "> 3 stars"
         ],
         "categoryorder": "array",
         "domain": [
          0.6733333333333333,
          1
         ],
         "matches": "x",
         "title": {
          "text": "Review Ratings"
         }
        },
        "yaxis": {
         "anchor": "x",
         "domain": [
          0,
          1
         ],
         "title": {
          "text": "Count"
         }
        },
        "yaxis2": {
         "anchor": "x2",
         "domain": [
          0,
          1
         ],
         "matches": "y",
         "showticklabels": false
        },
        "yaxis3": {
         "anchor": "x3",
         "domain": [
          0,
          1
         ],
         "matches": "y",
         "showticklabels": false
        }
       }
      },
      "text/html": [
       "<div>                            <div id=\"571a4af3-f6dd-440d-a938-2dfee555d6ee\" class=\"plotly-graph-div\" style=\"height:400px; width:600px;\"></div>            <script type=\"text/javascript\">                require([\"plotly\"], function(Plotly) {                    window.PLOTLYENV=window.PLOTLYENV || {};                                    if (document.getElementById(\"571a4af3-f6dd-440d-a938-2dfee555d6ee\")) {                    Plotly.newPlot(                        \"571a4af3-f6dd-440d-a938-2dfee555d6ee\",                        [{\"alignmentgroup\":\"True\",\"hovertemplate\":\"Review Ratings=%{x}<br>Location=\\u9999\\u6e2f\\u5927\\u5b78<br>Count=%{text}<extra></extra>\",\"legendgroup\":\"<= 3 stars\",\"marker\":{\"color\":\"rgb(103,0,31)\",\"pattern\":{\"shape\":\"\"},\"line\":{\"color\":\"black\",\"width\":0.4}},\"name\":\"<= 3 stars\",\"offsetgroup\":\"<= 3 stars\",\"orientation\":\"v\",\"showlegend\":true,\"text\":[7.0],\"textposition\":\"auto\",\"x\":[\"<= 3 stars\"],\"xaxis\":\"x\",\"y\":[7],\"yaxis\":\"y\",\"type\":\"bar\"},{\"alignmentgroup\":\"True\",\"hovertemplate\":\"Review Ratings=%{x}<br>Location=The Henry<br>Count=%{text}<extra></extra>\",\"legendgroup\":\"<= 3 stars\",\"marker\":{\"color\":\"rgb(103,0,31)\",\"pattern\":{\"shape\":\"\"},\"line\":{\"color\":\"black\",\"width\":0.4}},\"name\":\"<= 3 stars\",\"offsetgroup\":\"<= 3 stars\",\"orientation\":\"v\",\"showlegend\":false,\"text\":[9.0],\"textposition\":\"auto\",\"x\":[\"<= 3 stars\"],\"xaxis\":\"x2\",\"y\":[9],\"yaxis\":\"y2\",\"type\":\"bar\"},{\"alignmentgroup\":\"True\",\"hovertemplate\":\"Review Ratings=%{x}<br>Location=Imperial Kennedy<br>Count=%{text}<extra></extra>\",\"legendgroup\":\"<= 3 stars\",\"marker\":{\"color\":\"rgb(103,0,31)\",\"pattern\":{\"shape\":\"\"},\"line\":{\"color\":\"black\",\"width\":0.4}},\"name\":\"<= 3 stars\",\"offsetgroup\":\"<= 3 stars\",\"orientation\":\"v\",\"showlegend\":false,\"text\":[8.0],\"textposition\":\"auto\",\"x\":[\"<= 3 stars\"],\"xaxis\":\"x3\",\"y\":[8],\"yaxis\":\"y3\",\"type\":\"bar\"},{\"alignmentgroup\":\"True\",\"hovertemplate\":\"Review Ratings=%{x}<br>Location=\\u9999\\u6e2f\\u5927\\u5b78<br>Count=%{text}<extra></extra>\",\"legendgroup\":\"> 3 stars\",\"marker\":{\"color\":\"rgb(5,48,97)\",\"pattern\":{\"shape\":\"\"},\"line\":{\"color\":\"black\",\"width\":0.4}},\"name\":\"> 3 stars\",\"offsetgroup\":\"> 3 stars\",\"orientation\":\"v\",\"showlegend\":true,\"text\":[13.0],\"textposition\":\"auto\",\"x\":[\"> 3 stars\"],\"xaxis\":\"x\",\"y\":[13],\"yaxis\":\"y\",\"type\":\"bar\"},{\"alignmentgroup\":\"True\",\"hovertemplate\":\"Review Ratings=%{x}<br>Location=The Henry<br>Count=%{text}<extra></extra>\",\"legendgroup\":\"> 3 stars\",\"marker\":{\"color\":\"rgb(5,48,97)\",\"pattern\":{\"shape\":\"\"},\"line\":{\"color\":\"black\",\"width\":0.4}},\"name\":\"> 3 stars\",\"offsetgroup\":\"> 3 stars\",\"orientation\":\"v\",\"showlegend\":false,\"text\":[11.0],\"textposition\":\"auto\",\"x\":[\"> 3 stars\"],\"xaxis\":\"x2\",\"y\":[11],\"yaxis\":\"y2\",\"type\":\"bar\"},{\"alignmentgroup\":\"True\",\"hovertemplate\":\"Review Ratings=%{x}<br>Location=Imperial Kennedy<br>Count=%{text}<extra></extra>\",\"legendgroup\":\"> 3 stars\",\"marker\":{\"color\":\"rgb(5,48,97)\",\"pattern\":{\"shape\":\"\"},\"line\":{\"color\":\"black\",\"width\":0.4}},\"name\":\"> 3 stars\",\"offsetgroup\":\"> 3 stars\",\"orientation\":\"v\",\"showlegend\":false,\"text\":[12.0],\"textposition\":\"auto\",\"x\":[\"> 3 stars\"],\"xaxis\":\"x3\",\"y\":[12],\"yaxis\":\"y3\",\"type\":\"bar\"}],                        {\"template\":{\"data\":{\"histogram2dcontour\":[{\"type\":\"histogram2dcontour\",\"colorbar\":{\"outlinewidth\":0,\"ticks\":\"\"},\"colorscale\":[[0.0,\"#0d0887\"],[0.1111111111111111,\"#46039f\"],[0.2222222222222222,\"#7201a8\"],[0.3333333333333333,\"#9c179e\"],[0.4444444444444444,\"#bd3786\"],[0.5555555555555556,\"#d8576b\"],[0.6666666666666666,\"#ed7953\"],[0.7777777777777778,\"#fb9f3a\"],[0.8888888888888888,\"#fdca26\"],[1.0,\"#f0f921\"]]}],\"choropleth\":[{\"type\":\"choropleth\",\"colorbar\":{\"outlinewidth\":0,\"ticks\":\"\"}}],\"histogram2d\":[{\"type\":\"histogram2d\",\"colorbar\":{\"outlinewidth\":0,\"ticks\":\"\"},\"colorscale\":[[0.0,\"#0d0887\"],[0.1111111111111111,\"#46039f\"],[0.2222222222222222,\"#7201a8\"],[0.3333333333333333,\"#9c179e\"],[0.4444444444444444,\"#bd3786\"],[0.5555555555555556,\"#d8576b\"],[0.6666666666666666,\"#ed7953\"],[0.7777777777777778,\"#fb9f3a\"],[0.8888888888888888,\"#fdca26\"],[1.0,\"#f0f921\"]]}],\"heatmap\":[{\"type\":\"heatmap\",\"colorbar\":{\"outlinewidth\":0,\"ticks\":\"\"},\"colorscale\":[[0.0,\"#0d0887\"],[0.1111111111111111,\"#46039f\"],[0.2222222222222222,\"#7201a8\"],[0.3333333333333333,\"#9c179e\"],[0.4444444444444444,\"#bd3786\"],[0.5555555555555556,\"#d8576b\"],[0.6666666666666666,\"#ed7953\"],[0.7777777777777778,\"#fb9f3a\"],[0.8888888888888888,\"#fdca26\"],[1.0,\"#f0f921\"]]}],\"heatmapgl\":[{\"type\":\"heatmapgl\",\"colorbar\":{\"outlinewidth\":0,\"ticks\":\"\"},\"colorscale\":[[0.0,\"#0d0887\"],[0.1111111111111111,\"#46039f\"],[0.2222222222222222,\"#7201a8\"],[0.3333333333333333,\"#9c179e\"],[0.4444444444444444,\"#bd3786\"],[0.5555555555555556,\"#d8576b\"],[0.6666666666666666,\"#ed7953\"],[0.7777777777777778,\"#fb9f3a\"],[0.8888888888888888,\"#fdca26\"],[1.0,\"#f0f921\"]]}],\"contourcarpet\":[{\"type\":\"contourcarpet\",\"colorbar\":{\"outlinewidth\":0,\"ticks\":\"\"}}],\"contour\":[{\"type\":\"contour\",\"colorbar\":{\"outlinewidth\":0,\"ticks\":\"\"},\"colorscale\":[[0.0,\"#0d0887\"],[0.1111111111111111,\"#46039f\"],[0.2222222222222222,\"#7201a8\"],[0.3333333333333333,\"#9c179e\"],[0.4444444444444444,\"#bd3786\"],[0.5555555555555556,\"#d8576b\"],[0.6666666666666666,\"#ed7953\"],[0.7777777777777778,\"#fb9f3a\"],[0.8888888888888888,\"#fdca26\"],[1.0,\"#f0f921\"]]}],\"surface\":[{\"type\":\"surface\",\"colorbar\":{\"outlinewidth\":0,\"ticks\":\"\"},\"colorscale\":[[0.0,\"#0d0887\"],[0.1111111111111111,\"#46039f\"],[0.2222222222222222,\"#7201a8\"],[0.3333333333333333,\"#9c179e\"],[0.4444444444444444,\"#bd3786\"],[0.5555555555555556,\"#d8576b\"],[0.6666666666666666,\"#ed7953\"],[0.7777777777777778,\"#fb9f3a\"],[0.8888888888888888,\"#fdca26\"],[1.0,\"#f0f921\"]]}],\"mesh3d\":[{\"type\":\"mesh3d\",\"colorbar\":{\"outlinewidth\":0,\"ticks\":\"\"}}],\"scatter\":[{\"fillpattern\":{\"fillmode\":\"overlay\",\"size\":10,\"solidity\":0.2},\"type\":\"scatter\"}],\"parcoords\":[{\"type\":\"parcoords\",\"line\":{\"colorbar\":{\"outlinewidth\":0,\"ticks\":\"\"}}}],\"scatterpolargl\":[{\"type\":\"scatterpolargl\",\"marker\":{\"colorbar\":{\"outlinewidth\":0,\"ticks\":\"\"}}}],\"bar\":[{\"error_x\":{\"color\":\"#2a3f5f\"},\"error_y\":{\"color\":\"#2a3f5f\"},\"marker\":{\"line\":{\"color\":\"#E5ECF6\",\"width\":0.5},\"pattern\":{\"fillmode\":\"overlay\",\"size\":10,\"solidity\":0.2}},\"type\":\"bar\"}],\"scattergeo\":[{\"type\":\"scattergeo\",\"marker\":{\"colorbar\":{\"outlinewidth\":0,\"ticks\":\"\"}}}],\"scatterpolar\":[{\"type\":\"scatterpolar\",\"marker\":{\"colorbar\":{\"outlinewidth\":0,\"ticks\":\"\"}}}],\"histogram\":[{\"marker\":{\"pattern\":{\"fillmode\":\"overlay\",\"size\":10,\"solidity\":0.2}},\"type\":\"histogram\"}],\"scattergl\":[{\"type\":\"scattergl\",\"marker\":{\"colorbar\":{\"outlinewidth\":0,\"ticks\":\"\"}}}],\"scatter3d\":[{\"type\":\"scatter3d\",\"line\":{\"colorbar\":{\"outlinewidth\":0,\"ticks\":\"\"}},\"marker\":{\"colorbar\":{\"outlinewidth\":0,\"ticks\":\"\"}}}],\"scattermapbox\":[{\"type\":\"scattermapbox\",\"marker\":{\"colorbar\":{\"outlinewidth\":0,\"ticks\":\"\"}}}],\"scatterternary\":[{\"type\":\"scatterternary\",\"marker\":{\"colorbar\":{\"outlinewidth\":0,\"ticks\":\"\"}}}],\"scattercarpet\":[{\"type\":\"scattercarpet\",\"marker\":{\"colorbar\":{\"outlinewidth\":0,\"ticks\":\"\"}}}],\"carpet\":[{\"aaxis\":{\"endlinecolor\":\"#2a3f5f\",\"gridcolor\":\"white\",\"linecolor\":\"white\",\"minorgridcolor\":\"white\",\"startlinecolor\":\"#2a3f5f\"},\"baxis\":{\"endlinecolor\":\"#2a3f5f\",\"gridcolor\":\"white\",\"linecolor\":\"white\",\"minorgridcolor\":\"white\",\"startlinecolor\":\"#2a3f5f\"},\"type\":\"carpet\"}],\"table\":[{\"cells\":{\"fill\":{\"color\":\"#EBF0F8\"},\"line\":{\"color\":\"white\"}},\"header\":{\"fill\":{\"color\":\"#C8D4E3\"},\"line\":{\"color\":\"white\"}},\"type\":\"table\"}],\"barpolar\":[{\"marker\":{\"line\":{\"color\":\"#E5ECF6\",\"width\":0.5},\"pattern\":{\"fillmode\":\"overlay\",\"size\":10,\"solidity\":0.2}},\"type\":\"barpolar\"}],\"pie\":[{\"automargin\":true,\"type\":\"pie\"}]},\"layout\":{\"autotypenumbers\":\"strict\",\"colorway\":[\"#636efa\",\"#EF553B\",\"#00cc96\",\"#ab63fa\",\"#FFA15A\",\"#19d3f3\",\"#FF6692\",\"#B6E880\",\"#FF97FF\",\"#FECB52\"],\"font\":{\"color\":\"#2a3f5f\"},\"hovermode\":\"closest\",\"hoverlabel\":{\"align\":\"left\"},\"paper_bgcolor\":\"white\",\"plot_bgcolor\":\"#E5ECF6\",\"polar\":{\"bgcolor\":\"#E5ECF6\",\"angularaxis\":{\"gridcolor\":\"white\",\"linecolor\":\"white\",\"ticks\":\"\"},\"radialaxis\":{\"gridcolor\":\"white\",\"linecolor\":\"white\",\"ticks\":\"\"}},\"ternary\":{\"bgcolor\":\"#E5ECF6\",\"aaxis\":{\"gridcolor\":\"white\",\"linecolor\":\"white\",\"ticks\":\"\"},\"baxis\":{\"gridcolor\":\"white\",\"linecolor\":\"white\",\"ticks\":\"\"},\"caxis\":{\"gridcolor\":\"white\",\"linecolor\":\"white\",\"ticks\":\"\"}},\"coloraxis\":{\"colorbar\":{\"outlinewidth\":0,\"ticks\":\"\"}},\"colorscale\":{\"sequential\":[[0.0,\"#0d0887\"],[0.1111111111111111,\"#46039f\"],[0.2222222222222222,\"#7201a8\"],[0.3333333333333333,\"#9c179e\"],[0.4444444444444444,\"#bd3786\"],[0.5555555555555556,\"#d8576b\"],[0.6666666666666666,\"#ed7953\"],[0.7777777777777778,\"#fb9f3a\"],[0.8888888888888888,\"#fdca26\"],[1.0,\"#f0f921\"]],\"sequentialminus\":[[0.0,\"#0d0887\"],[0.1111111111111111,\"#46039f\"],[0.2222222222222222,\"#7201a8\"],[0.3333333333333333,\"#9c179e\"],[0.4444444444444444,\"#bd3786\"],[0.5555555555555556,\"#d8576b\"],[0.6666666666666666,\"#ed7953\"],[0.7777777777777778,\"#fb9f3a\"],[0.8888888888888888,\"#fdca26\"],[1.0,\"#f0f921\"]],\"diverging\":[[0,\"#8e0152\"],[0.1,\"#c51b7d\"],[0.2,\"#de77ae\"],[0.3,\"#f1b6da\"],[0.4,\"#fde0ef\"],[0.5,\"#f7f7f7\"],[0.6,\"#e6f5d0\"],[0.7,\"#b8e186\"],[0.8,\"#7fbc41\"],[0.9,\"#4d9221\"],[1,\"#276419\"]]},\"xaxis\":{\"gridcolor\":\"white\",\"linecolor\":\"white\",\"ticks\":\"\",\"title\":{\"standoff\":15},\"zerolinecolor\":\"white\",\"automargin\":true,\"zerolinewidth\":2},\"yaxis\":{\"gridcolor\":\"white\",\"linecolor\":\"white\",\"ticks\":\"\",\"title\":{\"standoff\":15},\"zerolinecolor\":\"white\",\"automargin\":true,\"zerolinewidth\":2},\"scene\":{\"xaxis\":{\"backgroundcolor\":\"#E5ECF6\",\"gridcolor\":\"white\",\"linecolor\":\"white\",\"showbackground\":true,\"ticks\":\"\",\"zerolinecolor\":\"white\",\"gridwidth\":2},\"yaxis\":{\"backgroundcolor\":\"#E5ECF6\",\"gridcolor\":\"white\",\"linecolor\":\"white\",\"showbackground\":true,\"ticks\":\"\",\"zerolinecolor\":\"white\",\"gridwidth\":2},\"zaxis\":{\"backgroundcolor\":\"#E5ECF6\",\"gridcolor\":\"white\",\"linecolor\":\"white\",\"showbackground\":true,\"ticks\":\"\",\"zerolinecolor\":\"white\",\"gridwidth\":2}},\"shapedefaults\":{\"line\":{\"color\":\"#2a3f5f\"}},\"annotationdefaults\":{\"arrowcolor\":\"#2a3f5f\",\"arrowhead\":0,\"arrowwidth\":1},\"geo\":{\"bgcolor\":\"white\",\"landcolor\":\"#E5ECF6\",\"subunitcolor\":\"white\",\"showland\":true,\"showlakes\":true,\"lakecolor\":\"white\"},\"title\":{\"x\":0.05},\"mapbox\":{\"style\":\"light\"}}},\"xaxis\":{\"anchor\":\"y\",\"domain\":[0.0,0.32666666666666666],\"title\":{\"text\":\"Review Ratings\"},\"categoryorder\":\"array\",\"categoryarray\":[\"<= 3 stars\",\"> 3 stars\"]},\"yaxis\":{\"anchor\":\"x\",\"domain\":[0.0,1.0],\"title\":{\"text\":\"Count\"}},\"xaxis2\":{\"anchor\":\"y2\",\"domain\":[0.33666666666666667,0.6633333333333333],\"matches\":\"x\",\"title\":{\"text\":\"Review Ratings\"},\"categoryorder\":\"array\",\"categoryarray\":[\"<= 3 stars\",\"> 3 stars\"]},\"yaxis2\":{\"anchor\":\"x2\",\"domain\":[0.0,1.0],\"matches\":\"y\",\"showticklabels\":false},\"xaxis3\":{\"anchor\":\"y3\",\"domain\":[0.6733333333333333,1.0],\"matches\":\"x\",\"title\":{\"text\":\"Review Ratings\"},\"categoryorder\":\"array\",\"categoryarray\":[\"<= 3 stars\",\"> 3 stars\"]},\"yaxis3\":{\"anchor\":\"x3\",\"domain\":[0.0,1.0],\"matches\":\"y\",\"showticklabels\":false},\"annotations\":[{\"font\":{},\"showarrow\":false,\"text\":\"Location=\\u9999\\u6e2f\\u5927\\u5b78\",\"x\":0.16333333333333333,\"xanchor\":\"center\",\"xref\":\"paper\",\"y\":1.0,\"yanchor\":\"bottom\",\"yref\":\"paper\"},{\"font\":{},\"showarrow\":false,\"text\":\"Location=The Henry\",\"x\":0.5,\"xanchor\":\"center\",\"xref\":\"paper\",\"y\":1.0,\"yanchor\":\"bottom\",\"yref\":\"paper\"},{\"font\":{},\"showarrow\":false,\"text\":\"Location=Imperial Kennedy\",\"x\":0.8366666666666667,\"xanchor\":\"center\",\"xref\":\"paper\",\"y\":1.0,\"yanchor\":\"bottom\",\"yref\":\"paper\"}],\"legend\":{\"title\":{\"text\":\"Review Ratings:\"},\"tracegroupgap\":0,\"orientation\":\"h\",\"yanchor\":\"top\",\"y\":1.25,\"xanchor\":\"center\",\"x\":0.5,\"bordercolor\":\"#B0C4DE\",\"borderwidth\":1},\"title\":{\"text\":\"Bar Chart of the Ratings (Overview)\",\"y\":0.95,\"x\":0.5,\"xanchor\":\"center\",\"yanchor\":\"top\"},\"barmode\":\"relative\",\"showlegend\":true,\"width\":600,\"height\":400},                        {\"responsive\": true}                    ).then(function(){\n",
       "                            \n",
       "var gd = document.getElementById('571a4af3-f6dd-440d-a938-2dfee555d6ee');\n",
       "var x = new MutationObserver(function (mutations, observer) {{\n",
       "        var display = window.getComputedStyle(gd).display;\n",
       "        if (!display || display === 'none') {{\n",
       "            console.log([gd, 'removed!']);\n",
       "            Plotly.purge(gd);\n",
       "            observer.disconnect();\n",
       "        }}\n",
       "}});\n",
       "\n",
       "// Listen for the removal of the full notebook cells\n",
       "var notebookContainer = gd.closest('#notebook-container');\n",
       "if (notebookContainer) {{\n",
       "    x.observe(notebookContainer, {childList: true});\n",
       "}}\n",
       "\n",
       "// Listen for the clearing of the current output cell\n",
       "var outputEl = gd.closest('.output');\n",
       "if (outputEl) {{\n",
       "    x.observe(outputEl, {childList: true});\n",
       "}}\n",
       "\n",
       "                        })                };                });            </script>        </div>"
      ]
     },
     "metadata": {},
     "output_type": "display_data"
    }
   ],
   "source": [
    "color_sequence = px.colors.sequential.RdBu\n",
    "\n",
    "n_colors = 2\n",
    "color_range = [i*(len(color_sequence)-1)//(n_colors-1) for i in range(n_colors)]\n",
    "color_list = [color_sequence[idx] for idx in color_range]\n",
    "\n",
    "fig = px.bar(stats_rate_df, \n",
    "             x=\"review_rating_category\", y=\"count\", \n",
    "             color=\"review_rating_category\", color_discrete_sequence =color_list,\n",
    "             text = \"count\",\n",
    "             facet_col=\"location_name\",\n",
    "             facet_col_spacing =0.01,\n",
    "             labels={\"count\":\"Count\", \n",
    "                     \"review_rating_category\":\"Review Ratings\",\n",
    "                    \"location_name\": \"Location\"},\n",
    "             title = \"Bar Chart of the Ratings (Overview)\"\n",
    "            )\n",
    "\n",
    "fig.update_traces(marker_line_color='black', marker_line_width=0.4)\n",
    "fig.update_layout(showlegend=True,\n",
    "                  legend=dict(title=\"Review Ratings:\", orientation='h', yanchor='top',y=1.25,xanchor='center',x=0.5, bordercolor=\"#B0C4DE\", borderwidth=1),\n",
    "                  title=dict(y=0.95, x=0.5, xanchor='center', yanchor='top'), \n",
    "                  width=600, height=400\n",
    "                 )\n",
    "\n",
    "fig.write_image(\"1bar_overview.jpeg\")\n",
    "fig.show()\n"
   ]
  },
  {
   "cell_type": "markdown",
   "id": "126e6551",
   "metadata": {},
   "source": [
    "### Bar plot of the ratings based on ratings values"
   ]
  },
  {
   "cell_type": "code",
   "execution_count": 25,
   "id": "3896918e",
   "metadata": {},
   "outputs": [
    {
     "data": {
      "text/html": [
       "<div>\n",
       "<style scoped>\n",
       "    .dataframe tbody tr th:only-of-type {\n",
       "        vertical-align: middle;\n",
       "    }\n",
       "\n",
       "    .dataframe tbody tr th {\n",
       "        vertical-align: top;\n",
       "    }\n",
       "\n",
       "    .dataframe thead th {\n",
       "        text-align: right;\n",
       "    }\n",
       "</style>\n",
       "<table border=\"1\" class=\"dataframe\">\n",
       "  <thead>\n",
       "    <tr style=\"text-align: right;\">\n",
       "      <th></th>\n",
       "      <th>location_id</th>\n",
       "      <th>location_name</th>\n",
       "      <th>review_rating</th>\n",
       "      <th>review_date</th>\n",
       "      <th>count</th>\n",
       "    </tr>\n",
       "  </thead>\n",
       "  <tbody>\n",
       "    <tr>\n",
       "      <th>0</th>\n",
       "      <td>id_33</td>\n",
       "      <td>香港大學</td>\n",
       "      <td>1</td>\n",
       "      <td>&lt;= a year</td>\n",
       "      <td>2</td>\n",
       "    </tr>\n",
       "    <tr>\n",
       "      <th>1</th>\n",
       "      <td>id_33</td>\n",
       "      <td>香港大學</td>\n",
       "      <td>1</td>\n",
       "      <td>&gt; a year</td>\n",
       "      <td>3</td>\n",
       "    </tr>\n",
       "    <tr>\n",
       "      <th>2</th>\n",
       "      <td>id_33</td>\n",
       "      <td>香港大學</td>\n",
       "      <td>3</td>\n",
       "      <td>&gt; a year</td>\n",
       "      <td>2</td>\n",
       "    </tr>\n",
       "    <tr>\n",
       "      <th>3</th>\n",
       "      <td>id_33</td>\n",
       "      <td>香港大學</td>\n",
       "      <td>4</td>\n",
       "      <td>&lt;= a year</td>\n",
       "      <td>1</td>\n",
       "    </tr>\n",
       "    <tr>\n",
       "      <th>4</th>\n",
       "      <td>id_33</td>\n",
       "      <td>香港大學</td>\n",
       "      <td>4</td>\n",
       "      <td>&gt; a year</td>\n",
       "      <td>3</td>\n",
       "    </tr>\n",
       "    <tr>\n",
       "      <th>5</th>\n",
       "      <td>id_33</td>\n",
       "      <td>香港大學</td>\n",
       "      <td>5</td>\n",
       "      <td>&gt; a year</td>\n",
       "      <td>9</td>\n",
       "    </tr>\n",
       "    <tr>\n",
       "      <th>6</th>\n",
       "      <td>id_48</td>\n",
       "      <td>The Henry</td>\n",
       "      <td>1</td>\n",
       "      <td>&lt;= a year</td>\n",
       "      <td>2</td>\n",
       "    </tr>\n",
       "    <tr>\n",
       "      <th>7</th>\n",
       "      <td>id_48</td>\n",
       "      <td>The Henry</td>\n",
       "      <td>2</td>\n",
       "      <td>&gt; a year</td>\n",
       "      <td>3</td>\n",
       "    </tr>\n",
       "    <tr>\n",
       "      <th>8</th>\n",
       "      <td>id_48</td>\n",
       "      <td>The Henry</td>\n",
       "      <td>3</td>\n",
       "      <td>&gt; a year</td>\n",
       "      <td>4</td>\n",
       "    </tr>\n",
       "    <tr>\n",
       "      <th>9</th>\n",
       "      <td>id_48</td>\n",
       "      <td>The Henry</td>\n",
       "      <td>4</td>\n",
       "      <td>&gt; a year</td>\n",
       "      <td>7</td>\n",
       "    </tr>\n",
       "    <tr>\n",
       "      <th>10</th>\n",
       "      <td>id_48</td>\n",
       "      <td>The Henry</td>\n",
       "      <td>5</td>\n",
       "      <td>&lt;= a year</td>\n",
       "      <td>1</td>\n",
       "    </tr>\n",
       "    <tr>\n",
       "      <th>11</th>\n",
       "      <td>id_48</td>\n",
       "      <td>The Henry</td>\n",
       "      <td>5</td>\n",
       "      <td>&gt; a year</td>\n",
       "      <td>3</td>\n",
       "    </tr>\n",
       "    <tr>\n",
       "      <th>12</th>\n",
       "      <td>id_93</td>\n",
       "      <td>Imperial Kennedy</td>\n",
       "      <td>1</td>\n",
       "      <td>&gt; a year</td>\n",
       "      <td>1</td>\n",
       "    </tr>\n",
       "    <tr>\n",
       "      <th>13</th>\n",
       "      <td>id_93</td>\n",
       "      <td>Imperial Kennedy</td>\n",
       "      <td>2</td>\n",
       "      <td>&gt; a year</td>\n",
       "      <td>4</td>\n",
       "    </tr>\n",
       "    <tr>\n",
       "      <th>14</th>\n",
       "      <td>id_93</td>\n",
       "      <td>Imperial Kennedy</td>\n",
       "      <td>3</td>\n",
       "      <td>&gt; a year</td>\n",
       "      <td>3</td>\n",
       "    </tr>\n",
       "    <tr>\n",
       "      <th>15</th>\n",
       "      <td>id_93</td>\n",
       "      <td>Imperial Kennedy</td>\n",
       "      <td>4</td>\n",
       "      <td>&lt;= a year</td>\n",
       "      <td>1</td>\n",
       "    </tr>\n",
       "    <tr>\n",
       "      <th>16</th>\n",
       "      <td>id_93</td>\n",
       "      <td>Imperial Kennedy</td>\n",
       "      <td>4</td>\n",
       "      <td>&gt; a year</td>\n",
       "      <td>3</td>\n",
       "    </tr>\n",
       "    <tr>\n",
       "      <th>17</th>\n",
       "      <td>id_93</td>\n",
       "      <td>Imperial Kennedy</td>\n",
       "      <td>5</td>\n",
       "      <td>&lt;= a year</td>\n",
       "      <td>2</td>\n",
       "    </tr>\n",
       "    <tr>\n",
       "      <th>18</th>\n",
       "      <td>id_93</td>\n",
       "      <td>Imperial Kennedy</td>\n",
       "      <td>5</td>\n",
       "      <td>&gt; a year</td>\n",
       "      <td>6</td>\n",
       "    </tr>\n",
       "  </tbody>\n",
       "</table>\n",
       "</div>"
      ],
      "text/plain": [
       "   location_id     location_name review_rating review_date  count\n",
       "0        id_33              香港大學             1   <= a year      2\n",
       "1        id_33              香港大學             1    > a year      3\n",
       "2        id_33              香港大學             3    > a year      2\n",
       "3        id_33              香港大學             4   <= a year      1\n",
       "4        id_33              香港大學             4    > a year      3\n",
       "5        id_33              香港大學             5    > a year      9\n",
       "6        id_48         The Henry             1   <= a year      2\n",
       "7        id_48         The Henry             2    > a year      3\n",
       "8        id_48         The Henry             3    > a year      4\n",
       "9        id_48         The Henry             4    > a year      7\n",
       "10       id_48         The Henry             5   <= a year      1\n",
       "11       id_48         The Henry             5    > a year      3\n",
       "12       id_93  Imperial Kennedy             1    > a year      1\n",
       "13       id_93  Imperial Kennedy             2    > a year      4\n",
       "14       id_93  Imperial Kennedy             3    > a year      3\n",
       "15       id_93  Imperial Kennedy             4   <= a year      1\n",
       "16       id_93  Imperial Kennedy             4    > a year      3\n",
       "17       id_93  Imperial Kennedy             5   <= a year      2\n",
       "18       id_93  Imperial Kennedy             5    > a year      6"
      ]
     },
     "execution_count": 25,
     "metadata": {},
     "output_type": "execute_result"
    }
   ],
   "source": [
    "stats_df = pd.DataFrame(data.groupby(['location_id','location_name', 'review_rating', 'review_date']).size().reset_index(name=\"count\"))\n",
    "stats_df.review_rating = stats_df.review_rating.astype(str)\n",
    "stats_df"
   ]
  },
  {
   "cell_type": "code",
   "execution_count": 39,
   "id": "6a422e08",
   "metadata": {},
   "outputs": [
    {
     "data": {
      "application/vnd.plotly.v1+json": {
       "config": {
        "plotlyServerURL": "https://plot.ly"
       },
       "data": [
        {
         "alignmentgroup": "True",
         "hovertemplate": "Review Ratings=%{x}<br>Location=香港大學<br>Count=%{y}<br>review_date=%{text}<extra></extra>",
         "legendgroup": "1",
         "marker": {
          "color": "rgb(103,0,31)",
          "line": {
           "color": "black",
           "width": 0.4
          },
          "pattern": {
           "shape": ""
          }
         },
         "name": "1",
         "offsetgroup": "1",
         "orientation": "v",
         "showlegend": true,
         "text": [
          "<= a year",
          "> a year"
         ],
         "textangle": 45,
         "textfont": {
          "size": 10
         },
         "textposition": "inside",
         "texttemplate": "%{text}",
         "type": "bar",
         "x": [
          "1",
          "1"
         ],
         "xaxis": "x",
         "y": [
          2,
          3
         ],
         "yaxis": "y"
        },
        {
         "alignmentgroup": "True",
         "hovertemplate": "Review Ratings=%{x}<br>Location=The Henry<br>Count=%{y}<br>review_date=%{text}<extra></extra>",
         "legendgroup": "1",
         "marker": {
          "color": "rgb(103,0,31)",
          "line": {
           "color": "black",
           "width": 0.4
          },
          "pattern": {
           "shape": ""
          }
         },
         "name": "1",
         "offsetgroup": "1",
         "orientation": "v",
         "showlegend": false,
         "text": [
          "<= a year"
         ],
         "textangle": 45,
         "textfont": {
          "size": 10
         },
         "textposition": "inside",
         "texttemplate": "%{text}",
         "type": "bar",
         "x": [
          "1"
         ],
         "xaxis": "x2",
         "y": [
          2
         ],
         "yaxis": "y2"
        },
        {
         "alignmentgroup": "True",
         "hovertemplate": "Review Ratings=%{x}<br>Location=Imperial Kennedy<br>Count=%{y}<br>review_date=%{text}<extra></extra>",
         "legendgroup": "1",
         "marker": {
          "color": "rgb(103,0,31)",
          "line": {
           "color": "black",
           "width": 0.4
          },
          "pattern": {
           "shape": ""
          }
         },
         "name": "1",
         "offsetgroup": "1",
         "orientation": "v",
         "showlegend": false,
         "text": [
          "> a year"
         ],
         "textangle": 45,
         "textfont": {
          "size": 10
         },
         "textposition": "inside",
         "texttemplate": "%{text}",
         "type": "bar",
         "x": [
          "1"
         ],
         "xaxis": "x3",
         "y": [
          1
         ],
         "yaxis": "y3"
        },
        {
         "alignmentgroup": "True",
         "hovertemplate": "Review Ratings=%{x}<br>Location=香港大學<br>Count=%{y}<br>review_date=%{text}<extra></extra>",
         "legendgroup": "3",
         "marker": {
          "color": "rgb(247,247,247)",
          "line": {
           "color": "black",
           "width": 0.4
          },
          "pattern": {
           "shape": ""
          }
         },
         "name": "3",
         "offsetgroup": "3",
         "orientation": "v",
         "showlegend": true,
         "text": [
          "> a year"
         ],
         "textangle": 45,
         "textfont": {
          "size": 10
         },
         "textposition": "inside",
         "texttemplate": "%{text}",
         "type": "bar",
         "x": [
          "3"
         ],
         "xaxis": "x",
         "y": [
          2
         ],
         "yaxis": "y"
        },
        {
         "alignmentgroup": "True",
         "hovertemplate": "Review Ratings=%{x}<br>Location=The Henry<br>Count=%{y}<br>review_date=%{text}<extra></extra>",
         "legendgroup": "3",
         "marker": {
          "color": "rgb(247,247,247)",
          "line": {
           "color": "black",
           "width": 0.4
          },
          "pattern": {
           "shape": ""
          }
         },
         "name": "3",
         "offsetgroup": "3",
         "orientation": "v",
         "showlegend": false,
         "text": [
          "> a year"
         ],
         "textangle": 45,
         "textfont": {
          "size": 10
         },
         "textposition": "inside",
         "texttemplate": "%{text}",
         "type": "bar",
         "x": [
          "3"
         ],
         "xaxis": "x2",
         "y": [
          4
         ],
         "yaxis": "y2"
        },
        {
         "alignmentgroup": "True",
         "hovertemplate": "Review Ratings=%{x}<br>Location=Imperial Kennedy<br>Count=%{y}<br>review_date=%{text}<extra></extra>",
         "legendgroup": "3",
         "marker": {
          "color": "rgb(247,247,247)",
          "line": {
           "color": "black",
           "width": 0.4
          },
          "pattern": {
           "shape": ""
          }
         },
         "name": "3",
         "offsetgroup": "3",
         "orientation": "v",
         "showlegend": false,
         "text": [
          "> a year"
         ],
         "textangle": 45,
         "textfont": {
          "size": 10
         },
         "textposition": "inside",
         "texttemplate": "%{text}",
         "type": "bar",
         "x": [
          "3"
         ],
         "xaxis": "x3",
         "y": [
          3
         ],
         "yaxis": "y3"
        },
        {
         "alignmentgroup": "True",
         "hovertemplate": "Review Ratings=%{x}<br>Location=香港大學<br>Count=%{y}<br>review_date=%{text}<extra></extra>",
         "legendgroup": "4",
         "marker": {
          "color": "rgb(146,197,222)",
          "line": {
           "color": "black",
           "width": 0.4
          },
          "pattern": {
           "shape": ""
          }
         },
         "name": "4",
         "offsetgroup": "4",
         "orientation": "v",
         "showlegend": true,
         "text": [
          "<= a year",
          "> a year"
         ],
         "textangle": 45,
         "textfont": {
          "size": 10
         },
         "textposition": "inside",
         "texttemplate": "%{text}",
         "type": "bar",
         "x": [
          "4",
          "4"
         ],
         "xaxis": "x",
         "y": [
          1,
          3
         ],
         "yaxis": "y"
        },
        {
         "alignmentgroup": "True",
         "hovertemplate": "Review Ratings=%{x}<br>Location=The Henry<br>Count=%{y}<br>review_date=%{text}<extra></extra>",
         "legendgroup": "4",
         "marker": {
          "color": "rgb(146,197,222)",
          "line": {
           "color": "black",
           "width": 0.4
          },
          "pattern": {
           "shape": ""
          }
         },
         "name": "4",
         "offsetgroup": "4",
         "orientation": "v",
         "showlegend": false,
         "text": [
          "> a year"
         ],
         "textangle": 45,
         "textfont": {
          "size": 10
         },
         "textposition": "inside",
         "texttemplate": "%{text}",
         "type": "bar",
         "x": [
          "4"
         ],
         "xaxis": "x2",
         "y": [
          7
         ],
         "yaxis": "y2"
        },
        {
         "alignmentgroup": "True",
         "hovertemplate": "Review Ratings=%{x}<br>Location=Imperial Kennedy<br>Count=%{y}<br>review_date=%{text}<extra></extra>",
         "legendgroup": "4",
         "marker": {
          "color": "rgb(146,197,222)",
          "line": {
           "color": "black",
           "width": 0.4
          },
          "pattern": {
           "shape": ""
          }
         },
         "name": "4",
         "offsetgroup": "4",
         "orientation": "v",
         "showlegend": false,
         "text": [
          "<= a year",
          "> a year"
         ],
         "textangle": 45,
         "textfont": {
          "size": 10
         },
         "textposition": "inside",
         "texttemplate": "%{text}",
         "type": "bar",
         "x": [
          "4",
          "4"
         ],
         "xaxis": "x3",
         "y": [
          1,
          3
         ],
         "yaxis": "y3"
        },
        {
         "alignmentgroup": "True",
         "hovertemplate": "Review Ratings=%{x}<br>Location=香港大學<br>Count=%{y}<br>review_date=%{text}<extra></extra>",
         "legendgroup": "5",
         "marker": {
          "color": "rgb(5,48,97)",
          "line": {
           "color": "black",
           "width": 0.4
          },
          "pattern": {
           "shape": ""
          }
         },
         "name": "5",
         "offsetgroup": "5",
         "orientation": "v",
         "showlegend": true,
         "text": [
          "> a year"
         ],
         "textangle": 45,
         "textfont": {
          "size": 10
         },
         "textposition": "inside",
         "texttemplate": "%{text}",
         "type": "bar",
         "x": [
          "5"
         ],
         "xaxis": "x",
         "y": [
          9
         ],
         "yaxis": "y"
        },
        {
         "alignmentgroup": "True",
         "hovertemplate": "Review Ratings=%{x}<br>Location=The Henry<br>Count=%{y}<br>review_date=%{text}<extra></extra>",
         "legendgroup": "5",
         "marker": {
          "color": "rgb(5,48,97)",
          "line": {
           "color": "black",
           "width": 0.4
          },
          "pattern": {
           "shape": ""
          }
         },
         "name": "5",
         "offsetgroup": "5",
         "orientation": "v",
         "showlegend": false,
         "text": [
          "<= a year",
          "> a year"
         ],
         "textangle": 45,
         "textfont": {
          "size": 10
         },
         "textposition": "inside",
         "texttemplate": "%{text}",
         "type": "bar",
         "x": [
          "5",
          "5"
         ],
         "xaxis": "x2",
         "y": [
          1,
          3
         ],
         "yaxis": "y2"
        },
        {
         "alignmentgroup": "True",
         "hovertemplate": "Review Ratings=%{x}<br>Location=Imperial Kennedy<br>Count=%{y}<br>review_date=%{text}<extra></extra>",
         "legendgroup": "5",
         "marker": {
          "color": "rgb(5,48,97)",
          "line": {
           "color": "black",
           "width": 0.4
          },
          "pattern": {
           "shape": ""
          }
         },
         "name": "5",
         "offsetgroup": "5",
         "orientation": "v",
         "showlegend": false,
         "text": [
          "<= a year",
          "> a year"
         ],
         "textangle": 45,
         "textfont": {
          "size": 10
         },
         "textposition": "inside",
         "texttemplate": "%{text}",
         "type": "bar",
         "x": [
          "5",
          "5"
         ],
         "xaxis": "x3",
         "y": [
          2,
          6
         ],
         "yaxis": "y3"
        },
        {
         "alignmentgroup": "True",
         "hovertemplate": "Review Ratings=%{x}<br>Location=The Henry<br>Count=%{y}<br>review_date=%{text}<extra></extra>",
         "legendgroup": "2",
         "marker": {
          "color": "rgb(214,96,77)",
          "line": {
           "color": "black",
           "width": 0.4
          },
          "pattern": {
           "shape": ""
          }
         },
         "name": "2",
         "offsetgroup": "2",
         "orientation": "v",
         "showlegend": true,
         "text": [
          "> a year"
         ],
         "textangle": 45,
         "textfont": {
          "size": 10
         },
         "textposition": "inside",
         "texttemplate": "%{text}",
         "type": "bar",
         "x": [
          "2"
         ],
         "xaxis": "x2",
         "y": [
          3
         ],
         "yaxis": "y2"
        },
        {
         "alignmentgroup": "True",
         "hovertemplate": "Review Ratings=%{x}<br>Location=Imperial Kennedy<br>Count=%{y}<br>review_date=%{text}<extra></extra>",
         "legendgroup": "2",
         "marker": {
          "color": "rgb(214,96,77)",
          "line": {
           "color": "black",
           "width": 0.4
          },
          "pattern": {
           "shape": ""
          }
         },
         "name": "2",
         "offsetgroup": "2",
         "orientation": "v",
         "showlegend": false,
         "text": [
          "> a year"
         ],
         "textangle": 45,
         "textfont": {
          "size": 10
         },
         "textposition": "inside",
         "texttemplate": "%{text}",
         "type": "bar",
         "x": [
          "2"
         ],
         "xaxis": "x3",
         "y": [
          4
         ],
         "yaxis": "y3"
        }
       ],
       "layout": {
        "annotations": [
         {
          "font": {},
          "showarrow": false,
          "text": "Location=香港大學",
          "x": 0.16333333333333333,
          "xanchor": "center",
          "xref": "paper",
          "y": 1,
          "yanchor": "bottom",
          "yref": "paper"
         },
         {
          "font": {},
          "showarrow": false,
          "text": "Location=The Henry",
          "x": 0.5,
          "xanchor": "center",
          "xref": "paper",
          "y": 1,
          "yanchor": "bottom",
          "yref": "paper"
         },
         {
          "font": {},
          "showarrow": false,
          "text": "Location=Imperial Kennedy",
          "x": 0.8366666666666667,
          "xanchor": "center",
          "xref": "paper",
          "y": 1,
          "yanchor": "bottom",
          "yref": "paper"
         }
        ],
        "barmode": "relative",
        "height": 400,
        "legend": {
         "bordercolor": "#B0C4DE",
         "borderwidth": 1,
         "orientation": "h",
         "title": {
          "text": "Review Ratings:"
         },
         "tracegroupgap": 0,
         "x": 0.5,
         "xanchor": "center",
         "y": 1.25,
         "yanchor": "top"
        },
        "showlegend": true,
        "template": {
         "data": {
          "bar": [
           {
            "error_x": {
             "color": "#2a3f5f"
            },
            "error_y": {
             "color": "#2a3f5f"
            },
            "marker": {
             "line": {
              "color": "#E5ECF6",
              "width": 0.5
             },
             "pattern": {
              "fillmode": "overlay",
              "size": 10,
              "solidity": 0.2
             }
            },
            "type": "bar"
           }
          ],
          "barpolar": [
           {
            "marker": {
             "line": {
              "color": "#E5ECF6",
              "width": 0.5
             },
             "pattern": {
              "fillmode": "overlay",
              "size": 10,
              "solidity": 0.2
             }
            },
            "type": "barpolar"
           }
          ],
          "carpet": [
           {
            "aaxis": {
             "endlinecolor": "#2a3f5f",
             "gridcolor": "white",
             "linecolor": "white",
             "minorgridcolor": "white",
             "startlinecolor": "#2a3f5f"
            },
            "baxis": {
             "endlinecolor": "#2a3f5f",
             "gridcolor": "white",
             "linecolor": "white",
             "minorgridcolor": "white",
             "startlinecolor": "#2a3f5f"
            },
            "type": "carpet"
           }
          ],
          "choropleth": [
           {
            "colorbar": {
             "outlinewidth": 0,
             "ticks": ""
            },
            "type": "choropleth"
           }
          ],
          "contour": [
           {
            "colorbar": {
             "outlinewidth": 0,
             "ticks": ""
            },
            "colorscale": [
             [
              0,
              "#0d0887"
             ],
             [
              0.1111111111111111,
              "#46039f"
             ],
             [
              0.2222222222222222,
              "#7201a8"
             ],
             [
              0.3333333333333333,
              "#9c179e"
             ],
             [
              0.4444444444444444,
              "#bd3786"
             ],
             [
              0.5555555555555556,
              "#d8576b"
             ],
             [
              0.6666666666666666,
              "#ed7953"
             ],
             [
              0.7777777777777778,
              "#fb9f3a"
             ],
             [
              0.8888888888888888,
              "#fdca26"
             ],
             [
              1,
              "#f0f921"
             ]
            ],
            "type": "contour"
           }
          ],
          "contourcarpet": [
           {
            "colorbar": {
             "outlinewidth": 0,
             "ticks": ""
            },
            "type": "contourcarpet"
           }
          ],
          "heatmap": [
           {
            "colorbar": {
             "outlinewidth": 0,
             "ticks": ""
            },
            "colorscale": [
             [
              0,
              "#0d0887"
             ],
             [
              0.1111111111111111,
              "#46039f"
             ],
             [
              0.2222222222222222,
              "#7201a8"
             ],
             [
              0.3333333333333333,
              "#9c179e"
             ],
             [
              0.4444444444444444,
              "#bd3786"
             ],
             [
              0.5555555555555556,
              "#d8576b"
             ],
             [
              0.6666666666666666,
              "#ed7953"
             ],
             [
              0.7777777777777778,
              "#fb9f3a"
             ],
             [
              0.8888888888888888,
              "#fdca26"
             ],
             [
              1,
              "#f0f921"
             ]
            ],
            "type": "heatmap"
           }
          ],
          "heatmapgl": [
           {
            "colorbar": {
             "outlinewidth": 0,
             "ticks": ""
            },
            "colorscale": [
             [
              0,
              "#0d0887"
             ],
             [
              0.1111111111111111,
              "#46039f"
             ],
             [
              0.2222222222222222,
              "#7201a8"
             ],
             [
              0.3333333333333333,
              "#9c179e"
             ],
             [
              0.4444444444444444,
              "#bd3786"
             ],
             [
              0.5555555555555556,
              "#d8576b"
             ],
             [
              0.6666666666666666,
              "#ed7953"
             ],
             [
              0.7777777777777778,
              "#fb9f3a"
             ],
             [
              0.8888888888888888,
              "#fdca26"
             ],
             [
              1,
              "#f0f921"
             ]
            ],
            "type": "heatmapgl"
           }
          ],
          "histogram": [
           {
            "marker": {
             "pattern": {
              "fillmode": "overlay",
              "size": 10,
              "solidity": 0.2
             }
            },
            "type": "histogram"
           }
          ],
          "histogram2d": [
           {
            "colorbar": {
             "outlinewidth": 0,
             "ticks": ""
            },
            "colorscale": [
             [
              0,
              "#0d0887"
             ],
             [
              0.1111111111111111,
              "#46039f"
             ],
             [
              0.2222222222222222,
              "#7201a8"
             ],
             [
              0.3333333333333333,
              "#9c179e"
             ],
             [
              0.4444444444444444,
              "#bd3786"
             ],
             [
              0.5555555555555556,
              "#d8576b"
             ],
             [
              0.6666666666666666,
              "#ed7953"
             ],
             [
              0.7777777777777778,
              "#fb9f3a"
             ],
             [
              0.8888888888888888,
              "#fdca26"
             ],
             [
              1,
              "#f0f921"
             ]
            ],
            "type": "histogram2d"
           }
          ],
          "histogram2dcontour": [
           {
            "colorbar": {
             "outlinewidth": 0,
             "ticks": ""
            },
            "colorscale": [
             [
              0,
              "#0d0887"
             ],
             [
              0.1111111111111111,
              "#46039f"
             ],
             [
              0.2222222222222222,
              "#7201a8"
             ],
             [
              0.3333333333333333,
              "#9c179e"
             ],
             [
              0.4444444444444444,
              "#bd3786"
             ],
             [
              0.5555555555555556,
              "#d8576b"
             ],
             [
              0.6666666666666666,
              "#ed7953"
             ],
             [
              0.7777777777777778,
              "#fb9f3a"
             ],
             [
              0.8888888888888888,
              "#fdca26"
             ],
             [
              1,
              "#f0f921"
             ]
            ],
            "type": "histogram2dcontour"
           }
          ],
          "mesh3d": [
           {
            "colorbar": {
             "outlinewidth": 0,
             "ticks": ""
            },
            "type": "mesh3d"
           }
          ],
          "parcoords": [
           {
            "line": {
             "colorbar": {
              "outlinewidth": 0,
              "ticks": ""
             }
            },
            "type": "parcoords"
           }
          ],
          "pie": [
           {
            "automargin": true,
            "type": "pie"
           }
          ],
          "scatter": [
           {
            "fillpattern": {
             "fillmode": "overlay",
             "size": 10,
             "solidity": 0.2
            },
            "type": "scatter"
           }
          ],
          "scatter3d": [
           {
            "line": {
             "colorbar": {
              "outlinewidth": 0,
              "ticks": ""
             }
            },
            "marker": {
             "colorbar": {
              "outlinewidth": 0,
              "ticks": ""
             }
            },
            "type": "scatter3d"
           }
          ],
          "scattercarpet": [
           {
            "marker": {
             "colorbar": {
              "outlinewidth": 0,
              "ticks": ""
             }
            },
            "type": "scattercarpet"
           }
          ],
          "scattergeo": [
           {
            "marker": {
             "colorbar": {
              "outlinewidth": 0,
              "ticks": ""
             }
            },
            "type": "scattergeo"
           }
          ],
          "scattergl": [
           {
            "marker": {
             "colorbar": {
              "outlinewidth": 0,
              "ticks": ""
             }
            },
            "type": "scattergl"
           }
          ],
          "scattermapbox": [
           {
            "marker": {
             "colorbar": {
              "outlinewidth": 0,
              "ticks": ""
             }
            },
            "type": "scattermapbox"
           }
          ],
          "scatterpolar": [
           {
            "marker": {
             "colorbar": {
              "outlinewidth": 0,
              "ticks": ""
             }
            },
            "type": "scatterpolar"
           }
          ],
          "scatterpolargl": [
           {
            "marker": {
             "colorbar": {
              "outlinewidth": 0,
              "ticks": ""
             }
            },
            "type": "scatterpolargl"
           }
          ],
          "scatterternary": [
           {
            "marker": {
             "colorbar": {
              "outlinewidth": 0,
              "ticks": ""
             }
            },
            "type": "scatterternary"
           }
          ],
          "surface": [
           {
            "colorbar": {
             "outlinewidth": 0,
             "ticks": ""
            },
            "colorscale": [
             [
              0,
              "#0d0887"
             ],
             [
              0.1111111111111111,
              "#46039f"
             ],
             [
              0.2222222222222222,
              "#7201a8"
             ],
             [
              0.3333333333333333,
              "#9c179e"
             ],
             [
              0.4444444444444444,
              "#bd3786"
             ],
             [
              0.5555555555555556,
              "#d8576b"
             ],
             [
              0.6666666666666666,
              "#ed7953"
             ],
             [
              0.7777777777777778,
              "#fb9f3a"
             ],
             [
              0.8888888888888888,
              "#fdca26"
             ],
             [
              1,
              "#f0f921"
             ]
            ],
            "type": "surface"
           }
          ],
          "table": [
           {
            "cells": {
             "fill": {
              "color": "#EBF0F8"
             },
             "line": {
              "color": "white"
             }
            },
            "header": {
             "fill": {
              "color": "#C8D4E3"
             },
             "line": {
              "color": "white"
             }
            },
            "type": "table"
           }
          ]
         },
         "layout": {
          "annotationdefaults": {
           "arrowcolor": "#2a3f5f",
           "arrowhead": 0,
           "arrowwidth": 1
          },
          "autotypenumbers": "strict",
          "coloraxis": {
           "colorbar": {
            "outlinewidth": 0,
            "ticks": ""
           }
          },
          "colorscale": {
           "diverging": [
            [
             0,
             "#8e0152"
            ],
            [
             0.1,
             "#c51b7d"
            ],
            [
             0.2,
             "#de77ae"
            ],
            [
             0.3,
             "#f1b6da"
            ],
            [
             0.4,
             "#fde0ef"
            ],
            [
             0.5,
             "#f7f7f7"
            ],
            [
             0.6,
             "#e6f5d0"
            ],
            [
             0.7,
             "#b8e186"
            ],
            [
             0.8,
             "#7fbc41"
            ],
            [
             0.9,
             "#4d9221"
            ],
            [
             1,
             "#276419"
            ]
           ],
           "sequential": [
            [
             0,
             "#0d0887"
            ],
            [
             0.1111111111111111,
             "#46039f"
            ],
            [
             0.2222222222222222,
             "#7201a8"
            ],
            [
             0.3333333333333333,
             "#9c179e"
            ],
            [
             0.4444444444444444,
             "#bd3786"
            ],
            [
             0.5555555555555556,
             "#d8576b"
            ],
            [
             0.6666666666666666,
             "#ed7953"
            ],
            [
             0.7777777777777778,
             "#fb9f3a"
            ],
            [
             0.8888888888888888,
             "#fdca26"
            ],
            [
             1,
             "#f0f921"
            ]
           ],
           "sequentialminus": [
            [
             0,
             "#0d0887"
            ],
            [
             0.1111111111111111,
             "#46039f"
            ],
            [
             0.2222222222222222,
             "#7201a8"
            ],
            [
             0.3333333333333333,
             "#9c179e"
            ],
            [
             0.4444444444444444,
             "#bd3786"
            ],
            [
             0.5555555555555556,
             "#d8576b"
            ],
            [
             0.6666666666666666,
             "#ed7953"
            ],
            [
             0.7777777777777778,
             "#fb9f3a"
            ],
            [
             0.8888888888888888,
             "#fdca26"
            ],
            [
             1,
             "#f0f921"
            ]
           ]
          },
          "colorway": [
           "#636efa",
           "#EF553B",
           "#00cc96",
           "#ab63fa",
           "#FFA15A",
           "#19d3f3",
           "#FF6692",
           "#B6E880",
           "#FF97FF",
           "#FECB52"
          ],
          "font": {
           "color": "#2a3f5f"
          },
          "geo": {
           "bgcolor": "white",
           "lakecolor": "white",
           "landcolor": "#E5ECF6",
           "showlakes": true,
           "showland": true,
           "subunitcolor": "white"
          },
          "hoverlabel": {
           "align": "left"
          },
          "hovermode": "closest",
          "mapbox": {
           "style": "light"
          },
          "paper_bgcolor": "white",
          "plot_bgcolor": "#E5ECF6",
          "polar": {
           "angularaxis": {
            "gridcolor": "white",
            "linecolor": "white",
            "ticks": ""
           },
           "bgcolor": "#E5ECF6",
           "radialaxis": {
            "gridcolor": "white",
            "linecolor": "white",
            "ticks": ""
           }
          },
          "scene": {
           "xaxis": {
            "backgroundcolor": "#E5ECF6",
            "gridcolor": "white",
            "gridwidth": 2,
            "linecolor": "white",
            "showbackground": true,
            "ticks": "",
            "zerolinecolor": "white"
           },
           "yaxis": {
            "backgroundcolor": "#E5ECF6",
            "gridcolor": "white",
            "gridwidth": 2,
            "linecolor": "white",
            "showbackground": true,
            "ticks": "",
            "zerolinecolor": "white"
           },
           "zaxis": {
            "backgroundcolor": "#E5ECF6",
            "gridcolor": "white",
            "gridwidth": 2,
            "linecolor": "white",
            "showbackground": true,
            "ticks": "",
            "zerolinecolor": "white"
           }
          },
          "shapedefaults": {
           "line": {
            "color": "#2a3f5f"
           }
          },
          "ternary": {
           "aaxis": {
            "gridcolor": "white",
            "linecolor": "white",
            "ticks": ""
           },
           "baxis": {
            "gridcolor": "white",
            "linecolor": "white",
            "ticks": ""
           },
           "bgcolor": "#E5ECF6",
           "caxis": {
            "gridcolor": "white",
            "linecolor": "white",
            "ticks": ""
           }
          },
          "title": {
           "x": 0.05
          },
          "xaxis": {
           "automargin": true,
           "gridcolor": "white",
           "linecolor": "white",
           "ticks": "",
           "title": {
            "standoff": 15
           },
           "zerolinecolor": "white",
           "zerolinewidth": 2
          },
          "yaxis": {
           "automargin": true,
           "gridcolor": "white",
           "linecolor": "white",
           "ticks": "",
           "title": {
            "standoff": 15
           },
           "zerolinecolor": "white",
           "zerolinewidth": 2
          }
         }
        },
        "title": {
         "text": "Bar Chart of the Ratings (Detail)",
         "x": 0.5,
         "xanchor": "center",
         "y": 0.95,
         "yanchor": "top"
        },
        "width": 800,
        "xaxis": {
         "anchor": "y",
         "categoryarray": [
          "1",
          "2",
          "3",
          "4",
          "5"
         ],
         "categoryorder": "array",
         "domain": [
          0,
          0.32666666666666666
         ],
         "title": {
          "text": "Review Ratings"
         }
        },
        "xaxis2": {
         "anchor": "y2",
         "categoryarray": [
          "1",
          "3",
          "4",
          "5",
          "2"
         ],
         "categoryorder": "array",
         "domain": [
          0.33666666666666667,
          0.6633333333333333
         ],
         "matches": "x",
         "title": {
          "text": "Review Ratings"
         }
        },
        "xaxis3": {
         "anchor": "y3",
         "categoryarray": [
          "1",
          "3",
          "4",
          "5",
          "2"
         ],
         "categoryorder": "array",
         "domain": [
          0.6733333333333333,
          1
         ],
         "matches": "x",
         "title": {
          "text": "Review Ratings"
         }
        },
        "yaxis": {
         "anchor": "x",
         "domain": [
          0,
          1
         ],
         "title": {
          "text": "Count"
         }
        },
        "yaxis2": {
         "anchor": "x2",
         "domain": [
          0,
          1
         ],
         "matches": "y",
         "showticklabels": false
        },
        "yaxis3": {
         "anchor": "x3",
         "domain": [
          0,
          1
         ],
         "matches": "y",
         "showticklabels": false
        }
       }
      },
      "text/html": [
       "<div>                            <div id=\"ce278700-ab05-43a0-a14a-f6e9403ee76c\" class=\"plotly-graph-div\" style=\"height:400px; width:800px;\"></div>            <script type=\"text/javascript\">                require([\"plotly\"], function(Plotly) {                    window.PLOTLYENV=window.PLOTLYENV || {};                                    if (document.getElementById(\"ce278700-ab05-43a0-a14a-f6e9403ee76c\")) {                    Plotly.newPlot(                        \"ce278700-ab05-43a0-a14a-f6e9403ee76c\",                        [{\"alignmentgroup\":\"True\",\"hovertemplate\":\"Review Ratings=%{x}<br>Location=\\u9999\\u6e2f\\u5927\\u5b78<br>Count=%{y}<br>review_date=%{text}<extra></extra>\",\"legendgroup\":\"1\",\"marker\":{\"color\":\"rgb(103,0,31)\",\"pattern\":{\"shape\":\"\"},\"line\":{\"color\":\"black\",\"width\":0.4}},\"name\":\"1\",\"offsetgroup\":\"1\",\"orientation\":\"v\",\"showlegend\":true,\"text\":[\"<= a year\",\"> a year\"],\"textposition\":\"inside\",\"x\":[\"1\",\"1\"],\"xaxis\":\"x\",\"y\":[2,3],\"yaxis\":\"y\",\"type\":\"bar\",\"textfont\":{\"size\":10},\"textangle\":45,\"texttemplate\":\"%{text}\"},{\"alignmentgroup\":\"True\",\"hovertemplate\":\"Review Ratings=%{x}<br>Location=The Henry<br>Count=%{y}<br>review_date=%{text}<extra></extra>\",\"legendgroup\":\"1\",\"marker\":{\"color\":\"rgb(103,0,31)\",\"pattern\":{\"shape\":\"\"},\"line\":{\"color\":\"black\",\"width\":0.4}},\"name\":\"1\",\"offsetgroup\":\"1\",\"orientation\":\"v\",\"showlegend\":false,\"text\":[\"<= a year\"],\"textposition\":\"inside\",\"x\":[\"1\"],\"xaxis\":\"x2\",\"y\":[2],\"yaxis\":\"y2\",\"type\":\"bar\",\"textfont\":{\"size\":10},\"textangle\":45,\"texttemplate\":\"%{text}\"},{\"alignmentgroup\":\"True\",\"hovertemplate\":\"Review Ratings=%{x}<br>Location=Imperial Kennedy<br>Count=%{y}<br>review_date=%{text}<extra></extra>\",\"legendgroup\":\"1\",\"marker\":{\"color\":\"rgb(103,0,31)\",\"pattern\":{\"shape\":\"\"},\"line\":{\"color\":\"black\",\"width\":0.4}},\"name\":\"1\",\"offsetgroup\":\"1\",\"orientation\":\"v\",\"showlegend\":false,\"text\":[\"> a year\"],\"textposition\":\"inside\",\"x\":[\"1\"],\"xaxis\":\"x3\",\"y\":[1],\"yaxis\":\"y3\",\"type\":\"bar\",\"textfont\":{\"size\":10},\"textangle\":45,\"texttemplate\":\"%{text}\"},{\"alignmentgroup\":\"True\",\"hovertemplate\":\"Review Ratings=%{x}<br>Location=\\u9999\\u6e2f\\u5927\\u5b78<br>Count=%{y}<br>review_date=%{text}<extra></extra>\",\"legendgroup\":\"3\",\"marker\":{\"color\":\"rgb(247,247,247)\",\"pattern\":{\"shape\":\"\"},\"line\":{\"color\":\"black\",\"width\":0.4}},\"name\":\"3\",\"offsetgroup\":\"3\",\"orientation\":\"v\",\"showlegend\":true,\"text\":[\"> a year\"],\"textposition\":\"inside\",\"x\":[\"3\"],\"xaxis\":\"x\",\"y\":[2],\"yaxis\":\"y\",\"type\":\"bar\",\"textfont\":{\"size\":10},\"textangle\":45,\"texttemplate\":\"%{text}\"},{\"alignmentgroup\":\"True\",\"hovertemplate\":\"Review Ratings=%{x}<br>Location=The Henry<br>Count=%{y}<br>review_date=%{text}<extra></extra>\",\"legendgroup\":\"3\",\"marker\":{\"color\":\"rgb(247,247,247)\",\"pattern\":{\"shape\":\"\"},\"line\":{\"color\":\"black\",\"width\":0.4}},\"name\":\"3\",\"offsetgroup\":\"3\",\"orientation\":\"v\",\"showlegend\":false,\"text\":[\"> a year\"],\"textposition\":\"inside\",\"x\":[\"3\"],\"xaxis\":\"x2\",\"y\":[4],\"yaxis\":\"y2\",\"type\":\"bar\",\"textfont\":{\"size\":10},\"textangle\":45,\"texttemplate\":\"%{text}\"},{\"alignmentgroup\":\"True\",\"hovertemplate\":\"Review Ratings=%{x}<br>Location=Imperial Kennedy<br>Count=%{y}<br>review_date=%{text}<extra></extra>\",\"legendgroup\":\"3\",\"marker\":{\"color\":\"rgb(247,247,247)\",\"pattern\":{\"shape\":\"\"},\"line\":{\"color\":\"black\",\"width\":0.4}},\"name\":\"3\",\"offsetgroup\":\"3\",\"orientation\":\"v\",\"showlegend\":false,\"text\":[\"> a year\"],\"textposition\":\"inside\",\"x\":[\"3\"],\"xaxis\":\"x3\",\"y\":[3],\"yaxis\":\"y3\",\"type\":\"bar\",\"textfont\":{\"size\":10},\"textangle\":45,\"texttemplate\":\"%{text}\"},{\"alignmentgroup\":\"True\",\"hovertemplate\":\"Review Ratings=%{x}<br>Location=\\u9999\\u6e2f\\u5927\\u5b78<br>Count=%{y}<br>review_date=%{text}<extra></extra>\",\"legendgroup\":\"4\",\"marker\":{\"color\":\"rgb(146,197,222)\",\"pattern\":{\"shape\":\"\"},\"line\":{\"color\":\"black\",\"width\":0.4}},\"name\":\"4\",\"offsetgroup\":\"4\",\"orientation\":\"v\",\"showlegend\":true,\"text\":[\"<= a year\",\"> a year\"],\"textposition\":\"inside\",\"x\":[\"4\",\"4\"],\"xaxis\":\"x\",\"y\":[1,3],\"yaxis\":\"y\",\"type\":\"bar\",\"textfont\":{\"size\":10},\"textangle\":45,\"texttemplate\":\"%{text}\"},{\"alignmentgroup\":\"True\",\"hovertemplate\":\"Review Ratings=%{x}<br>Location=The Henry<br>Count=%{y}<br>review_date=%{text}<extra></extra>\",\"legendgroup\":\"4\",\"marker\":{\"color\":\"rgb(146,197,222)\",\"pattern\":{\"shape\":\"\"},\"line\":{\"color\":\"black\",\"width\":0.4}},\"name\":\"4\",\"offsetgroup\":\"4\",\"orientation\":\"v\",\"showlegend\":false,\"text\":[\"> a year\"],\"textposition\":\"inside\",\"x\":[\"4\"],\"xaxis\":\"x2\",\"y\":[7],\"yaxis\":\"y2\",\"type\":\"bar\",\"textfont\":{\"size\":10},\"textangle\":45,\"texttemplate\":\"%{text}\"},{\"alignmentgroup\":\"True\",\"hovertemplate\":\"Review Ratings=%{x}<br>Location=Imperial Kennedy<br>Count=%{y}<br>review_date=%{text}<extra></extra>\",\"legendgroup\":\"4\",\"marker\":{\"color\":\"rgb(146,197,222)\",\"pattern\":{\"shape\":\"\"},\"line\":{\"color\":\"black\",\"width\":0.4}},\"name\":\"4\",\"offsetgroup\":\"4\",\"orientation\":\"v\",\"showlegend\":false,\"text\":[\"<= a year\",\"> a year\"],\"textposition\":\"inside\",\"x\":[\"4\",\"4\"],\"xaxis\":\"x3\",\"y\":[1,3],\"yaxis\":\"y3\",\"type\":\"bar\",\"textfont\":{\"size\":10},\"textangle\":45,\"texttemplate\":\"%{text}\"},{\"alignmentgroup\":\"True\",\"hovertemplate\":\"Review Ratings=%{x}<br>Location=\\u9999\\u6e2f\\u5927\\u5b78<br>Count=%{y}<br>review_date=%{text}<extra></extra>\",\"legendgroup\":\"5\",\"marker\":{\"color\":\"rgb(5,48,97)\",\"pattern\":{\"shape\":\"\"},\"line\":{\"color\":\"black\",\"width\":0.4}},\"name\":\"5\",\"offsetgroup\":\"5\",\"orientation\":\"v\",\"showlegend\":true,\"text\":[\"> a year\"],\"textposition\":\"inside\",\"x\":[\"5\"],\"xaxis\":\"x\",\"y\":[9],\"yaxis\":\"y\",\"type\":\"bar\",\"textfont\":{\"size\":10},\"textangle\":45,\"texttemplate\":\"%{text}\"},{\"alignmentgroup\":\"True\",\"hovertemplate\":\"Review Ratings=%{x}<br>Location=The Henry<br>Count=%{y}<br>review_date=%{text}<extra></extra>\",\"legendgroup\":\"5\",\"marker\":{\"color\":\"rgb(5,48,97)\",\"pattern\":{\"shape\":\"\"},\"line\":{\"color\":\"black\",\"width\":0.4}},\"name\":\"5\",\"offsetgroup\":\"5\",\"orientation\":\"v\",\"showlegend\":false,\"text\":[\"<= a year\",\"> a year\"],\"textposition\":\"inside\",\"x\":[\"5\",\"5\"],\"xaxis\":\"x2\",\"y\":[1,3],\"yaxis\":\"y2\",\"type\":\"bar\",\"textfont\":{\"size\":10},\"textangle\":45,\"texttemplate\":\"%{text}\"},{\"alignmentgroup\":\"True\",\"hovertemplate\":\"Review Ratings=%{x}<br>Location=Imperial Kennedy<br>Count=%{y}<br>review_date=%{text}<extra></extra>\",\"legendgroup\":\"5\",\"marker\":{\"color\":\"rgb(5,48,97)\",\"pattern\":{\"shape\":\"\"},\"line\":{\"color\":\"black\",\"width\":0.4}},\"name\":\"5\",\"offsetgroup\":\"5\",\"orientation\":\"v\",\"showlegend\":false,\"text\":[\"<= a year\",\"> a year\"],\"textposition\":\"inside\",\"x\":[\"5\",\"5\"],\"xaxis\":\"x3\",\"y\":[2,6],\"yaxis\":\"y3\",\"type\":\"bar\",\"textfont\":{\"size\":10},\"textangle\":45,\"texttemplate\":\"%{text}\"},{\"alignmentgroup\":\"True\",\"hovertemplate\":\"Review Ratings=%{x}<br>Location=The Henry<br>Count=%{y}<br>review_date=%{text}<extra></extra>\",\"legendgroup\":\"2\",\"marker\":{\"color\":\"rgb(214,96,77)\",\"pattern\":{\"shape\":\"\"},\"line\":{\"color\":\"black\",\"width\":0.4}},\"name\":\"2\",\"offsetgroup\":\"2\",\"orientation\":\"v\",\"showlegend\":true,\"text\":[\"> a year\"],\"textposition\":\"inside\",\"x\":[\"2\"],\"xaxis\":\"x2\",\"y\":[3],\"yaxis\":\"y2\",\"type\":\"bar\",\"textfont\":{\"size\":10},\"textangle\":45,\"texttemplate\":\"%{text}\"},{\"alignmentgroup\":\"True\",\"hovertemplate\":\"Review Ratings=%{x}<br>Location=Imperial Kennedy<br>Count=%{y}<br>review_date=%{text}<extra></extra>\",\"legendgroup\":\"2\",\"marker\":{\"color\":\"rgb(214,96,77)\",\"pattern\":{\"shape\":\"\"},\"line\":{\"color\":\"black\",\"width\":0.4}},\"name\":\"2\",\"offsetgroup\":\"2\",\"orientation\":\"v\",\"showlegend\":false,\"text\":[\"> a year\"],\"textposition\":\"inside\",\"x\":[\"2\"],\"xaxis\":\"x3\",\"y\":[4],\"yaxis\":\"y3\",\"type\":\"bar\",\"textfont\":{\"size\":10},\"textangle\":45,\"texttemplate\":\"%{text}\"}],                        {\"template\":{\"data\":{\"histogram2dcontour\":[{\"type\":\"histogram2dcontour\",\"colorbar\":{\"outlinewidth\":0,\"ticks\":\"\"},\"colorscale\":[[0.0,\"#0d0887\"],[0.1111111111111111,\"#46039f\"],[0.2222222222222222,\"#7201a8\"],[0.3333333333333333,\"#9c179e\"],[0.4444444444444444,\"#bd3786\"],[0.5555555555555556,\"#d8576b\"],[0.6666666666666666,\"#ed7953\"],[0.7777777777777778,\"#fb9f3a\"],[0.8888888888888888,\"#fdca26\"],[1.0,\"#f0f921\"]]}],\"choropleth\":[{\"type\":\"choropleth\",\"colorbar\":{\"outlinewidth\":0,\"ticks\":\"\"}}],\"histogram2d\":[{\"type\":\"histogram2d\",\"colorbar\":{\"outlinewidth\":0,\"ticks\":\"\"},\"colorscale\":[[0.0,\"#0d0887\"],[0.1111111111111111,\"#46039f\"],[0.2222222222222222,\"#7201a8\"],[0.3333333333333333,\"#9c179e\"],[0.4444444444444444,\"#bd3786\"],[0.5555555555555556,\"#d8576b\"],[0.6666666666666666,\"#ed7953\"],[0.7777777777777778,\"#fb9f3a\"],[0.8888888888888888,\"#fdca26\"],[1.0,\"#f0f921\"]]}],\"heatmap\":[{\"type\":\"heatmap\",\"colorbar\":{\"outlinewidth\":0,\"ticks\":\"\"},\"colorscale\":[[0.0,\"#0d0887\"],[0.1111111111111111,\"#46039f\"],[0.2222222222222222,\"#7201a8\"],[0.3333333333333333,\"#9c179e\"],[0.4444444444444444,\"#bd3786\"],[0.5555555555555556,\"#d8576b\"],[0.6666666666666666,\"#ed7953\"],[0.7777777777777778,\"#fb9f3a\"],[0.8888888888888888,\"#fdca26\"],[1.0,\"#f0f921\"]]}],\"heatmapgl\":[{\"type\":\"heatmapgl\",\"colorbar\":{\"outlinewidth\":0,\"ticks\":\"\"},\"colorscale\":[[0.0,\"#0d0887\"],[0.1111111111111111,\"#46039f\"],[0.2222222222222222,\"#7201a8\"],[0.3333333333333333,\"#9c179e\"],[0.4444444444444444,\"#bd3786\"],[0.5555555555555556,\"#d8576b\"],[0.6666666666666666,\"#ed7953\"],[0.7777777777777778,\"#fb9f3a\"],[0.8888888888888888,\"#fdca26\"],[1.0,\"#f0f921\"]]}],\"contourcarpet\":[{\"type\":\"contourcarpet\",\"colorbar\":{\"outlinewidth\":0,\"ticks\":\"\"}}],\"contour\":[{\"type\":\"contour\",\"colorbar\":{\"outlinewidth\":0,\"ticks\":\"\"},\"colorscale\":[[0.0,\"#0d0887\"],[0.1111111111111111,\"#46039f\"],[0.2222222222222222,\"#7201a8\"],[0.3333333333333333,\"#9c179e\"],[0.4444444444444444,\"#bd3786\"],[0.5555555555555556,\"#d8576b\"],[0.6666666666666666,\"#ed7953\"],[0.7777777777777778,\"#fb9f3a\"],[0.8888888888888888,\"#fdca26\"],[1.0,\"#f0f921\"]]}],\"surface\":[{\"type\":\"surface\",\"colorbar\":{\"outlinewidth\":0,\"ticks\":\"\"},\"colorscale\":[[0.0,\"#0d0887\"],[0.1111111111111111,\"#46039f\"],[0.2222222222222222,\"#7201a8\"],[0.3333333333333333,\"#9c179e\"],[0.4444444444444444,\"#bd3786\"],[0.5555555555555556,\"#d8576b\"],[0.6666666666666666,\"#ed7953\"],[0.7777777777777778,\"#fb9f3a\"],[0.8888888888888888,\"#fdca26\"],[1.0,\"#f0f921\"]]}],\"mesh3d\":[{\"type\":\"mesh3d\",\"colorbar\":{\"outlinewidth\":0,\"ticks\":\"\"}}],\"scatter\":[{\"fillpattern\":{\"fillmode\":\"overlay\",\"size\":10,\"solidity\":0.2},\"type\":\"scatter\"}],\"parcoords\":[{\"type\":\"parcoords\",\"line\":{\"colorbar\":{\"outlinewidth\":0,\"ticks\":\"\"}}}],\"scatterpolargl\":[{\"type\":\"scatterpolargl\",\"marker\":{\"colorbar\":{\"outlinewidth\":0,\"ticks\":\"\"}}}],\"bar\":[{\"error_x\":{\"color\":\"#2a3f5f\"},\"error_y\":{\"color\":\"#2a3f5f\"},\"marker\":{\"line\":{\"color\":\"#E5ECF6\",\"width\":0.5},\"pattern\":{\"fillmode\":\"overlay\",\"size\":10,\"solidity\":0.2}},\"type\":\"bar\"}],\"scattergeo\":[{\"type\":\"scattergeo\",\"marker\":{\"colorbar\":{\"outlinewidth\":0,\"ticks\":\"\"}}}],\"scatterpolar\":[{\"type\":\"scatterpolar\",\"marker\":{\"colorbar\":{\"outlinewidth\":0,\"ticks\":\"\"}}}],\"histogram\":[{\"marker\":{\"pattern\":{\"fillmode\":\"overlay\",\"size\":10,\"solidity\":0.2}},\"type\":\"histogram\"}],\"scattergl\":[{\"type\":\"scattergl\",\"marker\":{\"colorbar\":{\"outlinewidth\":0,\"ticks\":\"\"}}}],\"scatter3d\":[{\"type\":\"scatter3d\",\"line\":{\"colorbar\":{\"outlinewidth\":0,\"ticks\":\"\"}},\"marker\":{\"colorbar\":{\"outlinewidth\":0,\"ticks\":\"\"}}}],\"scattermapbox\":[{\"type\":\"scattermapbox\",\"marker\":{\"colorbar\":{\"outlinewidth\":0,\"ticks\":\"\"}}}],\"scatterternary\":[{\"type\":\"scatterternary\",\"marker\":{\"colorbar\":{\"outlinewidth\":0,\"ticks\":\"\"}}}],\"scattercarpet\":[{\"type\":\"scattercarpet\",\"marker\":{\"colorbar\":{\"outlinewidth\":0,\"ticks\":\"\"}}}],\"carpet\":[{\"aaxis\":{\"endlinecolor\":\"#2a3f5f\",\"gridcolor\":\"white\",\"linecolor\":\"white\",\"minorgridcolor\":\"white\",\"startlinecolor\":\"#2a3f5f\"},\"baxis\":{\"endlinecolor\":\"#2a3f5f\",\"gridcolor\":\"white\",\"linecolor\":\"white\",\"minorgridcolor\":\"white\",\"startlinecolor\":\"#2a3f5f\"},\"type\":\"carpet\"}],\"table\":[{\"cells\":{\"fill\":{\"color\":\"#EBF0F8\"},\"line\":{\"color\":\"white\"}},\"header\":{\"fill\":{\"color\":\"#C8D4E3\"},\"line\":{\"color\":\"white\"}},\"type\":\"table\"}],\"barpolar\":[{\"marker\":{\"line\":{\"color\":\"#E5ECF6\",\"width\":0.5},\"pattern\":{\"fillmode\":\"overlay\",\"size\":10,\"solidity\":0.2}},\"type\":\"barpolar\"}],\"pie\":[{\"automargin\":true,\"type\":\"pie\"}]},\"layout\":{\"autotypenumbers\":\"strict\",\"colorway\":[\"#636efa\",\"#EF553B\",\"#00cc96\",\"#ab63fa\",\"#FFA15A\",\"#19d3f3\",\"#FF6692\",\"#B6E880\",\"#FF97FF\",\"#FECB52\"],\"font\":{\"color\":\"#2a3f5f\"},\"hovermode\":\"closest\",\"hoverlabel\":{\"align\":\"left\"},\"paper_bgcolor\":\"white\",\"plot_bgcolor\":\"#E5ECF6\",\"polar\":{\"bgcolor\":\"#E5ECF6\",\"angularaxis\":{\"gridcolor\":\"white\",\"linecolor\":\"white\",\"ticks\":\"\"},\"radialaxis\":{\"gridcolor\":\"white\",\"linecolor\":\"white\",\"ticks\":\"\"}},\"ternary\":{\"bgcolor\":\"#E5ECF6\",\"aaxis\":{\"gridcolor\":\"white\",\"linecolor\":\"white\",\"ticks\":\"\"},\"baxis\":{\"gridcolor\":\"white\",\"linecolor\":\"white\",\"ticks\":\"\"},\"caxis\":{\"gridcolor\":\"white\",\"linecolor\":\"white\",\"ticks\":\"\"}},\"coloraxis\":{\"colorbar\":{\"outlinewidth\":0,\"ticks\":\"\"}},\"colorscale\":{\"sequential\":[[0.0,\"#0d0887\"],[0.1111111111111111,\"#46039f\"],[0.2222222222222222,\"#7201a8\"],[0.3333333333333333,\"#9c179e\"],[0.4444444444444444,\"#bd3786\"],[0.5555555555555556,\"#d8576b\"],[0.6666666666666666,\"#ed7953\"],[0.7777777777777778,\"#fb9f3a\"],[0.8888888888888888,\"#fdca26\"],[1.0,\"#f0f921\"]],\"sequentialminus\":[[0.0,\"#0d0887\"],[0.1111111111111111,\"#46039f\"],[0.2222222222222222,\"#7201a8\"],[0.3333333333333333,\"#9c179e\"],[0.4444444444444444,\"#bd3786\"],[0.5555555555555556,\"#d8576b\"],[0.6666666666666666,\"#ed7953\"],[0.7777777777777778,\"#fb9f3a\"],[0.8888888888888888,\"#fdca26\"],[1.0,\"#f0f921\"]],\"diverging\":[[0,\"#8e0152\"],[0.1,\"#c51b7d\"],[0.2,\"#de77ae\"],[0.3,\"#f1b6da\"],[0.4,\"#fde0ef\"],[0.5,\"#f7f7f7\"],[0.6,\"#e6f5d0\"],[0.7,\"#b8e186\"],[0.8,\"#7fbc41\"],[0.9,\"#4d9221\"],[1,\"#276419\"]]},\"xaxis\":{\"gridcolor\":\"white\",\"linecolor\":\"white\",\"ticks\":\"\",\"title\":{\"standoff\":15},\"zerolinecolor\":\"white\",\"automargin\":true,\"zerolinewidth\":2},\"yaxis\":{\"gridcolor\":\"white\",\"linecolor\":\"white\",\"ticks\":\"\",\"title\":{\"standoff\":15},\"zerolinecolor\":\"white\",\"automargin\":true,\"zerolinewidth\":2},\"scene\":{\"xaxis\":{\"backgroundcolor\":\"#E5ECF6\",\"gridcolor\":\"white\",\"linecolor\":\"white\",\"showbackground\":true,\"ticks\":\"\",\"zerolinecolor\":\"white\",\"gridwidth\":2},\"yaxis\":{\"backgroundcolor\":\"#E5ECF6\",\"gridcolor\":\"white\",\"linecolor\":\"white\",\"showbackground\":true,\"ticks\":\"\",\"zerolinecolor\":\"white\",\"gridwidth\":2},\"zaxis\":{\"backgroundcolor\":\"#E5ECF6\",\"gridcolor\":\"white\",\"linecolor\":\"white\",\"showbackground\":true,\"ticks\":\"\",\"zerolinecolor\":\"white\",\"gridwidth\":2}},\"shapedefaults\":{\"line\":{\"color\":\"#2a3f5f\"}},\"annotationdefaults\":{\"arrowcolor\":\"#2a3f5f\",\"arrowhead\":0,\"arrowwidth\":1},\"geo\":{\"bgcolor\":\"white\",\"landcolor\":\"#E5ECF6\",\"subunitcolor\":\"white\",\"showland\":true,\"showlakes\":true,\"lakecolor\":\"white\"},\"title\":{\"x\":0.05},\"mapbox\":{\"style\":\"light\"}}},\"xaxis\":{\"anchor\":\"y\",\"domain\":[0.0,0.32666666666666666],\"title\":{\"text\":\"Review Ratings\"},\"categoryorder\":\"array\",\"categoryarray\":[\"1\",\"2\",\"3\",\"4\",\"5\"]},\"yaxis\":{\"anchor\":\"x\",\"domain\":[0.0,1.0],\"title\":{\"text\":\"Count\"}},\"xaxis2\":{\"anchor\":\"y2\",\"domain\":[0.33666666666666667,0.6633333333333333],\"matches\":\"x\",\"title\":{\"text\":\"Review Ratings\"},\"categoryorder\":\"array\",\"categoryarray\":[\"1\",\"3\",\"4\",\"5\",\"2\"]},\"yaxis2\":{\"anchor\":\"x2\",\"domain\":[0.0,1.0],\"matches\":\"y\",\"showticklabels\":false},\"xaxis3\":{\"anchor\":\"y3\",\"domain\":[0.6733333333333333,1.0],\"matches\":\"x\",\"title\":{\"text\":\"Review Ratings\"},\"categoryorder\":\"array\",\"categoryarray\":[\"1\",\"3\",\"4\",\"5\",\"2\"]},\"yaxis3\":{\"anchor\":\"x3\",\"domain\":[0.0,1.0],\"matches\":\"y\",\"showticklabels\":false},\"annotations\":[{\"font\":{},\"showarrow\":false,\"text\":\"Location=\\u9999\\u6e2f\\u5927\\u5b78\",\"x\":0.16333333333333333,\"xanchor\":\"center\",\"xref\":\"paper\",\"y\":1.0,\"yanchor\":\"bottom\",\"yref\":\"paper\"},{\"font\":{},\"showarrow\":false,\"text\":\"Location=The Henry\",\"x\":0.5,\"xanchor\":\"center\",\"xref\":\"paper\",\"y\":1.0,\"yanchor\":\"bottom\",\"yref\":\"paper\"},{\"font\":{},\"showarrow\":false,\"text\":\"Location=Imperial Kennedy\",\"x\":0.8366666666666667,\"xanchor\":\"center\",\"xref\":\"paper\",\"y\":1.0,\"yanchor\":\"bottom\",\"yref\":\"paper\"}],\"legend\":{\"title\":{\"text\":\"Review Ratings:\"},\"tracegroupgap\":0,\"orientation\":\"h\",\"yanchor\":\"top\",\"y\":1.25,\"xanchor\":\"center\",\"x\":0.5,\"bordercolor\":\"#B0C4DE\",\"borderwidth\":1},\"title\":{\"text\":\"Bar Chart of the Ratings (Detail)\",\"y\":0.95,\"x\":0.5,\"xanchor\":\"center\",\"yanchor\":\"top\"},\"barmode\":\"relative\",\"showlegend\":true,\"width\":800,\"height\":400},                        {\"responsive\": true}                    ).then(function(){\n",
       "                            \n",
       "var gd = document.getElementById('ce278700-ab05-43a0-a14a-f6e9403ee76c');\n",
       "var x = new MutationObserver(function (mutations, observer) {{\n",
       "        var display = window.getComputedStyle(gd).display;\n",
       "        if (!display || display === 'none') {{\n",
       "            console.log([gd, 'removed!']);\n",
       "            Plotly.purge(gd);\n",
       "            observer.disconnect();\n",
       "        }}\n",
       "}});\n",
       "\n",
       "// Listen for the removal of the full notebook cells\n",
       "var notebookContainer = gd.closest('#notebook-container');\n",
       "if (notebookContainer) {{\n",
       "    x.observe(notebookContainer, {childList: true});\n",
       "}}\n",
       "\n",
       "// Listen for the clearing of the current output cell\n",
       "var outputEl = gd.closest('.output');\n",
       "if (outputEl) {{\n",
       "    x.observe(outputEl, {childList: true});\n",
       "}}\n",
       "\n",
       "                        })                };                });            </script>        </div>"
      ]
     },
     "metadata": {},
     "output_type": "display_data"
    }
   ],
   "source": [
    "color_sequence = px.colors.sequential.RdBu\n",
    "\n",
    "n_colors = 5\n",
    "color_range = [i*(len(color_sequence)-1)//(n_colors-1) for i in range(n_colors)]\n",
    "color_list = [color_sequence[idx] for idx in color_range]\n",
    "custom_order= [\"1\",\"2\",\"3\",\"4\",\"5\"]\n",
    "color_map = {key:val for (key, val) in zip(custom_order,color_list)}\n",
    "\n",
    "\n",
    "fig = px.bar(stats_df, \n",
    "             x=\"review_rating\", y=\"count\", \n",
    "             color=\"review_rating\", \n",
    "             color_discrete_map = color_map,\n",
    "             text = \"review_date\",\n",
    "             facet_col=\"location_name\",\n",
    "             facet_col_spacing =0.01,\n",
    "             labels={\"count\":\"Count\", \n",
    "                     \"review_rating\":\"Review Ratings\",\n",
    "                    \"location_name\": \"Location\"},\n",
    "             title = \"Bar Chart of the Ratings (Detail)\"\n",
    "            )\n",
    "\n",
    "fig.update_traces(texttemplate='%{text}', \n",
    "                  textposition='inside', \n",
    "                  textfont=dict(size=10), \n",
    "                  textangle=45,\n",
    "                  marker_line_color='black', marker_line_width=0.4)\n",
    "fig.update_layout(showlegend=True,\n",
    "                  xaxis={'categoryorder': 'array', 'categoryarray': custom_order},\n",
    "                  legend=dict(title=\"Review Ratings:\", orientation='h', yanchor='top',y=1.25,xanchor='center',x=0.5, bordercolor=\"#B0C4DE\", borderwidth=1),\n",
    "                  title=dict(y=0.95, x=0.5, xanchor='center', yanchor='top'), \n",
    "                  width=800, height=400\n",
    "                 )\n",
    "fig.write_image(\"2bar_detail.jpeg\")\n",
    "fig.show()"
   ]
  },
  {
   "cell_type": "markdown",
   "id": "a59c86a0",
   "metadata": {},
   "source": [
    "## chatgpt sentiment analysis"
   ]
  },
  {
   "cell_type": "code",
   "execution_count": 10,
   "id": "408ae9e6",
   "metadata": {},
   "outputs": [],
   "source": [
    "load_dotenv(\"config.env\")\n",
    "openai.api_key  = os.getenv('OPENAI_API_KEY')\n"
   ]
  },
  {
   "cell_type": "code",
   "execution_count": 11,
   "id": "f307dcf8",
   "metadata": {},
   "outputs": [],
   "source": [
    "def prompt_text(text):\n",
    "    prompt= f\"\"\" Review is provided and delimited by triple backticks.\\\n",
    "\n",
    "    Determine the following information:\n",
    "    1. What is the overall sentiment of the review?\\\n",
    "    Give your answer as either\\\n",
    "    'Positive', 'Neutral' or 'Negative'.\\\n",
    "\n",
    "    2. Determine the emotions that is portrayed in the review by the reviewer.\\\n",
    "    Give 3 emotions that is expressed by the reviewer. \\\n",
    "    Ensure each word is an adjective and do not repeat the word.\\\n",
    "    \n",
    "    3. Determine if 'customer service' \\\n",
    "    was mentioned in the review.\\\n",
    "    Provide the answer in either 'Positive', 'Negative' or 'NA' only.\\\n",
    "    \n",
    "    Format the output in dictionary format, and use\\\n",
    "    \"Sentiment\", \\\n",
    "    \"Emotions\",\\\n",
    "    \"Customer Service\" as the keys.\\\n",
    "\n",
    "    Review: '''{text}'''\n",
    "    \"\"\"\n",
    "    return prompt"
   ]
  },
  {
   "cell_type": "code",
   "execution_count": 12,
   "id": "68798829",
   "metadata": {},
   "outputs": [],
   "source": [
    "def model_response(prompt):\n",
    "    response = openai.ChatCompletion.create(\n",
    "    model=\"gpt-3.5-turbo\",\n",
    "    messages= [{\"role\": \"user\", \"content\": prompt}],\n",
    "    temperature=0,\n",
    "    )\n",
    "    return response.choices[0].message[\"content\"], response.usage.total_tokens"
   ]
  },
  {
   "cell_type": "markdown",
   "id": "80c44f08",
   "metadata": {},
   "source": [
    "### chatgpt extract the data"
   ]
  },
  {
   "cell_type": "code",
   "execution_count": 14,
   "id": "5bcf049b",
   "metadata": {
    "scrolled": true
   },
   "outputs": [
    {
     "name": "stdout",
     "output_type": "stream",
     "text": [
      "\n",
      "Review No 1\n",
      "\n",
      "\n",
      "Review No 2\n",
      "\n",
      "\n",
      "Review No 3\n",
      "\n",
      "\n",
      "Review No 4\n",
      "\n",
      "\n",
      "Review No 5\n",
      "\n",
      "\n",
      "Review No 6\n",
      "\n",
      "\n",
      "Review No 7\n",
      "\n",
      "\n",
      "Review No 8\n",
      "\n",
      "\n",
      "Review No 9\n",
      "\n",
      "\n",
      "Review No 10\n",
      "\n",
      "\n",
      "Review No 11\n",
      "\n",
      "\n",
      "Review No 12\n",
      "\n",
      "\n",
      "Review No 13\n",
      "\n",
      "\n",
      "Review No 14\n",
      "\n",
      "\n",
      "Review No 15\n",
      "\n",
      "\n",
      "Review No 16\n",
      "\n",
      "\n",
      "Review No 17\n",
      "\n",
      "\n",
      "Review No 18\n",
      "\n",
      "\n",
      "Review No 19\n",
      "\n",
      "Starting the pause...\n",
      "Pause is over.\n",
      "\n",
      "Review No 20\n",
      "\n",
      "\n",
      "Review No 21\n",
      "\n",
      "\n",
      "Review No 22\n",
      "\n",
      "\n",
      "Review No 23\n",
      "\n",
      "\n",
      "Review No 24\n",
      "\n",
      "\n",
      "Review No 25\n",
      "\n",
      "\n",
      "Review No 26\n",
      "\n",
      "\n",
      "Review No 27\n",
      "\n",
      "\n",
      "Review No 28\n",
      "\n",
      "\n",
      "Review No 29\n",
      "\n",
      "\n",
      "Review No 30\n",
      "\n",
      "\n",
      "Review No 31\n",
      "\n",
      "\n",
      "Review No 32\n",
      "\n",
      "\n",
      "Review No 33\n",
      "\n",
      "\n",
      "Review No 34\n",
      "\n",
      "\n",
      "Review No 35\n",
      "\n",
      "\n",
      "Review No 36\n",
      "\n",
      "\n",
      "Review No 37\n",
      "\n",
      "\n",
      "Review No 38\n",
      "\n",
      "\n",
      "Review No 39\n",
      "\n",
      "Starting the pause...\n",
      "Pause is over.\n",
      "\n",
      "Review No 40\n",
      "\n",
      "\n",
      "Review No 41\n",
      "\n",
      "\n",
      "Review No 42\n",
      "\n",
      "\n",
      "Review No 43\n",
      "\n",
      "\n",
      "Review No 44\n",
      "\n",
      "\n",
      "Review No 45\n",
      "\n",
      "\n",
      "Review No 46\n",
      "\n",
      "\n",
      "Review No 47\n",
      "\n",
      "\n",
      "Review No 48\n",
      "\n",
      "\n",
      "Review No 49\n",
      "\n",
      "\n",
      "Review No 50\n",
      "\n",
      "\n",
      "Review No 51\n",
      "\n",
      "\n",
      "Review No 52\n",
      "\n",
      "\n",
      "Review No 53\n",
      "\n",
      "\n",
      "Review No 54\n",
      "\n",
      "\n",
      "Review No 55\n",
      "\n",
      "\n",
      "Review No 56\n",
      "\n",
      "\n",
      "Review No 57\n",
      "\n",
      "\n",
      "Review No 58\n",
      "\n",
      "\n",
      "Review No 59\n",
      "\n",
      "Starting the pause...\n",
      "Pause is over.\n",
      "\n",
      "Review No 60\n",
      "\n"
     ]
    }
   ],
   "source": [
    "output_list = []\n",
    "total_tokens_list = []\n",
    "\n",
    "for index in range(len(data)):\n",
    "    \n",
    "    if (index+1)%20 == 0:\n",
    "        print(\"Starting the pause...\")\n",
    "        time.sleep(60)\n",
    "        print(\"Pause is over.\")\n",
    "    \n",
    "    print(f\"\\nReview No {index+1}\\n\")    \n",
    "    text = data[\"review_content\"].tolist()[index]\n",
    "\n",
    "    prompt = prompt_text(text)\n",
    "    output, total_tokens = model_response(prompt)\n",
    "    \n",
    "    output_refine = json.loads(output.replace(\"\\n\", \"\"))\n",
    "    output_list.append(output_refine)\n",
    "    \n",
    "    total_tokens_list.append(total_tokens)  \n",
    "\n",
    "data[\"gpt_output\"] = output_list\n",
    "data[\"gpt_total_tokens\"] = total_tokens_list"
   ]
  },
  {
   "cell_type": "markdown",
   "id": "f2315220",
   "metadata": {},
   "source": [
    "### process and create new columns for the extracted data"
   ]
  },
  {
   "cell_type": "code",
   "execution_count": 15,
   "id": "9996c3de",
   "metadata": {},
   "outputs": [],
   "source": [
    "sentiment_list = []\n",
    "service_list = []\n",
    "emotions_list = []\n",
    "for index in range(len(data)):\n",
    "    gpt_output = data[\"gpt_output\"].tolist()[index]\n",
    "    sentiment_list.append(gpt_output[\"Sentiment\"])\n",
    "    service_list.append(gpt_output[\"Customer Service\"])\n",
    "    emotions_list.append(gpt_output[\"Emotions\"])\n",
    "\n",
    "data[\"gpt_output_sentiment\"] = sentiment_list\n",
    "data[\"gpt_output_service\"] = service_list\n",
    "data[\"gpt_output_emotions\"] = emotions_list"
   ]
  },
  {
   "cell_type": "code",
   "execution_count": 16,
   "id": "00006560",
   "metadata": {},
   "outputs": [
    {
     "data": {
      "text/html": [
       "<div>\n",
       "<style scoped>\n",
       "    .dataframe tbody tr th:only-of-type {\n",
       "        vertical-align: middle;\n",
       "    }\n",
       "\n",
       "    .dataframe tbody tr th {\n",
       "        vertical-align: top;\n",
       "    }\n",
       "\n",
       "    .dataframe thead th {\n",
       "        text-align: right;\n",
       "    }\n",
       "</style>\n",
       "<table border=\"1\" class=\"dataframe\">\n",
       "  <thead>\n",
       "    <tr style=\"text-align: right;\">\n",
       "      <th></th>\n",
       "      <th>location_id</th>\n",
       "      <th>location_name</th>\n",
       "      <th>moreReview</th>\n",
       "      <th>review_rating</th>\n",
       "      <th>review_rating_category</th>\n",
       "      <th>review_date</th>\n",
       "      <th>review_content</th>\n",
       "      <th>gpt_output</th>\n",
       "      <th>gpt_total_tokens</th>\n",
       "      <th>gpt_output_sentiment</th>\n",
       "      <th>gpt_output_service</th>\n",
       "      <th>gpt_output_emotions</th>\n",
       "    </tr>\n",
       "  </thead>\n",
       "  <tbody>\n",
       "    <tr>\n",
       "      <th>0</th>\n",
       "      <td>id_33</td>\n",
       "      <td>香港大學綜合大樓地下2號舖</td>\n",
       "      <td>{\"author_name\": \"Coey\", \"rating\": \"1 star\", \"r...</td>\n",
       "      <td>1</td>\n",
       "      <td>&lt;= 3 stars</td>\n",
       "      <td>&lt;= a year</td>\n",
       "      <td>the staff is insanely rude, the man with glass...</td>\n",
       "      <td>{'Sentiment': 'Negative', 'Emotions': ['Rude',...</td>\n",
       "      <td>337</td>\n",
       "      <td>Negative</td>\n",
       "      <td>Negative</td>\n",
       "      <td>[Rude, Doubtful, Frustrated]</td>\n",
       "    </tr>\n",
       "    <tr>\n",
       "      <th>1</th>\n",
       "      <td>id_33</td>\n",
       "      <td>香港大學綜合大樓地下2號舖</td>\n",
       "      <td>{\"author_name\": \"Momo Yung\", \"rating\": \"1 star...</td>\n",
       "      <td>1</td>\n",
       "      <td>&lt;= 3 stars</td>\n",
       "      <td>&gt; a year</td>\n",
       "      <td>I am in a rush to get my car out of carpark bu...</td>\n",
       "      <td>{'Sentiment': 'Negative', 'Emotions': ['Hungry...</td>\n",
       "      <td>297</td>\n",
       "      <td>Negative</td>\n",
       "      <td>Negative</td>\n",
       "      <td>[Hungry, Disappointed, Ignored]</td>\n",
       "    </tr>\n",
       "    <tr>\n",
       "      <th>2</th>\n",
       "      <td>id_33</td>\n",
       "      <td>香港大學綜合大樓地下2號舖</td>\n",
       "      <td>{\"author_name\": \"TSZ LOK Cheng\", \"rating\": \"1 ...</td>\n",
       "      <td>1</td>\n",
       "      <td>&lt;= 3 stars</td>\n",
       "      <td>&lt;= a year</td>\n",
       "      <td>They don't accept cash to order coffee nor top...</td>\n",
       "      <td>{'Sentiment': 'Negative', 'Emotions': ['Disapp...</td>\n",
       "      <td>227</td>\n",
       "      <td>Negative</td>\n",
       "      <td>NA</td>\n",
       "      <td>[Disappointing, Frustrated, Unhappy]</td>\n",
       "    </tr>\n",
       "    <tr>\n",
       "      <th>3</th>\n",
       "      <td>id_33</td>\n",
       "      <td>香港大學綜合大樓地下2號舖</td>\n",
       "      <td>{\"author_name\": \"Jasper\", \"rating\": \"5 stars\",...</td>\n",
       "      <td>5</td>\n",
       "      <td>&gt; 3 stars</td>\n",
       "      <td>&gt; a year</td>\n",
       "      <td>30% discount for HKU students 😄 …</td>\n",
       "      <td>{'Sentiment': 'Positive', 'Emotions': ['Happy'...</td>\n",
       "      <td>213</td>\n",
       "      <td>Positive</td>\n",
       "      <td>NA</td>\n",
       "      <td>[Happy, Excited, Pleased]</td>\n",
       "    </tr>\n",
       "    <tr>\n",
       "      <th>4</th>\n",
       "      <td>id_33</td>\n",
       "      <td>香港大學綜合大樓地下2號舖</td>\n",
       "      <td>{\"author_name\": \"Patrick Bai\", \"rating\": \"5 st...</td>\n",
       "      <td>5</td>\n",
       "      <td>&gt; 3 stars</td>\n",
       "      <td>&gt; a year</td>\n",
       "      <td>With the student discount, drinks are outrageo...</td>\n",
       "      <td>{'Sentiment': 'Positive', 'Emotions': ['Thrill...</td>\n",
       "      <td>228</td>\n",
       "      <td>Positive</td>\n",
       "      <td>NA</td>\n",
       "      <td>[Thrilled, Pleased, Impressed]</td>\n",
       "    </tr>\n",
       "    <tr>\n",
       "      <th>5</th>\n",
       "      <td>id_33</td>\n",
       "      <td>香港大學綜合大樓地下2號舖</td>\n",
       "      <td>{\"author_name\": \"Jeshurun Ratnasamy\", \"rating\"...</td>\n",
       "      <td>4</td>\n",
       "      <td>&gt; 3 stars</td>\n",
       "      <td>&lt;= a year</td>\n",
       "      <td>it’s a starbucks.  not much to say apart from ...</td>\n",
       "      <td>{'Sentiment': 'Neutral', 'Emotions': ['Conveni...</td>\n",
       "      <td>230</td>\n",
       "      <td>Neutral</td>\n",
       "      <td>NA</td>\n",
       "      <td>[Convenient, Routine, Unremarkable]</td>\n",
       "    </tr>\n",
       "    <tr>\n",
       "      <th>6</th>\n",
       "      <td>id_33</td>\n",
       "      <td>香港大學綜合大樓地下2號舖</td>\n",
       "      <td>{\"author_name\": \"Tim Leung\", \"rating\": \"4 star...</td>\n",
       "      <td>4</td>\n",
       "      <td>&gt; 3 stars</td>\n",
       "      <td>&gt; a year</td>\n",
       "      <td>Reasonable price for HKU personnel. Only a sma...</td>\n",
       "      <td>{'Sentiment': 'Neutral', 'Emotions': ['Reasona...</td>\n",
       "      <td>220</td>\n",
       "      <td>Neutral</td>\n",
       "      <td>NA</td>\n",
       "      <td>[Reasonable, Small, Available]</td>\n",
       "    </tr>\n",
       "    <tr>\n",
       "      <th>7</th>\n",
       "      <td>id_33</td>\n",
       "      <td>香港大學綜合大樓地下2號舖</td>\n",
       "      <td>{\"author_name\": \"Terence Wan\", \"rating\": \"4 st...</td>\n",
       "      <td>4</td>\n",
       "      <td>&gt; 3 stars</td>\n",
       "      <td>&gt; a year</td>\n",
       "      <td>Cold Brew less ice</td>\n",
       "      <td>{'Sentiment': 'Neutral', 'Emotions': ['Cold', ...</td>\n",
       "      <td>206</td>\n",
       "      <td>Neutral</td>\n",
       "      <td>NA</td>\n",
       "      <td>[Cold, Less, Icy]</td>\n",
       "    </tr>\n",
       "    <tr>\n",
       "      <th>8</th>\n",
       "      <td>id_33</td>\n",
       "      <td>香港大學綜合大樓地下2號舖</td>\n",
       "      <td>{\"author_name\": \"Paul Fong\", \"rating\": \"1 star...</td>\n",
       "      <td>1</td>\n",
       "      <td>&lt;= 3 stars</td>\n",
       "      <td>&gt; a year</td>\n",
       "      <td>Staff not so professional n caring。。。。</td>\n",
       "      <td>{'Sentiment': 'Negative', 'Emotions': ['Unprof...</td>\n",
       "      <td>213</td>\n",
       "      <td>Negative</td>\n",
       "      <td>NA</td>\n",
       "      <td>[Unprofessional, Uncaring, Disappointing]</td>\n",
       "    </tr>\n",
       "    <tr>\n",
       "      <th>9</th>\n",
       "      <td>id_33</td>\n",
       "      <td>香港大學綜合大樓地下2號舖</td>\n",
       "      <td>{\"author_name\": \"msblue737\", \"rating\": \"5 star...</td>\n",
       "      <td>5</td>\n",
       "      <td>&gt; 3 stars</td>\n",
       "      <td>&gt; a year</td>\n",
       "      <td>Good place to get a coffee in tai kok tsui.</td>\n",
       "      <td>{'Sentiment': 'Positive', 'Emotions': ['Good',...</td>\n",
       "      <td>215</td>\n",
       "      <td>Positive</td>\n",
       "      <td>NA</td>\n",
       "      <td>[Good, Enjoyable, Satisfying]</td>\n",
       "    </tr>\n",
       "    <tr>\n",
       "      <th>10</th>\n",
       "      <td>id_33</td>\n",
       "      <td>香港大學綜合大樓地下2號舖</td>\n",
       "      <td>{\"author_name\": \"Liza Ng\\u5433\\u5c11\\u840d\", \"...</td>\n",
       "      <td>5</td>\n",
       "      <td>&gt; 3 stars</td>\n",
       "      <td>&gt; a year</td>\n",
       "      <td>Never been so subtle &amp; quiet with picturesque ...</td>\n",
       "      <td>{'Sentiment': 'Neutral', 'Emotions': ['Subtle'...</td>\n",
       "      <td>218</td>\n",
       "      <td>Neutral</td>\n",
       "      <td>NA</td>\n",
       "      <td>[Subtle, Quiet, Picturesque]</td>\n",
       "    </tr>\n",
       "    <tr>\n",
       "      <th>11</th>\n",
       "      <td>id_33</td>\n",
       "      <td>香港大學綜合大樓地下2號舖</td>\n",
       "      <td>{\"author_name\": \"Victor Li\", \"rating\": \"5 star...</td>\n",
       "      <td>5</td>\n",
       "      <td>&gt; 3 stars</td>\n",
       "      <td>&gt; a year</td>\n",
       "      <td>Enjoy Starbucks coffee with 30% discount price...</td>\n",
       "      <td>{'Sentiment': 'Positive', 'Emotions': ['Enjoya...</td>\n",
       "      <td>216</td>\n",
       "      <td>Positive</td>\n",
       "      <td>NA</td>\n",
       "      <td>[Enjoyable, Popular, Discounted]</td>\n",
       "    </tr>\n",
       "    <tr>\n",
       "      <th>12</th>\n",
       "      <td>id_33</td>\n",
       "      <td>香港大學綜合大樓地下2號舖</td>\n",
       "      <td>{\"author_name\": \"Hsu George\", \"rating\": \"3 sta...</td>\n",
       "      <td>3</td>\n",
       "      <td>&lt;= 3 stars</td>\n",
       "      <td>&gt; a year</td>\n",
       "      <td>The coffee is good. Service ordinary</td>\n",
       "      <td>{'Sentiment': 'Neutral', 'Emotions': ['Good', ...</td>\n",
       "      <td>209</td>\n",
       "      <td>Neutral</td>\n",
       "      <td>NA</td>\n",
       "      <td>[Good, Ordinary, NA]</td>\n",
       "    </tr>\n",
       "    <tr>\n",
       "      <th>13</th>\n",
       "      <td>id_33</td>\n",
       "      <td>香港大學綜合大樓地下2號舖</td>\n",
       "      <td>{\"author_name\": \"Sean Massa\", \"rating\": \"1 sta...</td>\n",
       "      <td>1</td>\n",
       "      <td>&lt;= 3 stars</td>\n",
       "      <td>&gt; a year</td>\n",
       "      <td>20 minute wait for mobile order latte</td>\n",
       "      <td>{'Sentiment': 'Neutral', 'Emotions': ['Impatie...</td>\n",
       "      <td>216</td>\n",
       "      <td>Neutral</td>\n",
       "      <td>NA</td>\n",
       "      <td>[Impatient, Frustrated, Annoyed]</td>\n",
       "    </tr>\n",
       "    <tr>\n",
       "      <th>14</th>\n",
       "      <td>id_33</td>\n",
       "      <td>香港大學綜合大樓地下2號舖</td>\n",
       "      <td>{\"author_name\": \"William Tang\", \"rating\": \"3 s...</td>\n",
       "      <td>3</td>\n",
       "      <td>&lt;= 3 stars</td>\n",
       "      <td>&gt; a year</td>\n",
       "      <td>Small. Not good.</td>\n",
       "      <td>{'Sentiment': 'Negative', 'Emotions': ['Disapp...</td>\n",
       "      <td>212</td>\n",
       "      <td>Negative</td>\n",
       "      <td>NA</td>\n",
       "      <td>[Disappointing, Unsatisfactory, Unimpressive]</td>\n",
       "    </tr>\n",
       "    <tr>\n",
       "      <th>15</th>\n",
       "      <td>id_33</td>\n",
       "      <td>香港大學綜合大樓地下2號舖</td>\n",
       "      <td>{\"author_name\": \"Gabriela Sofia\", \"rating\": \"5...</td>\n",
       "      <td>5</td>\n",
       "      <td>&gt; 3 stars</td>\n",
       "      <td>&gt; a year</td>\n",
       "      <td>good price inside HKU</td>\n",
       "      <td>{'Sentiment': 'Neutral', 'Emotions': ['Good', ...</td>\n",
       "      <td>208</td>\n",
       "      <td>Neutral</td>\n",
       "      <td>NA</td>\n",
       "      <td>[Good, Affordable, Convenient]</td>\n",
       "    </tr>\n",
       "    <tr>\n",
       "      <th>16</th>\n",
       "      <td>id_33</td>\n",
       "      <td>香港大學綜合大樓地下2號舖</td>\n",
       "      <td>{\"author_name\": \"Ahmed Zaeneldin\", \"rating\": \"...</td>\n",
       "      <td>5</td>\n",
       "      <td>&gt; 3 stars</td>\n",
       "      <td>&gt; a year</td>\n",
       "      <td>Very good as usual</td>\n",
       "      <td>{'Sentiment': 'Positive', 'Emotions': ['Satisf...</td>\n",
       "      <td>210</td>\n",
       "      <td>Positive</td>\n",
       "      <td>NA</td>\n",
       "      <td>[Satisfactory, Consistent, Pleasant]</td>\n",
       "    </tr>\n",
       "    <tr>\n",
       "      <th>17</th>\n",
       "      <td>id_33</td>\n",
       "      <td>香港大學綜合大樓地下2號舖</td>\n",
       "      <td>{\"author_name\": \"\\u9673\\u6cd5\\u62c9\\uff08Cat3\\...</td>\n",
       "      <td>4</td>\n",
       "      <td>&gt; 3 stars</td>\n",
       "      <td>&gt; a year</td>\n",
       "      <td>Have a break, coffee</td>\n",
       "      <td>{'Sentiment': 'Neutral', 'Emotions': ['Relaxin...</td>\n",
       "      <td>210</td>\n",
       "      <td>Neutral</td>\n",
       "      <td>NA</td>\n",
       "      <td>[Relaxing, Refreshing, Satisfying]</td>\n",
       "    </tr>\n",
       "    <tr>\n",
       "      <th>18</th>\n",
       "      <td>id_33</td>\n",
       "      <td>香港大學綜合大樓地下2號舖</td>\n",
       "      <td>{\"author_name\": \"Benjoman Choi\", \"rating\": \"5 ...</td>\n",
       "      <td>5</td>\n",
       "      <td>&gt; 3 stars</td>\n",
       "      <td>&gt; a year</td>\n",
       "      <td>Online Apps purchase</td>\n",
       "      <td>{'Sentiment': 'Neutral', 'Emotions': ['Conveni...</td>\n",
       "      <td>208</td>\n",
       "      <td>Neutral</td>\n",
       "      <td>NA</td>\n",
       "      <td>[Convenient, Efficient, Impersonal]</td>\n",
       "    </tr>\n",
       "    <tr>\n",
       "      <th>19</th>\n",
       "      <td>id_33</td>\n",
       "      <td>香港大學綜合大樓地下2號舖</td>\n",
       "      <td>{\"author_name\": \"noemi amador\", \"rating\": \"5 s...</td>\n",
       "      <td>5</td>\n",
       "      <td>&gt; 3 stars</td>\n",
       "      <td>&gt; a year</td>\n",
       "      <td>love it</td>\n",
       "      <td>{'Sentiment': 'Positive', 'Emotions': ['Adorat...</td>\n",
       "      <td>208</td>\n",
       "      <td>Positive</td>\n",
       "      <td>NA</td>\n",
       "      <td>[Adoration, Affectionate, Fondness]</td>\n",
       "    </tr>\n",
       "    <tr>\n",
       "      <th>20</th>\n",
       "      <td>id_48</td>\n",
       "      <td>The Henry*</td>\n",
       "      <td>{\"author_name\": \"Jack Poon\", \"rating\": \"5 star...</td>\n",
       "      <td>5</td>\n",
       "      <td>&gt; 3 stars</td>\n",
       "      <td>&gt; a year</td>\n",
       "      <td>I’ve always been a Starbucks fan. I bought the...</td>\n",
       "      <td>{'Sentiment': 'Positive', 'Emotions': ['Favour...</td>\n",
       "      <td>264</td>\n",
       "      <td>Positive</td>\n",
       "      <td>NA</td>\n",
       "      <td>[Favourable, Wishful, Satisfied]</td>\n",
       "    </tr>\n",
       "    <tr>\n",
       "      <th>21</th>\n",
       "      <td>id_48</td>\n",
       "      <td>The Henry*</td>\n",
       "      <td>{\"author_name\": \"EY\", \"rating\": \"1 star\", \"rev...</td>\n",
       "      <td>1</td>\n",
       "      <td>&lt;= 3 stars</td>\n",
       "      <td>&lt;= a year</td>\n",
       "      <td>ordered a vanilla sweet cream cold brew but it...</td>\n",
       "      <td>{'Sentiment': 'Negative', 'Emotions': ['Watery...</td>\n",
       "      <td>226</td>\n",
       "      <td>Negative</td>\n",
       "      <td>NA</td>\n",
       "      <td>[Watery, Disappointing, Unsatisfactory]</td>\n",
       "    </tr>\n",
       "    <tr>\n",
       "      <th>22</th>\n",
       "      <td>id_48</td>\n",
       "      <td>The Henry*</td>\n",
       "      <td>{\"author_name\": \"Mark Lam\", \"rating\": \"1 star\"...</td>\n",
       "      <td>1</td>\n",
       "      <td>&lt;= 3 stars</td>\n",
       "      <td>&lt;= a year</td>\n",
       "      <td>Extremely slow to take orders</td>\n",
       "      <td>{'Sentiment': 'Negative', 'Emotions': ['Frustr...</td>\n",
       "      <td>214</td>\n",
       "      <td>Negative</td>\n",
       "      <td>NA</td>\n",
       "      <td>[Frustrated, Impatient, Annoyed]</td>\n",
       "    </tr>\n",
       "    <tr>\n",
       "      <th>23</th>\n",
       "      <td>id_48</td>\n",
       "      <td>The Henry*</td>\n",
       "      <td>{\"author_name\": \"Joaquim D'Silva\", \"rating\": \"...</td>\n",
       "      <td>4</td>\n",
       "      <td>&gt; 3 stars</td>\n",
       "      <td>&gt; a year</td>\n",
       "      <td>Fresh coffees [one of the best] to your liking...</td>\n",
       "      <td>{'Sentiment': 'Neutral', 'Emotions': ['Polite'...</td>\n",
       "      <td>255</td>\n",
       "      <td>Neutral</td>\n",
       "      <td>NA</td>\n",
       "      <td>[Polite, Warm, Better]</td>\n",
       "    </tr>\n",
       "    <tr>\n",
       "      <th>24</th>\n",
       "      <td>id_48</td>\n",
       "      <td>The Henry*</td>\n",
       "      <td>{\"author_name\": \"Eve K\", \"rating\": \"2 stars\", ...</td>\n",
       "      <td>2</td>\n",
       "      <td>&lt;= 3 stars</td>\n",
       "      <td>&gt; a year</td>\n",
       "      <td>Really cold... super strong AC. Food there is ...</td>\n",
       "      <td>{'Sentiment': 'Negative', 'Emotions': ['Cold',...</td>\n",
       "      <td>255</td>\n",
       "      <td>Negative</td>\n",
       "      <td>NA</td>\n",
       "      <td>[Cold, Old, Infrequent]</td>\n",
       "    </tr>\n",
       "    <tr>\n",
       "      <th>25</th>\n",
       "      <td>id_48</td>\n",
       "      <td>The Henry*</td>\n",
       "      <td>{\"author_name\": \"Bloggers Boyfriend\", \"rating\"...</td>\n",
       "      <td>2</td>\n",
       "      <td>&lt;= 3 stars</td>\n",
       "      <td>&gt; a year</td>\n",
       "      <td>wifi is Slow AF and limited 30 minutes per tra...</td>\n",
       "      <td>{'Sentiment': 'Negative', 'Emotions': ['Frustr...</td>\n",
       "      <td>224</td>\n",
       "      <td>Negative</td>\n",
       "      <td>NA</td>\n",
       "      <td>[Frustrated, Annoyed, Disappointed]</td>\n",
       "    </tr>\n",
       "    <tr>\n",
       "      <th>26</th>\n",
       "      <td>id_48</td>\n",
       "      <td>The Henry*</td>\n",
       "      <td>{\"author_name\": \"Dmitry Belousov\", \"rating\": \"...</td>\n",
       "      <td>3</td>\n",
       "      <td>&lt;= 3 stars</td>\n",
       "      <td>&gt; a year</td>\n",
       "      <td>Typical Starbucks, not very crowded but extrem...</td>\n",
       "      <td>{'Sentiment': 'Negative', 'Emotions': ['Crowde...</td>\n",
       "      <td>233</td>\n",
       "      <td>Negative</td>\n",
       "      <td>NA</td>\n",
       "      <td>[Crowded, Small, Dirty]</td>\n",
       "    </tr>\n",
       "    <tr>\n",
       "      <th>27</th>\n",
       "      <td>id_48</td>\n",
       "      <td>The Henry*</td>\n",
       "      <td>{\"author_name\": \"Michael JD Castro\", \"rating\":...</td>\n",
       "      <td>5</td>\n",
       "      <td>&gt; 3 stars</td>\n",
       "      <td>&gt; a year</td>\n",
       "      <td>Staff are prompt and helpful, remembers my usu...</td>\n",
       "      <td>{'Sentiment': 'Positive', 'Emotions': ['Helpfu...</td>\n",
       "      <td>218</td>\n",
       "      <td>Positive</td>\n",
       "      <td>Positive</td>\n",
       "      <td>[Helpful, Prompt, Memorable]</td>\n",
       "    </tr>\n",
       "    <tr>\n",
       "      <th>28</th>\n",
       "      <td>id_48</td>\n",
       "      <td>The Henry*</td>\n",
       "      <td>{\"author_name\": \"Lilly-Beth Bushell\", \"rating\"...</td>\n",
       "      <td>3</td>\n",
       "      <td>&lt;= 3 stars</td>\n",
       "      <td>&gt; a year</td>\n",
       "      <td>service wasn't great, nice food and drinks tho</td>\n",
       "      <td>{'Sentiment': 'Neutral', 'Emotions': ['Nice', ...</td>\n",
       "      <td>211</td>\n",
       "      <td>Neutral</td>\n",
       "      <td>Negative</td>\n",
       "      <td>[Nice, Great, Neutral]</td>\n",
       "    </tr>\n",
       "    <tr>\n",
       "      <th>29</th>\n",
       "      <td>id_48</td>\n",
       "      <td>The Henry*</td>\n",
       "      <td>{\"author_name\": \"\\u5229\\u840a\\u60e0\\u6c11Leyno...</td>\n",
       "      <td>3</td>\n",
       "      <td>&lt;= 3 stars</td>\n",
       "      <td>&gt; a year</td>\n",
       "      <td>Serene corner, tastful coffee and food, nice l...</td>\n",
       "      <td>{'Sentiment': 'Positive', 'Emotions': ['Serene...</td>\n",
       "      <td>218</td>\n",
       "      <td>Positive</td>\n",
       "      <td>NA</td>\n",
       "      <td>[Serene, Tasteful, Nice]</td>\n",
       "    </tr>\n",
       "    <tr>\n",
       "      <th>30</th>\n",
       "      <td>id_48</td>\n",
       "      <td>The Henry*</td>\n",
       "      <td>{\"author_name\": \"Kdbdbsk Idbdjfk\", \"rating\": \"...</td>\n",
       "      <td>4</td>\n",
       "      <td>&gt; 3 stars</td>\n",
       "      <td>&gt; a year</td>\n",
       "      <td>All good, relatively small and too cold on the...</td>\n",
       "      <td>{'Sentiment': 'Neutral', 'Emotions': ['Good', ...</td>\n",
       "      <td>215</td>\n",
       "      <td>Neutral</td>\n",
       "      <td>NA</td>\n",
       "      <td>[Good, Small, Cold]</td>\n",
       "    </tr>\n",
       "    <tr>\n",
       "      <th>31</th>\n",
       "      <td>id_48</td>\n",
       "      <td>The Henry*</td>\n",
       "      <td>{\"author_name\": \"KWAI LING VANESSA TAM\", \"rati...</td>\n",
       "      <td>2</td>\n",
       "      <td>&lt;= 3 stars</td>\n",
       "      <td>&gt; a year</td>\n",
       "      <td>Quiet place. But most of their staffs are unpl...</td>\n",
       "      <td>{'Sentiment': 'Negative', 'Emotions': ['Unplea...</td>\n",
       "      <td>213</td>\n",
       "      <td>Negative</td>\n",
       "      <td>NA</td>\n",
       "      <td>[Unpleasant, Quiet, Reserved]</td>\n",
       "    </tr>\n",
       "    <tr>\n",
       "      <th>32</th>\n",
       "      <td>id_48</td>\n",
       "      <td>The Henry*</td>\n",
       "      <td>{\"author_name\": \"Alfred Chan\", \"rating\": \"4 st...</td>\n",
       "      <td>4</td>\n",
       "      <td>&gt; 3 stars</td>\n",
       "      <td>&gt; a year</td>\n",
       "      <td>Good service. Nice place for a short break</td>\n",
       "      <td>{'Sentiment': 'Positive', 'Emotions': ['Good',...</td>\n",
       "      <td>210</td>\n",
       "      <td>Positive</td>\n",
       "      <td>NA</td>\n",
       "      <td>[Good, Nice, Short]</td>\n",
       "    </tr>\n",
       "    <tr>\n",
       "      <th>33</th>\n",
       "      <td>id_48</td>\n",
       "      <td>The Henry*</td>\n",
       "      <td>{\"author_name\": \"Michael Davies\", \"rating\": \"5...</td>\n",
       "      <td>5</td>\n",
       "      <td>&gt; 3 stars</td>\n",
       "      <td>&lt;= a year</td>\n",
       "      <td>Great service as usual</td>\n",
       "      <td>{'Sentiment': 'Positive', 'Emotions': ['Great'...</td>\n",
       "      <td>206</td>\n",
       "      <td>Positive</td>\n",
       "      <td>NA</td>\n",
       "      <td>[Great, Usual, Service]</td>\n",
       "    </tr>\n",
       "    <tr>\n",
       "      <th>34</th>\n",
       "      <td>id_48</td>\n",
       "      <td>The Henry*</td>\n",
       "      <td>{\"author_name\": \"Jamil Ahmad\", \"rating\": \"4 st...</td>\n",
       "      <td>4</td>\n",
       "      <td>&gt; 3 stars</td>\n",
       "      <td>&gt; a year</td>\n",
       "      <td>Same old Starbucks but practical location and ...</td>\n",
       "      <td>{'Sentiment': 'Neutral', 'Emotions': ['Practic...</td>\n",
       "      <td>217</td>\n",
       "      <td>Neutral</td>\n",
       "      <td>NA</td>\n",
       "      <td>[Practical, Quiet, Chaotic]</td>\n",
       "    </tr>\n",
       "    <tr>\n",
       "      <th>35</th>\n",
       "      <td>id_48</td>\n",
       "      <td>The Henry*</td>\n",
       "      <td>{\"author_name\": \"Douglas Baird\", \"rating\": \"4 ...</td>\n",
       "      <td>4</td>\n",
       "      <td>&gt; 3 stars</td>\n",
       "      <td>&gt; a year</td>\n",
       "      <td>Small store but the usual coffee. Friendly hel...</td>\n",
       "      <td>{'Sentiment': 'Positive', 'Emotions': ['Small'...</td>\n",
       "      <td>213</td>\n",
       "      <td>Positive</td>\n",
       "      <td>Positive</td>\n",
       "      <td>[Small, Usual, Friendly]</td>\n",
       "    </tr>\n",
       "    <tr>\n",
       "      <th>36</th>\n",
       "      <td>id_48</td>\n",
       "      <td>The Henry*</td>\n",
       "      <td>{\"author_name\": \"William Thong\", \"rating\": \"4 ...</td>\n",
       "      <td>4</td>\n",
       "      <td>&gt; 3 stars</td>\n",
       "      <td>&gt; a year</td>\n",
       "      <td>Cosy but music is too soft, almost unheardable</td>\n",
       "      <td>{'Sentiment': 'Neutral', 'Emotions': ['Cosy', ...</td>\n",
       "      <td>215</td>\n",
       "      <td>Neutral</td>\n",
       "      <td>NA</td>\n",
       "      <td>[Cosy, Soft, Unheardable]</td>\n",
       "    </tr>\n",
       "    <tr>\n",
       "      <th>37</th>\n",
       "      <td>id_48</td>\n",
       "      <td>The Henry*</td>\n",
       "      <td>{\"author_name\": \"Colin Sze\", \"rating\": \"5 star...</td>\n",
       "      <td>5</td>\n",
       "      <td>&gt; 3 stars</td>\n",
       "      <td>&gt; a year</td>\n",
       "      <td>A global success you have chosen</td>\n",
       "      <td>{'Sentiment': 'Neutral', 'Emotions': ['Global'...</td>\n",
       "      <td>208</td>\n",
       "      <td>Neutral</td>\n",
       "      <td>NA</td>\n",
       "      <td>[Global, Successful, Chosen]</td>\n",
       "    </tr>\n",
       "    <tr>\n",
       "      <th>38</th>\n",
       "      <td>id_48</td>\n",
       "      <td>The Henry*</td>\n",
       "      <td>{\"author_name\": \"Annebabe Cheer\", \"rating\": \"3...</td>\n",
       "      <td>3</td>\n",
       "      <td>&lt;= 3 stars</td>\n",
       "      <td>&gt; a year</td>\n",
       "      <td>The cake is not tasty, and quite expensive</td>\n",
       "      <td>{'Sentiment': 'Negative', 'Emotions': ['Unplea...</td>\n",
       "      <td>215</td>\n",
       "      <td>Negative</td>\n",
       "      <td>NA</td>\n",
       "      <td>[Unpleasant, Overpriced, Disappointing]</td>\n",
       "    </tr>\n",
       "    <tr>\n",
       "      <th>39</th>\n",
       "      <td>id_48</td>\n",
       "      <td>The Henry*</td>\n",
       "      <td>{\"author_name\": \"\\u30b1\\u30fc\\u30d3\", \"rating\"...</td>\n",
       "      <td>4</td>\n",
       "      <td>&gt; 3 stars</td>\n",
       "      <td>&gt; a year</td>\n",
       "      <td>Risotto Bianco is the best!!</td>\n",
       "      <td>{'Sentiment': 'Positive', 'Emotions': ['Delici...</td>\n",
       "      <td>213</td>\n",
       "      <td>Positive</td>\n",
       "      <td>NA</td>\n",
       "      <td>[Delicious, Amazing, Satisfying]</td>\n",
       "    </tr>\n",
       "    <tr>\n",
       "      <th>40</th>\n",
       "      <td>id_93</td>\n",
       "      <td>Imperial Kennedy</td>\n",
       "      <td>{\"author_name\": \"Mugi Yamamoto\", \"rating\": \"4 ...</td>\n",
       "      <td>4</td>\n",
       "      <td>&gt; 3 stars</td>\n",
       "      <td>&lt;= a year</td>\n",
       "      <td>I had a very good experience at Starbucks this...</td>\n",
       "      <td>{'Sentiment': 'Positive', 'Emotions': ['Effici...</td>\n",
       "      <td>419</td>\n",
       "      <td>Positive</td>\n",
       "      <td>NA</td>\n",
       "      <td>[Efficient, Enjoyed, Clean]</td>\n",
       "    </tr>\n",
       "    <tr>\n",
       "      <th>41</th>\n",
       "      <td>id_93</td>\n",
       "      <td>Imperial Kennedy</td>\n",
       "      <td>{\"author_name\": \"Lisa Tang\", \"rating\": \"3 star...</td>\n",
       "      <td>3</td>\n",
       "      <td>&lt;= 3 stars</td>\n",
       "      <td>&gt; a year</td>\n",
       "      <td>Nice and quite. However, its not busy and with...</td>\n",
       "      <td>{'Sentiment': 'Negative', 'Emotions': ['Quiet'...</td>\n",
       "      <td>223</td>\n",
       "      <td>Negative</td>\n",
       "      <td>Negative</td>\n",
       "      <td>[Quiet, Nice, Unacceptable]</td>\n",
       "    </tr>\n",
       "    <tr>\n",
       "      <th>42</th>\n",
       "      <td>id_93</td>\n",
       "      <td>Imperial Kennedy</td>\n",
       "      <td>{\"author_name\": \"Tareq Muhmood\", \"rating\": \"4 ...</td>\n",
       "      <td>4</td>\n",
       "      <td>&gt; 3 stars</td>\n",
       "      <td>&gt; a year</td>\n",
       "      <td>Always a good shelter to jump into from the hu...</td>\n",
       "      <td>{'Sentiment': 'Positive', 'Emotions': ['Relaxi...</td>\n",
       "      <td>244</td>\n",
       "      <td>Positive</td>\n",
       "      <td>NA</td>\n",
       "      <td>[Relaxing, Comforting, Special]</td>\n",
       "    </tr>\n",
       "    <tr>\n",
       "      <th>43</th>\n",
       "      <td>id_93</td>\n",
       "      <td>Imperial Kennedy</td>\n",
       "      <td>{\"author_name\": \"Brian\", \"rating\": \"2 stars\", ...</td>\n",
       "      <td>2</td>\n",
       "      <td>&lt;= 3 stars</td>\n",
       "      <td>&gt; a year</td>\n",
       "      <td>Nice ambiance.\\nGood average coffee (starbucks...</td>\n",
       "      <td>{'Sentiment': 'Neutral', 'Emotions': ['Nice', ...</td>\n",
       "      <td>248</td>\n",
       "      <td>Neutral</td>\n",
       "      <td>NA</td>\n",
       "      <td>[Nice, Average, Important]</td>\n",
       "    </tr>\n",
       "    <tr>\n",
       "      <th>44</th>\n",
       "      <td>id_93</td>\n",
       "      <td>Imperial Kennedy</td>\n",
       "      <td>{\"author_name\": \"Adam Newbold\", \"rating\": \"5 s...</td>\n",
       "      <td>5</td>\n",
       "      <td>&gt; 3 stars</td>\n",
       "      <td>&gt; a year</td>\n",
       "      <td>Friendly staff make this an inviting Starbucks...</td>\n",
       "      <td>{'Sentiment': 'Positive', 'Emotions': ['Friend...</td>\n",
       "      <td>255</td>\n",
       "      <td>Positive</td>\n",
       "      <td>Positive</td>\n",
       "      <td>[Friendly, Efficient, Hospitable]</td>\n",
       "    </tr>\n",
       "    <tr>\n",
       "      <th>45</th>\n",
       "      <td>id_93</td>\n",
       "      <td>Imperial Kennedy</td>\n",
       "      <td>{\"author_name\": \"Gideon Oi\", \"rating\": \"5 star...</td>\n",
       "      <td>5</td>\n",
       "      <td>&gt; 3 stars</td>\n",
       "      <td>&gt; a year</td>\n",
       "      <td>Very nice staff. Went over everyday for 3 days...</td>\n",
       "      <td>{'Sentiment': 'Positive', 'Emotions': ['Friend...</td>\n",
       "      <td>260</td>\n",
       "      <td>Positive</td>\n",
       "      <td>NA</td>\n",
       "      <td>[Friendly, Efficient, Relaxing]</td>\n",
       "    </tr>\n",
       "    <tr>\n",
       "      <th>46</th>\n",
       "      <td>id_93</td>\n",
       "      <td>Imperial Kennedy</td>\n",
       "      <td>{\"author_name\": \"Kelly H\", \"rating\": \"2 stars\"...</td>\n",
       "      <td>2</td>\n",
       "      <td>&lt;= 3 stars</td>\n",
       "      <td>&gt; a year</td>\n",
       "      <td>Air conditioning hasnt been functioning for ab...</td>\n",
       "      <td>{'Sentiment': 'Negative', 'Emotions': ['Frustr...</td>\n",
       "      <td>265</td>\n",
       "      <td>Negative</td>\n",
       "      <td>NA</td>\n",
       "      <td>[Frustrated, Disgusted, Uncomfortable]</td>\n",
       "    </tr>\n",
       "    <tr>\n",
       "      <th>47</th>\n",
       "      <td>id_93</td>\n",
       "      <td>Imperial Kennedy</td>\n",
       "      <td>{\"author_name\": \"Sachin Pradhan\", \"rating\": \"5...</td>\n",
       "      <td>5</td>\n",
       "      <td>&gt; 3 stars</td>\n",
       "      <td>&gt; a year</td>\n",
       "      <td>Beautiful an amazing place 🥰 …</td>\n",
       "      <td>{'Sentiment': 'Positive', 'Emotions': ['Beauti...</td>\n",
       "      <td>210</td>\n",
       "      <td>Positive</td>\n",
       "      <td>NA</td>\n",
       "      <td>[Beautiful, Amazing, Lovely]</td>\n",
       "    </tr>\n",
       "    <tr>\n",
       "      <th>48</th>\n",
       "      <td>id_93</td>\n",
       "      <td>Imperial Kennedy</td>\n",
       "      <td>{\"author_name\": \"Alu LO\", \"rating\": \"2 stars\",...</td>\n",
       "      <td>2</td>\n",
       "      <td>&lt;= 3 stars</td>\n",
       "      <td>&gt; a year</td>\n",
       "      <td>Dunno why shut down the Air condition in summe...</td>\n",
       "      <td>{'Sentiment': 'Negative', 'Emotions': ['Frustr...</td>\n",
       "      <td>242</td>\n",
       "      <td>Negative</td>\n",
       "      <td>NA</td>\n",
       "      <td>[Frustrated, Disappointed, Confused]</td>\n",
       "    </tr>\n",
       "    <tr>\n",
       "      <th>49</th>\n",
       "      <td>id_93</td>\n",
       "      <td>Imperial Kennedy</td>\n",
       "      <td>{\"author_name\": \"Ma Gina Aclan\", \"rating\": \"5 ...</td>\n",
       "      <td>5</td>\n",
       "      <td>&gt; 3 stars</td>\n",
       "      <td>&lt;= a year</td>\n",
       "      <td>peaceful and enjoyable 😉 with a good company ❤️</td>\n",
       "      <td>{'Sentiment': 'Positive', 'Emotions': ['Peacef...</td>\n",
       "      <td>214</td>\n",
       "      <td>Positive</td>\n",
       "      <td>NA</td>\n",
       "      <td>[Peaceful, Enjoyable, Good]</td>\n",
       "    </tr>\n",
       "    <tr>\n",
       "      <th>50</th>\n",
       "      <td>id_93</td>\n",
       "      <td>Imperial Kennedy</td>\n",
       "      <td>{\"author_name\": \"Alexandra Edwards\", \"rating\":...</td>\n",
       "      <td>5</td>\n",
       "      <td>&gt; 3 stars</td>\n",
       "      <td>&gt; a year</td>\n",
       "      <td>Quick and efficient service, the air con can g...</td>\n",
       "      <td>{'Sentiment': 'Positive', 'Emotions': ['Quick'...</td>\n",
       "      <td>216</td>\n",
       "      <td>Positive</td>\n",
       "      <td>NA</td>\n",
       "      <td>[Quick, Efficient, High]</td>\n",
       "    </tr>\n",
       "    <tr>\n",
       "      <th>51</th>\n",
       "      <td>id_93</td>\n",
       "      <td>Imperial Kennedy</td>\n",
       "      <td>{\"author_name\": \"Princess Haruchan\", \"rating\":...</td>\n",
       "      <td>3</td>\n",
       "      <td>&lt;= 3 stars</td>\n",
       "      <td>&gt; a year</td>\n",
       "      <td>You only get 30 minutes to use their WiFi and ...</td>\n",
       "      <td>{'Sentiment': 'Neutral', 'Emotions': ['Limited...</td>\n",
       "      <td>240</td>\n",
       "      <td>Neutral</td>\n",
       "      <td>NA</td>\n",
       "      <td>[Limited, Satisfied, Indifferent]</td>\n",
       "    </tr>\n",
       "    <tr>\n",
       "      <th>52</th>\n",
       "      <td>id_93</td>\n",
       "      <td>Imperial Kennedy</td>\n",
       "      <td>{\"author_name\": \"Rick Liu\", \"rating\": \"2 stars...</td>\n",
       "      <td>2</td>\n",
       "      <td>&lt;= 3 stars</td>\n",
       "      <td>&gt; a year</td>\n",
       "      <td>This Starbucks didn't have enough worker to ti...</td>\n",
       "      <td>{'Sentiment': 'Negative', 'Emotions': ['Disgus...</td>\n",
       "      <td>240</td>\n",
       "      <td>Negative</td>\n",
       "      <td>NA</td>\n",
       "      <td>[Disgusting, Unsatisfied, Unpleasant]</td>\n",
       "    </tr>\n",
       "    <tr>\n",
       "      <th>53</th>\n",
       "      <td>id_93</td>\n",
       "      <td>Imperial Kennedy</td>\n",
       "      <td>{\"author_name\": \"Peugeot Chu\", \"rating\": \"5 st...</td>\n",
       "      <td>5</td>\n",
       "      <td>&gt; 3 stars</td>\n",
       "      <td>&gt; a year</td>\n",
       "      <td>Cozy shop. Signature chocolate milk and cream ...</td>\n",
       "      <td>{'Sentiment': 'Positive', 'Emotions': ['Cozy',...</td>\n",
       "      <td>222</td>\n",
       "      <td>Positive</td>\n",
       "      <td>NA</td>\n",
       "      <td>[Cozy, Signature, Top]</td>\n",
       "    </tr>\n",
       "    <tr>\n",
       "      <th>54</th>\n",
       "      <td>id_93</td>\n",
       "      <td>Imperial Kennedy</td>\n",
       "      <td>{\"author_name\": \"reginald\", \"rating\": \"4 stars...</td>\n",
       "      <td>4</td>\n",
       "      <td>&gt; 3 stars</td>\n",
       "      <td>&gt; a year</td>\n",
       "      <td>its a pretty decent place. good atmosphere, qu...</td>\n",
       "      <td>{'Sentiment': 'Positive', 'Emotions': ['Decent...</td>\n",
       "      <td>216</td>\n",
       "      <td>Positive</td>\n",
       "      <td>NA</td>\n",
       "      <td>[Decent, Good, Quick]</td>\n",
       "    </tr>\n",
       "    <tr>\n",
       "      <th>55</th>\n",
       "      <td>id_93</td>\n",
       "      <td>Imperial Kennedy</td>\n",
       "      <td>{\"author_name\": \"Kimtsy Tai\", \"rating\": \"5 sta...</td>\n",
       "      <td>5</td>\n",
       "      <td>&gt; 3 stars</td>\n",
       "      <td>&lt;= a year</td>\n",
       "      <td>Good coffee, food and nice staff.</td>\n",
       "      <td>{'Sentiment': 'Positive', 'Emotions': ['Good',...</td>\n",
       "      <td>208</td>\n",
       "      <td>Positive</td>\n",
       "      <td>NA</td>\n",
       "      <td>[Good, Nice, Food]</td>\n",
       "    </tr>\n",
       "    <tr>\n",
       "      <th>56</th>\n",
       "      <td>id_93</td>\n",
       "      <td>Imperial Kennedy</td>\n",
       "      <td>{\"author_name\": \"Trent H\", \"rating\": \"5 stars\"...</td>\n",
       "      <td>5</td>\n",
       "      <td>&gt; 3 stars</td>\n",
       "      <td>&gt; a year</td>\n",
       "      <td>Top notch service from the barista team here. ...</td>\n",
       "      <td>{'Sentiment': 'Positive', 'Emotions': ['Passio...</td>\n",
       "      <td>224</td>\n",
       "      <td>Positive</td>\n",
       "      <td>Positive</td>\n",
       "      <td>[Passionate, Proactive, Professional]</td>\n",
       "    </tr>\n",
       "    <tr>\n",
       "      <th>57</th>\n",
       "      <td>id_93</td>\n",
       "      <td>Imperial Kennedy</td>\n",
       "      <td>{\"author_name\": \"JH 78\", \"rating\": \"1 star\", \"...</td>\n",
       "      <td>1</td>\n",
       "      <td>&lt;= 3 stars</td>\n",
       "      <td>&gt; a year</td>\n",
       "      <td>Dont go this place, huge shop but only 1 staff...</td>\n",
       "      <td>{'Sentiment': 'Negative', 'Emotions': ['Frustr...</td>\n",
       "      <td>233</td>\n",
       "      <td>Negative</td>\n",
       "      <td>Negative</td>\n",
       "      <td>[Frustrated, Impatient, Disappointed]</td>\n",
       "    </tr>\n",
       "    <tr>\n",
       "      <th>58</th>\n",
       "      <td>id_93</td>\n",
       "      <td>Imperial Kennedy</td>\n",
       "      <td>{\"author_name\": \"Ross Adcock\", \"rating\": \"4 st...</td>\n",
       "      <td>4</td>\n",
       "      <td>&gt; 3 stars</td>\n",
       "      <td>&gt; a year</td>\n",
       "      <td>A comfortable coffee shop with lots of natural...</td>\n",
       "      <td>{'Sentiment': 'Positive', 'Emotions': ['Comfor...</td>\n",
       "      <td>223</td>\n",
       "      <td>Positive</td>\n",
       "      <td>NA</td>\n",
       "      <td>[Comfortable, Enjoyable, Light]</td>\n",
       "    </tr>\n",
       "    <tr>\n",
       "      <th>59</th>\n",
       "      <td>id_93</td>\n",
       "      <td>Imperial Kennedy</td>\n",
       "      <td>{\"author_name\": \"Florence Tam\", \"rating\": \"3 s...</td>\n",
       "      <td>3</td>\n",
       "      <td>&lt;= 3 stars</td>\n",
       "      <td>&gt; a year</td>\n",
       "      <td>Dim light, the environment is not very good. F...</td>\n",
       "      <td>{'Sentiment': 'Neutral', 'Emotions': ['Dim', '...</td>\n",
       "      <td>231</td>\n",
       "      <td>Neutral</td>\n",
       "      <td>NA</td>\n",
       "      <td>[Dim, Occupied, Standard]</td>\n",
       "    </tr>\n",
       "  </tbody>\n",
       "</table>\n",
       "</div>"
      ],
      "text/plain": [
       "   location_id     location_name   \n",
       "0        id_33     香港大學綜合大樓地下2號舖  \\\n",
       "1        id_33     香港大學綜合大樓地下2號舖   \n",
       "2        id_33     香港大學綜合大樓地下2號舖   \n",
       "3        id_33     香港大學綜合大樓地下2號舖   \n",
       "4        id_33     香港大學綜合大樓地下2號舖   \n",
       "5        id_33     香港大學綜合大樓地下2號舖   \n",
       "6        id_33     香港大學綜合大樓地下2號舖   \n",
       "7        id_33     香港大學綜合大樓地下2號舖   \n",
       "8        id_33     香港大學綜合大樓地下2號舖   \n",
       "9        id_33     香港大學綜合大樓地下2號舖   \n",
       "10       id_33     香港大學綜合大樓地下2號舖   \n",
       "11       id_33     香港大學綜合大樓地下2號舖   \n",
       "12       id_33     香港大學綜合大樓地下2號舖   \n",
       "13       id_33     香港大學綜合大樓地下2號舖   \n",
       "14       id_33     香港大學綜合大樓地下2號舖   \n",
       "15       id_33     香港大學綜合大樓地下2號舖   \n",
       "16       id_33     香港大學綜合大樓地下2號舖   \n",
       "17       id_33     香港大學綜合大樓地下2號舖   \n",
       "18       id_33     香港大學綜合大樓地下2號舖   \n",
       "19       id_33     香港大學綜合大樓地下2號舖   \n",
       "20       id_48        The Henry*   \n",
       "21       id_48        The Henry*   \n",
       "22       id_48        The Henry*   \n",
       "23       id_48        The Henry*   \n",
       "24       id_48        The Henry*   \n",
       "25       id_48        The Henry*   \n",
       "26       id_48        The Henry*   \n",
       "27       id_48        The Henry*   \n",
       "28       id_48        The Henry*   \n",
       "29       id_48        The Henry*   \n",
       "30       id_48        The Henry*   \n",
       "31       id_48        The Henry*   \n",
       "32       id_48        The Henry*   \n",
       "33       id_48        The Henry*   \n",
       "34       id_48        The Henry*   \n",
       "35       id_48        The Henry*   \n",
       "36       id_48        The Henry*   \n",
       "37       id_48        The Henry*   \n",
       "38       id_48        The Henry*   \n",
       "39       id_48        The Henry*   \n",
       "40       id_93  Imperial Kennedy   \n",
       "41       id_93  Imperial Kennedy   \n",
       "42       id_93  Imperial Kennedy   \n",
       "43       id_93  Imperial Kennedy   \n",
       "44       id_93  Imperial Kennedy   \n",
       "45       id_93  Imperial Kennedy   \n",
       "46       id_93  Imperial Kennedy   \n",
       "47       id_93  Imperial Kennedy   \n",
       "48       id_93  Imperial Kennedy   \n",
       "49       id_93  Imperial Kennedy   \n",
       "50       id_93  Imperial Kennedy   \n",
       "51       id_93  Imperial Kennedy   \n",
       "52       id_93  Imperial Kennedy   \n",
       "53       id_93  Imperial Kennedy   \n",
       "54       id_93  Imperial Kennedy   \n",
       "55       id_93  Imperial Kennedy   \n",
       "56       id_93  Imperial Kennedy   \n",
       "57       id_93  Imperial Kennedy   \n",
       "58       id_93  Imperial Kennedy   \n",
       "59       id_93  Imperial Kennedy   \n",
       "\n",
       "                                           moreReview  review_rating   \n",
       "0   {\"author_name\": \"Coey\", \"rating\": \"1 star\", \"r...              1  \\\n",
       "1   {\"author_name\": \"Momo Yung\", \"rating\": \"1 star...              1   \n",
       "2   {\"author_name\": \"TSZ LOK Cheng\", \"rating\": \"1 ...              1   \n",
       "3   {\"author_name\": \"Jasper\", \"rating\": \"5 stars\",...              5   \n",
       "4   {\"author_name\": \"Patrick Bai\", \"rating\": \"5 st...              5   \n",
       "5   {\"author_name\": \"Jeshurun Ratnasamy\", \"rating\"...              4   \n",
       "6   {\"author_name\": \"Tim Leung\", \"rating\": \"4 star...              4   \n",
       "7   {\"author_name\": \"Terence Wan\", \"rating\": \"4 st...              4   \n",
       "8   {\"author_name\": \"Paul Fong\", \"rating\": \"1 star...              1   \n",
       "9   {\"author_name\": \"msblue737\", \"rating\": \"5 star...              5   \n",
       "10  {\"author_name\": \"Liza Ng\\u5433\\u5c11\\u840d\", \"...              5   \n",
       "11  {\"author_name\": \"Victor Li\", \"rating\": \"5 star...              5   \n",
       "12  {\"author_name\": \"Hsu George\", \"rating\": \"3 sta...              3   \n",
       "13  {\"author_name\": \"Sean Massa\", \"rating\": \"1 sta...              1   \n",
       "14  {\"author_name\": \"William Tang\", \"rating\": \"3 s...              3   \n",
       "15  {\"author_name\": \"Gabriela Sofia\", \"rating\": \"5...              5   \n",
       "16  {\"author_name\": \"Ahmed Zaeneldin\", \"rating\": \"...              5   \n",
       "17  {\"author_name\": \"\\u9673\\u6cd5\\u62c9\\uff08Cat3\\...              4   \n",
       "18  {\"author_name\": \"Benjoman Choi\", \"rating\": \"5 ...              5   \n",
       "19  {\"author_name\": \"noemi amador\", \"rating\": \"5 s...              5   \n",
       "20  {\"author_name\": \"Jack Poon\", \"rating\": \"5 star...              5   \n",
       "21  {\"author_name\": \"EY\", \"rating\": \"1 star\", \"rev...              1   \n",
       "22  {\"author_name\": \"Mark Lam\", \"rating\": \"1 star\"...              1   \n",
       "23  {\"author_name\": \"Joaquim D'Silva\", \"rating\": \"...              4   \n",
       "24  {\"author_name\": \"Eve K\", \"rating\": \"2 stars\", ...              2   \n",
       "25  {\"author_name\": \"Bloggers Boyfriend\", \"rating\"...              2   \n",
       "26  {\"author_name\": \"Dmitry Belousov\", \"rating\": \"...              3   \n",
       "27  {\"author_name\": \"Michael JD Castro\", \"rating\":...              5   \n",
       "28  {\"author_name\": \"Lilly-Beth Bushell\", \"rating\"...              3   \n",
       "29  {\"author_name\": \"\\u5229\\u840a\\u60e0\\u6c11Leyno...              3   \n",
       "30  {\"author_name\": \"Kdbdbsk Idbdjfk\", \"rating\": \"...              4   \n",
       "31  {\"author_name\": \"KWAI LING VANESSA TAM\", \"rati...              2   \n",
       "32  {\"author_name\": \"Alfred Chan\", \"rating\": \"4 st...              4   \n",
       "33  {\"author_name\": \"Michael Davies\", \"rating\": \"5...              5   \n",
       "34  {\"author_name\": \"Jamil Ahmad\", \"rating\": \"4 st...              4   \n",
       "35  {\"author_name\": \"Douglas Baird\", \"rating\": \"4 ...              4   \n",
       "36  {\"author_name\": \"William Thong\", \"rating\": \"4 ...              4   \n",
       "37  {\"author_name\": \"Colin Sze\", \"rating\": \"5 star...              5   \n",
       "38  {\"author_name\": \"Annebabe Cheer\", \"rating\": \"3...              3   \n",
       "39  {\"author_name\": \"\\u30b1\\u30fc\\u30d3\", \"rating\"...              4   \n",
       "40  {\"author_name\": \"Mugi Yamamoto\", \"rating\": \"4 ...              4   \n",
       "41  {\"author_name\": \"Lisa Tang\", \"rating\": \"3 star...              3   \n",
       "42  {\"author_name\": \"Tareq Muhmood\", \"rating\": \"4 ...              4   \n",
       "43  {\"author_name\": \"Brian\", \"rating\": \"2 stars\", ...              2   \n",
       "44  {\"author_name\": \"Adam Newbold\", \"rating\": \"5 s...              5   \n",
       "45  {\"author_name\": \"Gideon Oi\", \"rating\": \"5 star...              5   \n",
       "46  {\"author_name\": \"Kelly H\", \"rating\": \"2 stars\"...              2   \n",
       "47  {\"author_name\": \"Sachin Pradhan\", \"rating\": \"5...              5   \n",
       "48  {\"author_name\": \"Alu LO\", \"rating\": \"2 stars\",...              2   \n",
       "49  {\"author_name\": \"Ma Gina Aclan\", \"rating\": \"5 ...              5   \n",
       "50  {\"author_name\": \"Alexandra Edwards\", \"rating\":...              5   \n",
       "51  {\"author_name\": \"Princess Haruchan\", \"rating\":...              3   \n",
       "52  {\"author_name\": \"Rick Liu\", \"rating\": \"2 stars...              2   \n",
       "53  {\"author_name\": \"Peugeot Chu\", \"rating\": \"5 st...              5   \n",
       "54  {\"author_name\": \"reginald\", \"rating\": \"4 stars...              4   \n",
       "55  {\"author_name\": \"Kimtsy Tai\", \"rating\": \"5 sta...              5   \n",
       "56  {\"author_name\": \"Trent H\", \"rating\": \"5 stars\"...              5   \n",
       "57  {\"author_name\": \"JH 78\", \"rating\": \"1 star\", \"...              1   \n",
       "58  {\"author_name\": \"Ross Adcock\", \"rating\": \"4 st...              4   \n",
       "59  {\"author_name\": \"Florence Tam\", \"rating\": \"3 s...              3   \n",
       "\n",
       "   review_rating_category review_date   \n",
       "0              <= 3 stars   <= a year  \\\n",
       "1              <= 3 stars    > a year   \n",
       "2              <= 3 stars   <= a year   \n",
       "3               > 3 stars    > a year   \n",
       "4               > 3 stars    > a year   \n",
       "5               > 3 stars   <= a year   \n",
       "6               > 3 stars    > a year   \n",
       "7               > 3 stars    > a year   \n",
       "8              <= 3 stars    > a year   \n",
       "9               > 3 stars    > a year   \n",
       "10              > 3 stars    > a year   \n",
       "11              > 3 stars    > a year   \n",
       "12             <= 3 stars    > a year   \n",
       "13             <= 3 stars    > a year   \n",
       "14             <= 3 stars    > a year   \n",
       "15              > 3 stars    > a year   \n",
       "16              > 3 stars    > a year   \n",
       "17              > 3 stars    > a year   \n",
       "18              > 3 stars    > a year   \n",
       "19              > 3 stars    > a year   \n",
       "20              > 3 stars    > a year   \n",
       "21             <= 3 stars   <= a year   \n",
       "22             <= 3 stars   <= a year   \n",
       "23              > 3 stars    > a year   \n",
       "24             <= 3 stars    > a year   \n",
       "25             <= 3 stars    > a year   \n",
       "26             <= 3 stars    > a year   \n",
       "27              > 3 stars    > a year   \n",
       "28             <= 3 stars    > a year   \n",
       "29             <= 3 stars    > a year   \n",
       "30              > 3 stars    > a year   \n",
       "31             <= 3 stars    > a year   \n",
       "32              > 3 stars    > a year   \n",
       "33              > 3 stars   <= a year   \n",
       "34              > 3 stars    > a year   \n",
       "35              > 3 stars    > a year   \n",
       "36              > 3 stars    > a year   \n",
       "37              > 3 stars    > a year   \n",
       "38             <= 3 stars    > a year   \n",
       "39              > 3 stars    > a year   \n",
       "40              > 3 stars   <= a year   \n",
       "41             <= 3 stars    > a year   \n",
       "42              > 3 stars    > a year   \n",
       "43             <= 3 stars    > a year   \n",
       "44              > 3 stars    > a year   \n",
       "45              > 3 stars    > a year   \n",
       "46             <= 3 stars    > a year   \n",
       "47              > 3 stars    > a year   \n",
       "48             <= 3 stars    > a year   \n",
       "49              > 3 stars   <= a year   \n",
       "50              > 3 stars    > a year   \n",
       "51             <= 3 stars    > a year   \n",
       "52             <= 3 stars    > a year   \n",
       "53              > 3 stars    > a year   \n",
       "54              > 3 stars    > a year   \n",
       "55              > 3 stars   <= a year   \n",
       "56              > 3 stars    > a year   \n",
       "57             <= 3 stars    > a year   \n",
       "58              > 3 stars    > a year   \n",
       "59             <= 3 stars    > a year   \n",
       "\n",
       "                                       review_content   \n",
       "0   the staff is insanely rude, the man with glass...  \\\n",
       "1   I am in a rush to get my car out of carpark bu...   \n",
       "2   They don't accept cash to order coffee nor top...   \n",
       "3                   30% discount for HKU students 😄 …   \n",
       "4   With the student discount, drinks are outrageo...   \n",
       "5   it’s a starbucks.  not much to say apart from ...   \n",
       "6   Reasonable price for HKU personnel. Only a sma...   \n",
       "7                                  Cold Brew less ice   \n",
       "8              Staff not so professional n caring。。。。   \n",
       "9         Good place to get a coffee in tai kok tsui.   \n",
       "10  Never been so subtle & quiet with picturesque ...   \n",
       "11  Enjoy Starbucks coffee with 30% discount price...   \n",
       "12               The coffee is good. Service ordinary   \n",
       "13              20 minute wait for mobile order latte   \n",
       "14                                   Small. Not good.   \n",
       "15                              good price inside HKU   \n",
       "16                                 Very good as usual   \n",
       "17                               Have a break, coffee   \n",
       "18                               Online Apps purchase   \n",
       "19                                            love it   \n",
       "20  I’ve always been a Starbucks fan. I bought the...   \n",
       "21  ordered a vanilla sweet cream cold brew but it...   \n",
       "22                      Extremely slow to take orders   \n",
       "23  Fresh coffees [one of the best] to your liking...   \n",
       "24  Really cold... super strong AC. Food there is ...   \n",
       "25  wifi is Slow AF and limited 30 minutes per tra...   \n",
       "26  Typical Starbucks, not very crowded but extrem...   \n",
       "27  Staff are prompt and helpful, remembers my usu...   \n",
       "28     service wasn't great, nice food and drinks tho   \n",
       "29  Serene corner, tastful coffee and food, nice l...   \n",
       "30  All good, relatively small and too cold on the...   \n",
       "31  Quiet place. But most of their staffs are unpl...   \n",
       "32         Good service. Nice place for a short break   \n",
       "33                             Great service as usual   \n",
       "34  Same old Starbucks but practical location and ...   \n",
       "35  Small store but the usual coffee. Friendly hel...   \n",
       "36     Cosy but music is too soft, almost unheardable   \n",
       "37                   A global success you have chosen   \n",
       "38         The cake is not tasty, and quite expensive   \n",
       "39                       Risotto Bianco is the best!!   \n",
       "40  I had a very good experience at Starbucks this...   \n",
       "41  Nice and quite. However, its not busy and with...   \n",
       "42  Always a good shelter to jump into from the hu...   \n",
       "43  Nice ambiance.\\nGood average coffee (starbucks...   \n",
       "44  Friendly staff make this an inviting Starbucks...   \n",
       "45  Very nice staff. Went over everyday for 3 days...   \n",
       "46  Air conditioning hasnt been functioning for ab...   \n",
       "47                     Beautiful an amazing place 🥰 …   \n",
       "48  Dunno why shut down the Air condition in summe...   \n",
       "49    peaceful and enjoyable 😉 with a good company ❤️   \n",
       "50  Quick and efficient service, the air con can g...   \n",
       "51  You only get 30 minutes to use their WiFi and ...   \n",
       "52  This Starbucks didn't have enough worker to ti...   \n",
       "53  Cozy shop. Signature chocolate milk and cream ...   \n",
       "54  its a pretty decent place. good atmosphere, qu...   \n",
       "55                  Good coffee, food and nice staff.   \n",
       "56  Top notch service from the barista team here. ...   \n",
       "57  Dont go this place, huge shop but only 1 staff...   \n",
       "58  A comfortable coffee shop with lots of natural...   \n",
       "59  Dim light, the environment is not very good. F...   \n",
       "\n",
       "                                           gpt_output  gpt_total_tokens   \n",
       "0   {'Sentiment': 'Negative', 'Emotions': ['Rude',...               337  \\\n",
       "1   {'Sentiment': 'Negative', 'Emotions': ['Hungry...               297   \n",
       "2   {'Sentiment': 'Negative', 'Emotions': ['Disapp...               227   \n",
       "3   {'Sentiment': 'Positive', 'Emotions': ['Happy'...               213   \n",
       "4   {'Sentiment': 'Positive', 'Emotions': ['Thrill...               228   \n",
       "5   {'Sentiment': 'Neutral', 'Emotions': ['Conveni...               230   \n",
       "6   {'Sentiment': 'Neutral', 'Emotions': ['Reasona...               220   \n",
       "7   {'Sentiment': 'Neutral', 'Emotions': ['Cold', ...               206   \n",
       "8   {'Sentiment': 'Negative', 'Emotions': ['Unprof...               213   \n",
       "9   {'Sentiment': 'Positive', 'Emotions': ['Good',...               215   \n",
       "10  {'Sentiment': 'Neutral', 'Emotions': ['Subtle'...               218   \n",
       "11  {'Sentiment': 'Positive', 'Emotions': ['Enjoya...               216   \n",
       "12  {'Sentiment': 'Neutral', 'Emotions': ['Good', ...               209   \n",
       "13  {'Sentiment': 'Neutral', 'Emotions': ['Impatie...               216   \n",
       "14  {'Sentiment': 'Negative', 'Emotions': ['Disapp...               212   \n",
       "15  {'Sentiment': 'Neutral', 'Emotions': ['Good', ...               208   \n",
       "16  {'Sentiment': 'Positive', 'Emotions': ['Satisf...               210   \n",
       "17  {'Sentiment': 'Neutral', 'Emotions': ['Relaxin...               210   \n",
       "18  {'Sentiment': 'Neutral', 'Emotions': ['Conveni...               208   \n",
       "19  {'Sentiment': 'Positive', 'Emotions': ['Adorat...               208   \n",
       "20  {'Sentiment': 'Positive', 'Emotions': ['Favour...               264   \n",
       "21  {'Sentiment': 'Negative', 'Emotions': ['Watery...               226   \n",
       "22  {'Sentiment': 'Negative', 'Emotions': ['Frustr...               214   \n",
       "23  {'Sentiment': 'Neutral', 'Emotions': ['Polite'...               255   \n",
       "24  {'Sentiment': 'Negative', 'Emotions': ['Cold',...               255   \n",
       "25  {'Sentiment': 'Negative', 'Emotions': ['Frustr...               224   \n",
       "26  {'Sentiment': 'Negative', 'Emotions': ['Crowde...               233   \n",
       "27  {'Sentiment': 'Positive', 'Emotions': ['Helpfu...               218   \n",
       "28  {'Sentiment': 'Neutral', 'Emotions': ['Nice', ...               211   \n",
       "29  {'Sentiment': 'Positive', 'Emotions': ['Serene...               218   \n",
       "30  {'Sentiment': 'Neutral', 'Emotions': ['Good', ...               215   \n",
       "31  {'Sentiment': 'Negative', 'Emotions': ['Unplea...               213   \n",
       "32  {'Sentiment': 'Positive', 'Emotions': ['Good',...               210   \n",
       "33  {'Sentiment': 'Positive', 'Emotions': ['Great'...               206   \n",
       "34  {'Sentiment': 'Neutral', 'Emotions': ['Practic...               217   \n",
       "35  {'Sentiment': 'Positive', 'Emotions': ['Small'...               213   \n",
       "36  {'Sentiment': 'Neutral', 'Emotions': ['Cosy', ...               215   \n",
       "37  {'Sentiment': 'Neutral', 'Emotions': ['Global'...               208   \n",
       "38  {'Sentiment': 'Negative', 'Emotions': ['Unplea...               215   \n",
       "39  {'Sentiment': 'Positive', 'Emotions': ['Delici...               213   \n",
       "40  {'Sentiment': 'Positive', 'Emotions': ['Effici...               419   \n",
       "41  {'Sentiment': 'Negative', 'Emotions': ['Quiet'...               223   \n",
       "42  {'Sentiment': 'Positive', 'Emotions': ['Relaxi...               244   \n",
       "43  {'Sentiment': 'Neutral', 'Emotions': ['Nice', ...               248   \n",
       "44  {'Sentiment': 'Positive', 'Emotions': ['Friend...               255   \n",
       "45  {'Sentiment': 'Positive', 'Emotions': ['Friend...               260   \n",
       "46  {'Sentiment': 'Negative', 'Emotions': ['Frustr...               265   \n",
       "47  {'Sentiment': 'Positive', 'Emotions': ['Beauti...               210   \n",
       "48  {'Sentiment': 'Negative', 'Emotions': ['Frustr...               242   \n",
       "49  {'Sentiment': 'Positive', 'Emotions': ['Peacef...               214   \n",
       "50  {'Sentiment': 'Positive', 'Emotions': ['Quick'...               216   \n",
       "51  {'Sentiment': 'Neutral', 'Emotions': ['Limited...               240   \n",
       "52  {'Sentiment': 'Negative', 'Emotions': ['Disgus...               240   \n",
       "53  {'Sentiment': 'Positive', 'Emotions': ['Cozy',...               222   \n",
       "54  {'Sentiment': 'Positive', 'Emotions': ['Decent...               216   \n",
       "55  {'Sentiment': 'Positive', 'Emotions': ['Good',...               208   \n",
       "56  {'Sentiment': 'Positive', 'Emotions': ['Passio...               224   \n",
       "57  {'Sentiment': 'Negative', 'Emotions': ['Frustr...               233   \n",
       "58  {'Sentiment': 'Positive', 'Emotions': ['Comfor...               223   \n",
       "59  {'Sentiment': 'Neutral', 'Emotions': ['Dim', '...               231   \n",
       "\n",
       "   gpt_output_sentiment gpt_output_service   \n",
       "0              Negative           Negative  \\\n",
       "1              Negative           Negative   \n",
       "2              Negative                 NA   \n",
       "3              Positive                 NA   \n",
       "4              Positive                 NA   \n",
       "5               Neutral                 NA   \n",
       "6               Neutral                 NA   \n",
       "7               Neutral                 NA   \n",
       "8              Negative                 NA   \n",
       "9              Positive                 NA   \n",
       "10              Neutral                 NA   \n",
       "11             Positive                 NA   \n",
       "12              Neutral                 NA   \n",
       "13              Neutral                 NA   \n",
       "14             Negative                 NA   \n",
       "15              Neutral                 NA   \n",
       "16             Positive                 NA   \n",
       "17              Neutral                 NA   \n",
       "18              Neutral                 NA   \n",
       "19             Positive                 NA   \n",
       "20             Positive                 NA   \n",
       "21             Negative                 NA   \n",
       "22             Negative                 NA   \n",
       "23              Neutral                 NA   \n",
       "24             Negative                 NA   \n",
       "25             Negative                 NA   \n",
       "26             Negative                 NA   \n",
       "27             Positive           Positive   \n",
       "28              Neutral           Negative   \n",
       "29             Positive                 NA   \n",
       "30              Neutral                 NA   \n",
       "31             Negative                 NA   \n",
       "32             Positive                 NA   \n",
       "33             Positive                 NA   \n",
       "34              Neutral                 NA   \n",
       "35             Positive           Positive   \n",
       "36              Neutral                 NA   \n",
       "37              Neutral                 NA   \n",
       "38             Negative                 NA   \n",
       "39             Positive                 NA   \n",
       "40             Positive                 NA   \n",
       "41             Negative           Negative   \n",
       "42             Positive                 NA   \n",
       "43              Neutral                 NA   \n",
       "44             Positive           Positive   \n",
       "45             Positive                 NA   \n",
       "46             Negative                 NA   \n",
       "47             Positive                 NA   \n",
       "48             Negative                 NA   \n",
       "49             Positive                 NA   \n",
       "50             Positive                 NA   \n",
       "51              Neutral                 NA   \n",
       "52             Negative                 NA   \n",
       "53             Positive                 NA   \n",
       "54             Positive                 NA   \n",
       "55             Positive                 NA   \n",
       "56             Positive           Positive   \n",
       "57             Negative           Negative   \n",
       "58             Positive                 NA   \n",
       "59              Neutral                 NA   \n",
       "\n",
       "                              gpt_output_emotions  \n",
       "0                    [Rude, Doubtful, Frustrated]  \n",
       "1                 [Hungry, Disappointed, Ignored]  \n",
       "2            [Disappointing, Frustrated, Unhappy]  \n",
       "3                       [Happy, Excited, Pleased]  \n",
       "4                  [Thrilled, Pleased, Impressed]  \n",
       "5             [Convenient, Routine, Unremarkable]  \n",
       "6                  [Reasonable, Small, Available]  \n",
       "7                               [Cold, Less, Icy]  \n",
       "8       [Unprofessional, Uncaring, Disappointing]  \n",
       "9                   [Good, Enjoyable, Satisfying]  \n",
       "10                   [Subtle, Quiet, Picturesque]  \n",
       "11               [Enjoyable, Popular, Discounted]  \n",
       "12                           [Good, Ordinary, NA]  \n",
       "13               [Impatient, Frustrated, Annoyed]  \n",
       "14  [Disappointing, Unsatisfactory, Unimpressive]  \n",
       "15                 [Good, Affordable, Convenient]  \n",
       "16           [Satisfactory, Consistent, Pleasant]  \n",
       "17             [Relaxing, Refreshing, Satisfying]  \n",
       "18            [Convenient, Efficient, Impersonal]  \n",
       "19            [Adoration, Affectionate, Fondness]  \n",
       "20               [Favourable, Wishful, Satisfied]  \n",
       "21        [Watery, Disappointing, Unsatisfactory]  \n",
       "22               [Frustrated, Impatient, Annoyed]  \n",
       "23                         [Polite, Warm, Better]  \n",
       "24                        [Cold, Old, Infrequent]  \n",
       "25            [Frustrated, Annoyed, Disappointed]  \n",
       "26                        [Crowded, Small, Dirty]  \n",
       "27                   [Helpful, Prompt, Memorable]  \n",
       "28                         [Nice, Great, Neutral]  \n",
       "29                       [Serene, Tasteful, Nice]  \n",
       "30                            [Good, Small, Cold]  \n",
       "31                  [Unpleasant, Quiet, Reserved]  \n",
       "32                            [Good, Nice, Short]  \n",
       "33                        [Great, Usual, Service]  \n",
       "34                    [Practical, Quiet, Chaotic]  \n",
       "35                       [Small, Usual, Friendly]  \n",
       "36                      [Cosy, Soft, Unheardable]  \n",
       "37                   [Global, Successful, Chosen]  \n",
       "38        [Unpleasant, Overpriced, Disappointing]  \n",
       "39               [Delicious, Amazing, Satisfying]  \n",
       "40                    [Efficient, Enjoyed, Clean]  \n",
       "41                    [Quiet, Nice, Unacceptable]  \n",
       "42                [Relaxing, Comforting, Special]  \n",
       "43                     [Nice, Average, Important]  \n",
       "44              [Friendly, Efficient, Hospitable]  \n",
       "45                [Friendly, Efficient, Relaxing]  \n",
       "46         [Frustrated, Disgusted, Uncomfortable]  \n",
       "47                   [Beautiful, Amazing, Lovely]  \n",
       "48           [Frustrated, Disappointed, Confused]  \n",
       "49                    [Peaceful, Enjoyable, Good]  \n",
       "50                       [Quick, Efficient, High]  \n",
       "51              [Limited, Satisfied, Indifferent]  \n",
       "52          [Disgusting, Unsatisfied, Unpleasant]  \n",
       "53                         [Cozy, Signature, Top]  \n",
       "54                          [Decent, Good, Quick]  \n",
       "55                             [Good, Nice, Food]  \n",
       "56          [Passionate, Proactive, Professional]  \n",
       "57          [Frustrated, Impatient, Disappointed]  \n",
       "58                [Comfortable, Enjoyable, Light]  \n",
       "59                      [Dim, Occupied, Standard]  "
      ]
     },
     "execution_count": 16,
     "metadata": {},
     "output_type": "execute_result"
    }
   ],
   "source": [
    "data"
   ]
  },
  {
   "cell_type": "markdown",
   "id": "99da5345",
   "metadata": {},
   "source": [
    "### Histogram plot of review sentiment"
   ]
  },
  {
   "cell_type": "code",
   "execution_count": 17,
   "id": "6a4da599",
   "metadata": {},
   "outputs": [
    {
     "data": {
      "application/vnd.plotly.v1+json": {
       "config": {
        "plotlyServerURL": "https://plot.ly"
       },
       "data": [
        {
         "alignmentgroup": "True",
         "bingroup": "x",
         "hovertemplate": "Review Sentiment=%{x}<br>Location= 香港大學綜合大樓地下2號舖<br>count=%{y}<extra></extra>",
         "legendgroup": "Negative",
         "marker": {
          "color": "rgb(103,0,31)",
          "line": {
           "color": "black",
           "width": 0.4
          },
          "pattern": {
           "shape": ""
          }
         },
         "name": "Negative",
         "offsetgroup": "Negative",
         "orientation": "v",
         "showlegend": true,
         "type": "histogram",
         "x": [
          "Negative",
          "Negative",
          "Negative",
          "Negative",
          "Negative"
         ],
         "xaxis": "x",
         "yaxis": "y"
        },
        {
         "alignmentgroup": "True",
         "bingroup": "x",
         "hovertemplate": "Review Sentiment=%{x}<br>Location=The Henry*<br>count=%{y}<extra></extra>",
         "legendgroup": "Negative",
         "marker": {
          "color": "rgb(103,0,31)",
          "line": {
           "color": "black",
           "width": 0.4
          },
          "pattern": {
           "shape": ""
          }
         },
         "name": "Negative",
         "offsetgroup": "Negative",
         "orientation": "v",
         "showlegend": false,
         "type": "histogram",
         "x": [
          "Negative",
          "Negative",
          "Negative",
          "Negative",
          "Negative",
          "Negative",
          "Negative"
         ],
         "xaxis": "x2",
         "yaxis": "y2"
        },
        {
         "alignmentgroup": "True",
         "bingroup": "x",
         "hovertemplate": "Review Sentiment=%{x}<br>Location=Imperial Kennedy<br>count=%{y}<extra></extra>",
         "legendgroup": "Negative",
         "marker": {
          "color": "rgb(103,0,31)",
          "line": {
           "color": "black",
           "width": 0.4
          },
          "pattern": {
           "shape": ""
          }
         },
         "name": "Negative",
         "offsetgroup": "Negative",
         "orientation": "v",
         "showlegend": false,
         "type": "histogram",
         "x": [
          "Negative",
          "Negative",
          "Negative",
          "Negative",
          "Negative"
         ],
         "xaxis": "x3",
         "yaxis": "y3"
        },
        {
         "alignmentgroup": "True",
         "bingroup": "x",
         "hovertemplate": "Review Sentiment=%{x}<br>Location= 香港大學綜合大樓地下2號舖<br>count=%{y}<extra></extra>",
         "legendgroup": "Positive",
         "marker": {
          "color": "rgb(5,48,97)",
          "line": {
           "color": "black",
           "width": 0.4
          },
          "pattern": {
           "shape": ""
          }
         },
         "name": "Positive",
         "offsetgroup": "Positive",
         "orientation": "v",
         "showlegend": true,
         "type": "histogram",
         "x": [
          "Positive",
          "Positive",
          "Positive",
          "Positive",
          "Positive",
          "Positive"
         ],
         "xaxis": "x",
         "yaxis": "y"
        },
        {
         "alignmentgroup": "True",
         "bingroup": "x",
         "hovertemplate": "Review Sentiment=%{x}<br>Location=The Henry*<br>count=%{y}<extra></extra>",
         "legendgroup": "Positive",
         "marker": {
          "color": "rgb(5,48,97)",
          "line": {
           "color": "black",
           "width": 0.4
          },
          "pattern": {
           "shape": ""
          }
         },
         "name": "Positive",
         "offsetgroup": "Positive",
         "orientation": "v",
         "showlegend": false,
         "type": "histogram",
         "x": [
          "Positive",
          "Positive",
          "Positive",
          "Positive",
          "Positive",
          "Positive",
          "Positive"
         ],
         "xaxis": "x2",
         "yaxis": "y2"
        },
        {
         "alignmentgroup": "True",
         "bingroup": "x",
         "hovertemplate": "Review Sentiment=%{x}<br>Location=Imperial Kennedy<br>count=%{y}<extra></extra>",
         "legendgroup": "Positive",
         "marker": {
          "color": "rgb(5,48,97)",
          "line": {
           "color": "black",
           "width": 0.4
          },
          "pattern": {
           "shape": ""
          }
         },
         "name": "Positive",
         "offsetgroup": "Positive",
         "orientation": "v",
         "showlegend": false,
         "type": "histogram",
         "x": [
          "Positive",
          "Positive",
          "Positive",
          "Positive",
          "Positive",
          "Positive",
          "Positive",
          "Positive",
          "Positive",
          "Positive",
          "Positive",
          "Positive"
         ],
         "xaxis": "x3",
         "yaxis": "y3"
        },
        {
         "alignmentgroup": "True",
         "bingroup": "x",
         "hovertemplate": "Review Sentiment=%{x}<br>Location= 香港大學綜合大樓地下2號舖<br>count=%{y}<extra></extra>",
         "legendgroup": "Neutral",
         "marker": {
          "color": "rgb(247,247,247)",
          "line": {
           "color": "black",
           "width": 0.4
          },
          "pattern": {
           "shape": ""
          }
         },
         "name": "Neutral",
         "offsetgroup": "Neutral",
         "orientation": "v",
         "showlegend": true,
         "type": "histogram",
         "x": [
          "Neutral",
          "Neutral",
          "Neutral",
          "Neutral",
          "Neutral",
          "Neutral",
          "Neutral",
          "Neutral",
          "Neutral"
         ],
         "xaxis": "x",
         "yaxis": "y"
        },
        {
         "alignmentgroup": "True",
         "bingroup": "x",
         "hovertemplate": "Review Sentiment=%{x}<br>Location=The Henry*<br>count=%{y}<extra></extra>",
         "legendgroup": "Neutral",
         "marker": {
          "color": "rgb(247,247,247)",
          "line": {
           "color": "black",
           "width": 0.4
          },
          "pattern": {
           "shape": ""
          }
         },
         "name": "Neutral",
         "offsetgroup": "Neutral",
         "orientation": "v",
         "showlegend": false,
         "type": "histogram",
         "x": [
          "Neutral",
          "Neutral",
          "Neutral",
          "Neutral",
          "Neutral",
          "Neutral"
         ],
         "xaxis": "x2",
         "yaxis": "y2"
        },
        {
         "alignmentgroup": "True",
         "bingroup": "x",
         "hovertemplate": "Review Sentiment=%{x}<br>Location=Imperial Kennedy<br>count=%{y}<extra></extra>",
         "legendgroup": "Neutral",
         "marker": {
          "color": "rgb(247,247,247)",
          "line": {
           "color": "black",
           "width": 0.4
          },
          "pattern": {
           "shape": ""
          }
         },
         "name": "Neutral",
         "offsetgroup": "Neutral",
         "orientation": "v",
         "showlegend": false,
         "type": "histogram",
         "x": [
          "Neutral",
          "Neutral",
          "Neutral"
         ],
         "xaxis": "x3",
         "yaxis": "y3"
        }
       ],
       "layout": {
        "annotations": [
         {
          "font": {},
          "showarrow": false,
          "text": "Location= 香港大學綜合大樓地下2號舖",
          "x": 0.16333333333333333,
          "xanchor": "center",
          "xref": "paper",
          "y": 1,
          "yanchor": "bottom",
          "yref": "paper"
         },
         {
          "font": {},
          "showarrow": false,
          "text": "Location=The Henry*",
          "x": 0.5,
          "xanchor": "center",
          "xref": "paper",
          "y": 1,
          "yanchor": "bottom",
          "yref": "paper"
         },
         {
          "font": {},
          "showarrow": false,
          "text": "Location=Imperial Kennedy",
          "x": 0.8366666666666667,
          "xanchor": "center",
          "xref": "paper",
          "y": 1,
          "yanchor": "bottom",
          "yref": "paper"
         }
        ],
        "barmode": "relative",
        "legend": {
         "bordercolor": "#B0C4DE",
         "borderwidth": 1,
         "orientation": "h",
         "title": {
          "text": "Review Ratings:"
         },
         "tracegroupgap": 0,
         "x": 0.5,
         "xanchor": "center",
         "y": 1.15,
         "yanchor": "top"
        },
        "showlegend": true,
        "template": {
         "data": {
          "bar": [
           {
            "error_x": {
             "color": "#2a3f5f"
            },
            "error_y": {
             "color": "#2a3f5f"
            },
            "marker": {
             "line": {
              "color": "#E5ECF6",
              "width": 0.5
             },
             "pattern": {
              "fillmode": "overlay",
              "size": 10,
              "solidity": 0.2
             }
            },
            "type": "bar"
           }
          ],
          "barpolar": [
           {
            "marker": {
             "line": {
              "color": "#E5ECF6",
              "width": 0.5
             },
             "pattern": {
              "fillmode": "overlay",
              "size": 10,
              "solidity": 0.2
             }
            },
            "type": "barpolar"
           }
          ],
          "carpet": [
           {
            "aaxis": {
             "endlinecolor": "#2a3f5f",
             "gridcolor": "white",
             "linecolor": "white",
             "minorgridcolor": "white",
             "startlinecolor": "#2a3f5f"
            },
            "baxis": {
             "endlinecolor": "#2a3f5f",
             "gridcolor": "white",
             "linecolor": "white",
             "minorgridcolor": "white",
             "startlinecolor": "#2a3f5f"
            },
            "type": "carpet"
           }
          ],
          "choropleth": [
           {
            "colorbar": {
             "outlinewidth": 0,
             "ticks": ""
            },
            "type": "choropleth"
           }
          ],
          "contour": [
           {
            "colorbar": {
             "outlinewidth": 0,
             "ticks": ""
            },
            "colorscale": [
             [
              0,
              "#0d0887"
             ],
             [
              0.1111111111111111,
              "#46039f"
             ],
             [
              0.2222222222222222,
              "#7201a8"
             ],
             [
              0.3333333333333333,
              "#9c179e"
             ],
             [
              0.4444444444444444,
              "#bd3786"
             ],
             [
              0.5555555555555556,
              "#d8576b"
             ],
             [
              0.6666666666666666,
              "#ed7953"
             ],
             [
              0.7777777777777778,
              "#fb9f3a"
             ],
             [
              0.8888888888888888,
              "#fdca26"
             ],
             [
              1,
              "#f0f921"
             ]
            ],
            "type": "contour"
           }
          ],
          "contourcarpet": [
           {
            "colorbar": {
             "outlinewidth": 0,
             "ticks": ""
            },
            "type": "contourcarpet"
           }
          ],
          "heatmap": [
           {
            "colorbar": {
             "outlinewidth": 0,
             "ticks": ""
            },
            "colorscale": [
             [
              0,
              "#0d0887"
             ],
             [
              0.1111111111111111,
              "#46039f"
             ],
             [
              0.2222222222222222,
              "#7201a8"
             ],
             [
              0.3333333333333333,
              "#9c179e"
             ],
             [
              0.4444444444444444,
              "#bd3786"
             ],
             [
              0.5555555555555556,
              "#d8576b"
             ],
             [
              0.6666666666666666,
              "#ed7953"
             ],
             [
              0.7777777777777778,
              "#fb9f3a"
             ],
             [
              0.8888888888888888,
              "#fdca26"
             ],
             [
              1,
              "#f0f921"
             ]
            ],
            "type": "heatmap"
           }
          ],
          "heatmapgl": [
           {
            "colorbar": {
             "outlinewidth": 0,
             "ticks": ""
            },
            "colorscale": [
             [
              0,
              "#0d0887"
             ],
             [
              0.1111111111111111,
              "#46039f"
             ],
             [
              0.2222222222222222,
              "#7201a8"
             ],
             [
              0.3333333333333333,
              "#9c179e"
             ],
             [
              0.4444444444444444,
              "#bd3786"
             ],
             [
              0.5555555555555556,
              "#d8576b"
             ],
             [
              0.6666666666666666,
              "#ed7953"
             ],
             [
              0.7777777777777778,
              "#fb9f3a"
             ],
             [
              0.8888888888888888,
              "#fdca26"
             ],
             [
              1,
              "#f0f921"
             ]
            ],
            "type": "heatmapgl"
           }
          ],
          "histogram": [
           {
            "marker": {
             "pattern": {
              "fillmode": "overlay",
              "size": 10,
              "solidity": 0.2
             }
            },
            "type": "histogram"
           }
          ],
          "histogram2d": [
           {
            "colorbar": {
             "outlinewidth": 0,
             "ticks": ""
            },
            "colorscale": [
             [
              0,
              "#0d0887"
             ],
             [
              0.1111111111111111,
              "#46039f"
             ],
             [
              0.2222222222222222,
              "#7201a8"
             ],
             [
              0.3333333333333333,
              "#9c179e"
             ],
             [
              0.4444444444444444,
              "#bd3786"
             ],
             [
              0.5555555555555556,
              "#d8576b"
             ],
             [
              0.6666666666666666,
              "#ed7953"
             ],
             [
              0.7777777777777778,
              "#fb9f3a"
             ],
             [
              0.8888888888888888,
              "#fdca26"
             ],
             [
              1,
              "#f0f921"
             ]
            ],
            "type": "histogram2d"
           }
          ],
          "histogram2dcontour": [
           {
            "colorbar": {
             "outlinewidth": 0,
             "ticks": ""
            },
            "colorscale": [
             [
              0,
              "#0d0887"
             ],
             [
              0.1111111111111111,
              "#46039f"
             ],
             [
              0.2222222222222222,
              "#7201a8"
             ],
             [
              0.3333333333333333,
              "#9c179e"
             ],
             [
              0.4444444444444444,
              "#bd3786"
             ],
             [
              0.5555555555555556,
              "#d8576b"
             ],
             [
              0.6666666666666666,
              "#ed7953"
             ],
             [
              0.7777777777777778,
              "#fb9f3a"
             ],
             [
              0.8888888888888888,
              "#fdca26"
             ],
             [
              1,
              "#f0f921"
             ]
            ],
            "type": "histogram2dcontour"
           }
          ],
          "mesh3d": [
           {
            "colorbar": {
             "outlinewidth": 0,
             "ticks": ""
            },
            "type": "mesh3d"
           }
          ],
          "parcoords": [
           {
            "line": {
             "colorbar": {
              "outlinewidth": 0,
              "ticks": ""
             }
            },
            "type": "parcoords"
           }
          ],
          "pie": [
           {
            "automargin": true,
            "type": "pie"
           }
          ],
          "scatter": [
           {
            "fillpattern": {
             "fillmode": "overlay",
             "size": 10,
             "solidity": 0.2
            },
            "type": "scatter"
           }
          ],
          "scatter3d": [
           {
            "line": {
             "colorbar": {
              "outlinewidth": 0,
              "ticks": ""
             }
            },
            "marker": {
             "colorbar": {
              "outlinewidth": 0,
              "ticks": ""
             }
            },
            "type": "scatter3d"
           }
          ],
          "scattercarpet": [
           {
            "marker": {
             "colorbar": {
              "outlinewidth": 0,
              "ticks": ""
             }
            },
            "type": "scattercarpet"
           }
          ],
          "scattergeo": [
           {
            "marker": {
             "colorbar": {
              "outlinewidth": 0,
              "ticks": ""
             }
            },
            "type": "scattergeo"
           }
          ],
          "scattergl": [
           {
            "marker": {
             "colorbar": {
              "outlinewidth": 0,
              "ticks": ""
             }
            },
            "type": "scattergl"
           }
          ],
          "scattermapbox": [
           {
            "marker": {
             "colorbar": {
              "outlinewidth": 0,
              "ticks": ""
             }
            },
            "type": "scattermapbox"
           }
          ],
          "scatterpolar": [
           {
            "marker": {
             "colorbar": {
              "outlinewidth": 0,
              "ticks": ""
             }
            },
            "type": "scatterpolar"
           }
          ],
          "scatterpolargl": [
           {
            "marker": {
             "colorbar": {
              "outlinewidth": 0,
              "ticks": ""
             }
            },
            "type": "scatterpolargl"
           }
          ],
          "scatterternary": [
           {
            "marker": {
             "colorbar": {
              "outlinewidth": 0,
              "ticks": ""
             }
            },
            "type": "scatterternary"
           }
          ],
          "surface": [
           {
            "colorbar": {
             "outlinewidth": 0,
             "ticks": ""
            },
            "colorscale": [
             [
              0,
              "#0d0887"
             ],
             [
              0.1111111111111111,
              "#46039f"
             ],
             [
              0.2222222222222222,
              "#7201a8"
             ],
             [
              0.3333333333333333,
              "#9c179e"
             ],
             [
              0.4444444444444444,
              "#bd3786"
             ],
             [
              0.5555555555555556,
              "#d8576b"
             ],
             [
              0.6666666666666666,
              "#ed7953"
             ],
             [
              0.7777777777777778,
              "#fb9f3a"
             ],
             [
              0.8888888888888888,
              "#fdca26"
             ],
             [
              1,
              "#f0f921"
             ]
            ],
            "type": "surface"
           }
          ],
          "table": [
           {
            "cells": {
             "fill": {
              "color": "#EBF0F8"
             },
             "line": {
              "color": "white"
             }
            },
            "header": {
             "fill": {
              "color": "#C8D4E3"
             },
             "line": {
              "color": "white"
             }
            },
            "type": "table"
           }
          ]
         },
         "layout": {
          "annotationdefaults": {
           "arrowcolor": "#2a3f5f",
           "arrowhead": 0,
           "arrowwidth": 1
          },
          "autotypenumbers": "strict",
          "coloraxis": {
           "colorbar": {
            "outlinewidth": 0,
            "ticks": ""
           }
          },
          "colorscale": {
           "diverging": [
            [
             0,
             "#8e0152"
            ],
            [
             0.1,
             "#c51b7d"
            ],
            [
             0.2,
             "#de77ae"
            ],
            [
             0.3,
             "#f1b6da"
            ],
            [
             0.4,
             "#fde0ef"
            ],
            [
             0.5,
             "#f7f7f7"
            ],
            [
             0.6,
             "#e6f5d0"
            ],
            [
             0.7,
             "#b8e186"
            ],
            [
             0.8,
             "#7fbc41"
            ],
            [
             0.9,
             "#4d9221"
            ],
            [
             1,
             "#276419"
            ]
           ],
           "sequential": [
            [
             0,
             "#0d0887"
            ],
            [
             0.1111111111111111,
             "#46039f"
            ],
            [
             0.2222222222222222,
             "#7201a8"
            ],
            [
             0.3333333333333333,
             "#9c179e"
            ],
            [
             0.4444444444444444,
             "#bd3786"
            ],
            [
             0.5555555555555556,
             "#d8576b"
            ],
            [
             0.6666666666666666,
             "#ed7953"
            ],
            [
             0.7777777777777778,
             "#fb9f3a"
            ],
            [
             0.8888888888888888,
             "#fdca26"
            ],
            [
             1,
             "#f0f921"
            ]
           ],
           "sequentialminus": [
            [
             0,
             "#0d0887"
            ],
            [
             0.1111111111111111,
             "#46039f"
            ],
            [
             0.2222222222222222,
             "#7201a8"
            ],
            [
             0.3333333333333333,
             "#9c179e"
            ],
            [
             0.4444444444444444,
             "#bd3786"
            ],
            [
             0.5555555555555556,
             "#d8576b"
            ],
            [
             0.6666666666666666,
             "#ed7953"
            ],
            [
             0.7777777777777778,
             "#fb9f3a"
            ],
            [
             0.8888888888888888,
             "#fdca26"
            ],
            [
             1,
             "#f0f921"
            ]
           ]
          },
          "colorway": [
           "#636efa",
           "#EF553B",
           "#00cc96",
           "#ab63fa",
           "#FFA15A",
           "#19d3f3",
           "#FF6692",
           "#B6E880",
           "#FF97FF",
           "#FECB52"
          ],
          "font": {
           "color": "#2a3f5f"
          },
          "geo": {
           "bgcolor": "white",
           "lakecolor": "white",
           "landcolor": "#E5ECF6",
           "showlakes": true,
           "showland": true,
           "subunitcolor": "white"
          },
          "hoverlabel": {
           "align": "left"
          },
          "hovermode": "closest",
          "mapbox": {
           "style": "light"
          },
          "paper_bgcolor": "white",
          "plot_bgcolor": "#E5ECF6",
          "polar": {
           "angularaxis": {
            "gridcolor": "white",
            "linecolor": "white",
            "ticks": ""
           },
           "bgcolor": "#E5ECF6",
           "radialaxis": {
            "gridcolor": "white",
            "linecolor": "white",
            "ticks": ""
           }
          },
          "scene": {
           "xaxis": {
            "backgroundcolor": "#E5ECF6",
            "gridcolor": "white",
            "gridwidth": 2,
            "linecolor": "white",
            "showbackground": true,
            "ticks": "",
            "zerolinecolor": "white"
           },
           "yaxis": {
            "backgroundcolor": "#E5ECF6",
            "gridcolor": "white",
            "gridwidth": 2,
            "linecolor": "white",
            "showbackground": true,
            "ticks": "",
            "zerolinecolor": "white"
           },
           "zaxis": {
            "backgroundcolor": "#E5ECF6",
            "gridcolor": "white",
            "gridwidth": 2,
            "linecolor": "white",
            "showbackground": true,
            "ticks": "",
            "zerolinecolor": "white"
           }
          },
          "shapedefaults": {
           "line": {
            "color": "#2a3f5f"
           }
          },
          "ternary": {
           "aaxis": {
            "gridcolor": "white",
            "linecolor": "white",
            "ticks": ""
           },
           "baxis": {
            "gridcolor": "white",
            "linecolor": "white",
            "ticks": ""
           },
           "bgcolor": "#E5ECF6",
           "caxis": {
            "gridcolor": "white",
            "linecolor": "white",
            "ticks": ""
           }
          },
          "title": {
           "x": 0.05
          },
          "xaxis": {
           "automargin": true,
           "gridcolor": "white",
           "linecolor": "white",
           "ticks": "",
           "title": {
            "standoff": 15
           },
           "zerolinecolor": "white",
           "zerolinewidth": 2
          },
          "yaxis": {
           "automargin": true,
           "gridcolor": "white",
           "linecolor": "white",
           "ticks": "",
           "title": {
            "standoff": 15
           },
           "zerolinecolor": "white",
           "zerolinewidth": 2
          }
         }
        },
        "title": {
         "text": "Histogram Chart of Review Sentiment",
         "x": 0.5,
         "xanchor": "center",
         "y": 0.95,
         "yanchor": "top"
        },
        "xaxis": {
         "anchor": "y",
         "categoryarray": [
          "Negative",
          "Neutral",
          "Positive"
         ],
         "categoryorder": "array",
         "domain": [
          0,
          0.32666666666666666
         ],
         "title": {
          "text": "Review Sentiment"
         }
        },
        "xaxis2": {
         "anchor": "y2",
         "categoryarray": [
          "Negative",
          "Positive",
          "Neutral"
         ],
         "categoryorder": "array",
         "domain": [
          0.33666666666666667,
          0.6633333333333333
         ],
         "matches": "x",
         "title": {
          "text": "Review Sentiment"
         }
        },
        "xaxis3": {
         "anchor": "y3",
         "categoryarray": [
          "Negative",
          "Positive",
          "Neutral"
         ],
         "categoryorder": "array",
         "domain": [
          0.6733333333333333,
          1
         ],
         "matches": "x",
         "title": {
          "text": "Review Sentiment"
         }
        },
        "yaxis": {
         "anchor": "x",
         "domain": [
          0,
          1
         ],
         "title": {
          "text": "count"
         }
        },
        "yaxis2": {
         "anchor": "x2",
         "domain": [
          0,
          1
         ],
         "matches": "y",
         "showticklabels": false
        },
        "yaxis3": {
         "anchor": "x3",
         "domain": [
          0,
          1
         ],
         "matches": "y",
         "showticklabels": false
        }
       }
      },
      "text/html": [
       "<div>                            <div id=\"e727080f-2618-4f04-8e33-4a5514737d6b\" class=\"plotly-graph-div\" style=\"height:525px; width:100%;\"></div>            <script type=\"text/javascript\">                require([\"plotly\"], function(Plotly) {                    window.PLOTLYENV=window.PLOTLYENV || {};                                    if (document.getElementById(\"e727080f-2618-4f04-8e33-4a5514737d6b\")) {                    Plotly.newPlot(                        \"e727080f-2618-4f04-8e33-4a5514737d6b\",                        [{\"alignmentgroup\":\"True\",\"bingroup\":\"x\",\"hovertemplate\":\"Review Sentiment=%{x}<br>Location= \\u9999\\u6e2f\\u5927\\u5b78\\u7d9c\\u5408\\u5927\\u6a13\\u5730\\u4e0b2\\u865f\\u8216<br>count=%{y}<extra></extra>\",\"legendgroup\":\"Negative\",\"marker\":{\"color\":\"rgb(103,0,31)\",\"pattern\":{\"shape\":\"\"},\"line\":{\"color\":\"black\",\"width\":0.4}},\"name\":\"Negative\",\"offsetgroup\":\"Negative\",\"orientation\":\"v\",\"showlegend\":true,\"x\":[\"Negative\",\"Negative\",\"Negative\",\"Negative\",\"Negative\"],\"xaxis\":\"x\",\"yaxis\":\"y\",\"type\":\"histogram\"},{\"alignmentgroup\":\"True\",\"bingroup\":\"x\",\"hovertemplate\":\"Review Sentiment=%{x}<br>Location=The Henry*<br>count=%{y}<extra></extra>\",\"legendgroup\":\"Negative\",\"marker\":{\"color\":\"rgb(103,0,31)\",\"pattern\":{\"shape\":\"\"},\"line\":{\"color\":\"black\",\"width\":0.4}},\"name\":\"Negative\",\"offsetgroup\":\"Negative\",\"orientation\":\"v\",\"showlegend\":false,\"x\":[\"Negative\",\"Negative\",\"Negative\",\"Negative\",\"Negative\",\"Negative\",\"Negative\"],\"xaxis\":\"x2\",\"yaxis\":\"y2\",\"type\":\"histogram\"},{\"alignmentgroup\":\"True\",\"bingroup\":\"x\",\"hovertemplate\":\"Review Sentiment=%{x}<br>Location=Imperial Kennedy<br>count=%{y}<extra></extra>\",\"legendgroup\":\"Negative\",\"marker\":{\"color\":\"rgb(103,0,31)\",\"pattern\":{\"shape\":\"\"},\"line\":{\"color\":\"black\",\"width\":0.4}},\"name\":\"Negative\",\"offsetgroup\":\"Negative\",\"orientation\":\"v\",\"showlegend\":false,\"x\":[\"Negative\",\"Negative\",\"Negative\",\"Negative\",\"Negative\"],\"xaxis\":\"x3\",\"yaxis\":\"y3\",\"type\":\"histogram\"},{\"alignmentgroup\":\"True\",\"bingroup\":\"x\",\"hovertemplate\":\"Review Sentiment=%{x}<br>Location= \\u9999\\u6e2f\\u5927\\u5b78\\u7d9c\\u5408\\u5927\\u6a13\\u5730\\u4e0b2\\u865f\\u8216<br>count=%{y}<extra></extra>\",\"legendgroup\":\"Positive\",\"marker\":{\"color\":\"rgb(5,48,97)\",\"pattern\":{\"shape\":\"\"},\"line\":{\"color\":\"black\",\"width\":0.4}},\"name\":\"Positive\",\"offsetgroup\":\"Positive\",\"orientation\":\"v\",\"showlegend\":true,\"x\":[\"Positive\",\"Positive\",\"Positive\",\"Positive\",\"Positive\",\"Positive\"],\"xaxis\":\"x\",\"yaxis\":\"y\",\"type\":\"histogram\"},{\"alignmentgroup\":\"True\",\"bingroup\":\"x\",\"hovertemplate\":\"Review Sentiment=%{x}<br>Location=The Henry*<br>count=%{y}<extra></extra>\",\"legendgroup\":\"Positive\",\"marker\":{\"color\":\"rgb(5,48,97)\",\"pattern\":{\"shape\":\"\"},\"line\":{\"color\":\"black\",\"width\":0.4}},\"name\":\"Positive\",\"offsetgroup\":\"Positive\",\"orientation\":\"v\",\"showlegend\":false,\"x\":[\"Positive\",\"Positive\",\"Positive\",\"Positive\",\"Positive\",\"Positive\",\"Positive\"],\"xaxis\":\"x2\",\"yaxis\":\"y2\",\"type\":\"histogram\"},{\"alignmentgroup\":\"True\",\"bingroup\":\"x\",\"hovertemplate\":\"Review Sentiment=%{x}<br>Location=Imperial Kennedy<br>count=%{y}<extra></extra>\",\"legendgroup\":\"Positive\",\"marker\":{\"color\":\"rgb(5,48,97)\",\"pattern\":{\"shape\":\"\"},\"line\":{\"color\":\"black\",\"width\":0.4}},\"name\":\"Positive\",\"offsetgroup\":\"Positive\",\"orientation\":\"v\",\"showlegend\":false,\"x\":[\"Positive\",\"Positive\",\"Positive\",\"Positive\",\"Positive\",\"Positive\",\"Positive\",\"Positive\",\"Positive\",\"Positive\",\"Positive\",\"Positive\"],\"xaxis\":\"x3\",\"yaxis\":\"y3\",\"type\":\"histogram\"},{\"alignmentgroup\":\"True\",\"bingroup\":\"x\",\"hovertemplate\":\"Review Sentiment=%{x}<br>Location= \\u9999\\u6e2f\\u5927\\u5b78\\u7d9c\\u5408\\u5927\\u6a13\\u5730\\u4e0b2\\u865f\\u8216<br>count=%{y}<extra></extra>\",\"legendgroup\":\"Neutral\",\"marker\":{\"color\":\"rgb(247,247,247)\",\"pattern\":{\"shape\":\"\"},\"line\":{\"color\":\"black\",\"width\":0.4}},\"name\":\"Neutral\",\"offsetgroup\":\"Neutral\",\"orientation\":\"v\",\"showlegend\":true,\"x\":[\"Neutral\",\"Neutral\",\"Neutral\",\"Neutral\",\"Neutral\",\"Neutral\",\"Neutral\",\"Neutral\",\"Neutral\"],\"xaxis\":\"x\",\"yaxis\":\"y\",\"type\":\"histogram\"},{\"alignmentgroup\":\"True\",\"bingroup\":\"x\",\"hovertemplate\":\"Review Sentiment=%{x}<br>Location=The Henry*<br>count=%{y}<extra></extra>\",\"legendgroup\":\"Neutral\",\"marker\":{\"color\":\"rgb(247,247,247)\",\"pattern\":{\"shape\":\"\"},\"line\":{\"color\":\"black\",\"width\":0.4}},\"name\":\"Neutral\",\"offsetgroup\":\"Neutral\",\"orientation\":\"v\",\"showlegend\":false,\"x\":[\"Neutral\",\"Neutral\",\"Neutral\",\"Neutral\",\"Neutral\",\"Neutral\"],\"xaxis\":\"x2\",\"yaxis\":\"y2\",\"type\":\"histogram\"},{\"alignmentgroup\":\"True\",\"bingroup\":\"x\",\"hovertemplate\":\"Review Sentiment=%{x}<br>Location=Imperial Kennedy<br>count=%{y}<extra></extra>\",\"legendgroup\":\"Neutral\",\"marker\":{\"color\":\"rgb(247,247,247)\",\"pattern\":{\"shape\":\"\"},\"line\":{\"color\":\"black\",\"width\":0.4}},\"name\":\"Neutral\",\"offsetgroup\":\"Neutral\",\"orientation\":\"v\",\"showlegend\":false,\"x\":[\"Neutral\",\"Neutral\",\"Neutral\"],\"xaxis\":\"x3\",\"yaxis\":\"y3\",\"type\":\"histogram\"}],                        {\"template\":{\"data\":{\"histogram2dcontour\":[{\"type\":\"histogram2dcontour\",\"colorbar\":{\"outlinewidth\":0,\"ticks\":\"\"},\"colorscale\":[[0.0,\"#0d0887\"],[0.1111111111111111,\"#46039f\"],[0.2222222222222222,\"#7201a8\"],[0.3333333333333333,\"#9c179e\"],[0.4444444444444444,\"#bd3786\"],[0.5555555555555556,\"#d8576b\"],[0.6666666666666666,\"#ed7953\"],[0.7777777777777778,\"#fb9f3a\"],[0.8888888888888888,\"#fdca26\"],[1.0,\"#f0f921\"]]}],\"choropleth\":[{\"type\":\"choropleth\",\"colorbar\":{\"outlinewidth\":0,\"ticks\":\"\"}}],\"histogram2d\":[{\"type\":\"histogram2d\",\"colorbar\":{\"outlinewidth\":0,\"ticks\":\"\"},\"colorscale\":[[0.0,\"#0d0887\"],[0.1111111111111111,\"#46039f\"],[0.2222222222222222,\"#7201a8\"],[0.3333333333333333,\"#9c179e\"],[0.4444444444444444,\"#bd3786\"],[0.5555555555555556,\"#d8576b\"],[0.6666666666666666,\"#ed7953\"],[0.7777777777777778,\"#fb9f3a\"],[0.8888888888888888,\"#fdca26\"],[1.0,\"#f0f921\"]]}],\"heatmap\":[{\"type\":\"heatmap\",\"colorbar\":{\"outlinewidth\":0,\"ticks\":\"\"},\"colorscale\":[[0.0,\"#0d0887\"],[0.1111111111111111,\"#46039f\"],[0.2222222222222222,\"#7201a8\"],[0.3333333333333333,\"#9c179e\"],[0.4444444444444444,\"#bd3786\"],[0.5555555555555556,\"#d8576b\"],[0.6666666666666666,\"#ed7953\"],[0.7777777777777778,\"#fb9f3a\"],[0.8888888888888888,\"#fdca26\"],[1.0,\"#f0f921\"]]}],\"heatmapgl\":[{\"type\":\"heatmapgl\",\"colorbar\":{\"outlinewidth\":0,\"ticks\":\"\"},\"colorscale\":[[0.0,\"#0d0887\"],[0.1111111111111111,\"#46039f\"],[0.2222222222222222,\"#7201a8\"],[0.3333333333333333,\"#9c179e\"],[0.4444444444444444,\"#bd3786\"],[0.5555555555555556,\"#d8576b\"],[0.6666666666666666,\"#ed7953\"],[0.7777777777777778,\"#fb9f3a\"],[0.8888888888888888,\"#fdca26\"],[1.0,\"#f0f921\"]]}],\"contourcarpet\":[{\"type\":\"contourcarpet\",\"colorbar\":{\"outlinewidth\":0,\"ticks\":\"\"}}],\"contour\":[{\"type\":\"contour\",\"colorbar\":{\"outlinewidth\":0,\"ticks\":\"\"},\"colorscale\":[[0.0,\"#0d0887\"],[0.1111111111111111,\"#46039f\"],[0.2222222222222222,\"#7201a8\"],[0.3333333333333333,\"#9c179e\"],[0.4444444444444444,\"#bd3786\"],[0.5555555555555556,\"#d8576b\"],[0.6666666666666666,\"#ed7953\"],[0.7777777777777778,\"#fb9f3a\"],[0.8888888888888888,\"#fdca26\"],[1.0,\"#f0f921\"]]}],\"surface\":[{\"type\":\"surface\",\"colorbar\":{\"outlinewidth\":0,\"ticks\":\"\"},\"colorscale\":[[0.0,\"#0d0887\"],[0.1111111111111111,\"#46039f\"],[0.2222222222222222,\"#7201a8\"],[0.3333333333333333,\"#9c179e\"],[0.4444444444444444,\"#bd3786\"],[0.5555555555555556,\"#d8576b\"],[0.6666666666666666,\"#ed7953\"],[0.7777777777777778,\"#fb9f3a\"],[0.8888888888888888,\"#fdca26\"],[1.0,\"#f0f921\"]]}],\"mesh3d\":[{\"type\":\"mesh3d\",\"colorbar\":{\"outlinewidth\":0,\"ticks\":\"\"}}],\"scatter\":[{\"fillpattern\":{\"fillmode\":\"overlay\",\"size\":10,\"solidity\":0.2},\"type\":\"scatter\"}],\"parcoords\":[{\"type\":\"parcoords\",\"line\":{\"colorbar\":{\"outlinewidth\":0,\"ticks\":\"\"}}}],\"scatterpolargl\":[{\"type\":\"scatterpolargl\",\"marker\":{\"colorbar\":{\"outlinewidth\":0,\"ticks\":\"\"}}}],\"bar\":[{\"error_x\":{\"color\":\"#2a3f5f\"},\"error_y\":{\"color\":\"#2a3f5f\"},\"marker\":{\"line\":{\"color\":\"#E5ECF6\",\"width\":0.5},\"pattern\":{\"fillmode\":\"overlay\",\"size\":10,\"solidity\":0.2}},\"type\":\"bar\"}],\"scattergeo\":[{\"type\":\"scattergeo\",\"marker\":{\"colorbar\":{\"outlinewidth\":0,\"ticks\":\"\"}}}],\"scatterpolar\":[{\"type\":\"scatterpolar\",\"marker\":{\"colorbar\":{\"outlinewidth\":0,\"ticks\":\"\"}}}],\"histogram\":[{\"marker\":{\"pattern\":{\"fillmode\":\"overlay\",\"size\":10,\"solidity\":0.2}},\"type\":\"histogram\"}],\"scattergl\":[{\"type\":\"scattergl\",\"marker\":{\"colorbar\":{\"outlinewidth\":0,\"ticks\":\"\"}}}],\"scatter3d\":[{\"type\":\"scatter3d\",\"line\":{\"colorbar\":{\"outlinewidth\":0,\"ticks\":\"\"}},\"marker\":{\"colorbar\":{\"outlinewidth\":0,\"ticks\":\"\"}}}],\"scattermapbox\":[{\"type\":\"scattermapbox\",\"marker\":{\"colorbar\":{\"outlinewidth\":0,\"ticks\":\"\"}}}],\"scatterternary\":[{\"type\":\"scatterternary\",\"marker\":{\"colorbar\":{\"outlinewidth\":0,\"ticks\":\"\"}}}],\"scattercarpet\":[{\"type\":\"scattercarpet\",\"marker\":{\"colorbar\":{\"outlinewidth\":0,\"ticks\":\"\"}}}],\"carpet\":[{\"aaxis\":{\"endlinecolor\":\"#2a3f5f\",\"gridcolor\":\"white\",\"linecolor\":\"white\",\"minorgridcolor\":\"white\",\"startlinecolor\":\"#2a3f5f\"},\"baxis\":{\"endlinecolor\":\"#2a3f5f\",\"gridcolor\":\"white\",\"linecolor\":\"white\",\"minorgridcolor\":\"white\",\"startlinecolor\":\"#2a3f5f\"},\"type\":\"carpet\"}],\"table\":[{\"cells\":{\"fill\":{\"color\":\"#EBF0F8\"},\"line\":{\"color\":\"white\"}},\"header\":{\"fill\":{\"color\":\"#C8D4E3\"},\"line\":{\"color\":\"white\"}},\"type\":\"table\"}],\"barpolar\":[{\"marker\":{\"line\":{\"color\":\"#E5ECF6\",\"width\":0.5},\"pattern\":{\"fillmode\":\"overlay\",\"size\":10,\"solidity\":0.2}},\"type\":\"barpolar\"}],\"pie\":[{\"automargin\":true,\"type\":\"pie\"}]},\"layout\":{\"autotypenumbers\":\"strict\",\"colorway\":[\"#636efa\",\"#EF553B\",\"#00cc96\",\"#ab63fa\",\"#FFA15A\",\"#19d3f3\",\"#FF6692\",\"#B6E880\",\"#FF97FF\",\"#FECB52\"],\"font\":{\"color\":\"#2a3f5f\"},\"hovermode\":\"closest\",\"hoverlabel\":{\"align\":\"left\"},\"paper_bgcolor\":\"white\",\"plot_bgcolor\":\"#E5ECF6\",\"polar\":{\"bgcolor\":\"#E5ECF6\",\"angularaxis\":{\"gridcolor\":\"white\",\"linecolor\":\"white\",\"ticks\":\"\"},\"radialaxis\":{\"gridcolor\":\"white\",\"linecolor\":\"white\",\"ticks\":\"\"}},\"ternary\":{\"bgcolor\":\"#E5ECF6\",\"aaxis\":{\"gridcolor\":\"white\",\"linecolor\":\"white\",\"ticks\":\"\"},\"baxis\":{\"gridcolor\":\"white\",\"linecolor\":\"white\",\"ticks\":\"\"},\"caxis\":{\"gridcolor\":\"white\",\"linecolor\":\"white\",\"ticks\":\"\"}},\"coloraxis\":{\"colorbar\":{\"outlinewidth\":0,\"ticks\":\"\"}},\"colorscale\":{\"sequential\":[[0.0,\"#0d0887\"],[0.1111111111111111,\"#46039f\"],[0.2222222222222222,\"#7201a8\"],[0.3333333333333333,\"#9c179e\"],[0.4444444444444444,\"#bd3786\"],[0.5555555555555556,\"#d8576b\"],[0.6666666666666666,\"#ed7953\"],[0.7777777777777778,\"#fb9f3a\"],[0.8888888888888888,\"#fdca26\"],[1.0,\"#f0f921\"]],\"sequentialminus\":[[0.0,\"#0d0887\"],[0.1111111111111111,\"#46039f\"],[0.2222222222222222,\"#7201a8\"],[0.3333333333333333,\"#9c179e\"],[0.4444444444444444,\"#bd3786\"],[0.5555555555555556,\"#d8576b\"],[0.6666666666666666,\"#ed7953\"],[0.7777777777777778,\"#fb9f3a\"],[0.8888888888888888,\"#fdca26\"],[1.0,\"#f0f921\"]],\"diverging\":[[0,\"#8e0152\"],[0.1,\"#c51b7d\"],[0.2,\"#de77ae\"],[0.3,\"#f1b6da\"],[0.4,\"#fde0ef\"],[0.5,\"#f7f7f7\"],[0.6,\"#e6f5d0\"],[0.7,\"#b8e186\"],[0.8,\"#7fbc41\"],[0.9,\"#4d9221\"],[1,\"#276419\"]]},\"xaxis\":{\"gridcolor\":\"white\",\"linecolor\":\"white\",\"ticks\":\"\",\"title\":{\"standoff\":15},\"zerolinecolor\":\"white\",\"automargin\":true,\"zerolinewidth\":2},\"yaxis\":{\"gridcolor\":\"white\",\"linecolor\":\"white\",\"ticks\":\"\",\"title\":{\"standoff\":15},\"zerolinecolor\":\"white\",\"automargin\":true,\"zerolinewidth\":2},\"scene\":{\"xaxis\":{\"backgroundcolor\":\"#E5ECF6\",\"gridcolor\":\"white\",\"linecolor\":\"white\",\"showbackground\":true,\"ticks\":\"\",\"zerolinecolor\":\"white\",\"gridwidth\":2},\"yaxis\":{\"backgroundcolor\":\"#E5ECF6\",\"gridcolor\":\"white\",\"linecolor\":\"white\",\"showbackground\":true,\"ticks\":\"\",\"zerolinecolor\":\"white\",\"gridwidth\":2},\"zaxis\":{\"backgroundcolor\":\"#E5ECF6\",\"gridcolor\":\"white\",\"linecolor\":\"white\",\"showbackground\":true,\"ticks\":\"\",\"zerolinecolor\":\"white\",\"gridwidth\":2}},\"shapedefaults\":{\"line\":{\"color\":\"#2a3f5f\"}},\"annotationdefaults\":{\"arrowcolor\":\"#2a3f5f\",\"arrowhead\":0,\"arrowwidth\":1},\"geo\":{\"bgcolor\":\"white\",\"landcolor\":\"#E5ECF6\",\"subunitcolor\":\"white\",\"showland\":true,\"showlakes\":true,\"lakecolor\":\"white\"},\"title\":{\"x\":0.05},\"mapbox\":{\"style\":\"light\"}}},\"xaxis\":{\"anchor\":\"y\",\"domain\":[0.0,0.32666666666666666],\"title\":{\"text\":\"Review Sentiment\"},\"categoryorder\":\"array\",\"categoryarray\":[\"Negative\",\"Neutral\",\"Positive\"]},\"yaxis\":{\"anchor\":\"x\",\"domain\":[0.0,1.0],\"title\":{\"text\":\"count\"}},\"xaxis2\":{\"anchor\":\"y2\",\"domain\":[0.33666666666666667,0.6633333333333333],\"matches\":\"x\",\"title\":{\"text\":\"Review Sentiment\"},\"categoryorder\":\"array\",\"categoryarray\":[\"Negative\",\"Positive\",\"Neutral\"]},\"yaxis2\":{\"anchor\":\"x2\",\"domain\":[0.0,1.0],\"matches\":\"y\",\"showticklabels\":false},\"xaxis3\":{\"anchor\":\"y3\",\"domain\":[0.6733333333333333,1.0],\"matches\":\"x\",\"title\":{\"text\":\"Review Sentiment\"},\"categoryorder\":\"array\",\"categoryarray\":[\"Negative\",\"Positive\",\"Neutral\"]},\"yaxis3\":{\"anchor\":\"x3\",\"domain\":[0.0,1.0],\"matches\":\"y\",\"showticklabels\":false},\"annotations\":[{\"font\":{},\"showarrow\":false,\"text\":\"Location= \\u9999\\u6e2f\\u5927\\u5b78\\u7d9c\\u5408\\u5927\\u6a13\\u5730\\u4e0b2\\u865f\\u8216\",\"x\":0.16333333333333333,\"xanchor\":\"center\",\"xref\":\"paper\",\"y\":1.0,\"yanchor\":\"bottom\",\"yref\":\"paper\"},{\"font\":{},\"showarrow\":false,\"text\":\"Location=The Henry*\",\"x\":0.5,\"xanchor\":\"center\",\"xref\":\"paper\",\"y\":1.0,\"yanchor\":\"bottom\",\"yref\":\"paper\"},{\"font\":{},\"showarrow\":false,\"text\":\"Location=Imperial Kennedy\",\"x\":0.8366666666666667,\"xanchor\":\"center\",\"xref\":\"paper\",\"y\":1.0,\"yanchor\":\"bottom\",\"yref\":\"paper\"}],\"legend\":{\"title\":{\"text\":\"Review Ratings:\"},\"tracegroupgap\":0,\"orientation\":\"h\",\"yanchor\":\"top\",\"y\":1.15,\"xanchor\":\"center\",\"x\":0.5,\"bordercolor\":\"#B0C4DE\",\"borderwidth\":1},\"title\":{\"text\":\"Histogram Chart of Review Sentiment\",\"y\":0.95,\"x\":0.5,\"xanchor\":\"center\",\"yanchor\":\"top\"},\"barmode\":\"relative\",\"showlegend\":true},                        {\"responsive\": true}                    ).then(function(){\n",
       "                            \n",
       "var gd = document.getElementById('e727080f-2618-4f04-8e33-4a5514737d6b');\n",
       "var x = new MutationObserver(function (mutations, observer) {{\n",
       "        var display = window.getComputedStyle(gd).display;\n",
       "        if (!display || display === 'none') {{\n",
       "            console.log([gd, 'removed!']);\n",
       "            Plotly.purge(gd);\n",
       "            observer.disconnect();\n",
       "        }}\n",
       "}});\n",
       "\n",
       "// Listen for the removal of the full notebook cells\n",
       "var notebookContainer = gd.closest('#notebook-container');\n",
       "if (notebookContainer) {{\n",
       "    x.observe(notebookContainer, {childList: true});\n",
       "}}\n",
       "\n",
       "// Listen for the clearing of the current output cell\n",
       "var outputEl = gd.closest('.output');\n",
       "if (outputEl) {{\n",
       "    x.observe(outputEl, {childList: true});\n",
       "}}\n",
       "\n",
       "                        })                };                });            </script>        </div>"
      ]
     },
     "metadata": {},
     "output_type": "display_data"
    }
   ],
   "source": [
    "custom_order = [\"Negative\", \"Neutral\", \"Positive\"]\n",
    "color_list= ['rgb(103,0,31)','rgb(247,247,247)','rgb(5,48,97)']\n",
    "color_map = {key:val for (key, val) in zip(custom_order,color_list)}\n",
    "\n",
    "\n",
    "fig = px.histogram(data, x=\"gpt_output_sentiment\", \n",
    "                   color=\"gpt_output_sentiment\", \n",
    "                   color_discrete_map = color_map,\n",
    "\n",
    "                   facet_col=\"location_name\",\n",
    "                   facet_col_spacing =0.01,\n",
    "                   labels={\"count\":\"Count\", \n",
    "                     \"gpt_output_sentiment\":\"Review Sentiment\",\n",
    "                    \"location_name\": \"Location\"},\n",
    "                   title = \"Histogram Chart of Review Sentiment\"                  \n",
    "                  )\n",
    "\n",
    "fig.update_traces(marker_line_color='black', marker_line_width=0.4)\n",
    "fig.update_layout(showlegend=True,\n",
    "                  xaxis={'categoryorder': 'array', 'categoryarray': custom_order},\n",
    "                  legend=dict(title=\"Review Ratings:\", orientation='h', yanchor='top',y=1.15,xanchor='center',x=0.5, bordercolor=\"#B0C4DE\", borderwidth=1),\n",
    "                  title=dict(y=0.95, x=0.5, xanchor='center', yanchor='top'),\n",
    "                 )\n",
    "fig.write_image(\"1hist_overview.jpeg\", width=800, height=500)\n",
    "fig.show()"
   ]
  },
  {
   "cell_type": "markdown",
   "id": "a2d913ab",
   "metadata": {},
   "source": [
    "### Histogram plot of customer service standard"
   ]
  },
  {
   "cell_type": "code",
   "execution_count": 18,
   "id": "7fe53f96",
   "metadata": {},
   "outputs": [
    {
     "data": {
      "application/vnd.plotly.v1+json": {
       "config": {
        "plotlyServerURL": "https://plot.ly"
       },
       "data": [
        {
         "alignmentgroup": "True",
         "bingroup": "x",
         "hovertemplate": "Customer Service=%{x}<br>Location= 香港大學綜合大樓地下2號舖<br>count=%{y}<extra></extra>",
         "legendgroup": "Negative",
         "marker": {
          "color": "rgb(103,0,31)",
          "line": {
           "color": "black",
           "width": 0.4
          },
          "pattern": {
           "shape": ""
          }
         },
         "name": "Negative",
         "offsetgroup": "Negative",
         "orientation": "v",
         "showlegend": true,
         "type": "histogram",
         "x": [
          "Negative",
          "Negative"
         ],
         "xaxis": "x",
         "yaxis": "y"
        },
        {
         "alignmentgroup": "True",
         "bingroup": "x",
         "hovertemplate": "Customer Service=%{x}<br>Location=The Henry*<br>count=%{y}<extra></extra>",
         "legendgroup": "Negative",
         "marker": {
          "color": "rgb(103,0,31)",
          "line": {
           "color": "black",
           "width": 0.4
          },
          "pattern": {
           "shape": ""
          }
         },
         "name": "Negative",
         "offsetgroup": "Negative",
         "orientation": "v",
         "showlegend": false,
         "type": "histogram",
         "x": [
          "Negative"
         ],
         "xaxis": "x2",
         "yaxis": "y2"
        },
        {
         "alignmentgroup": "True",
         "bingroup": "x",
         "hovertemplate": "Customer Service=%{x}<br>Location=Imperial Kennedy<br>count=%{y}<extra></extra>",
         "legendgroup": "Negative",
         "marker": {
          "color": "rgb(103,0,31)",
          "line": {
           "color": "black",
           "width": 0.4
          },
          "pattern": {
           "shape": ""
          }
         },
         "name": "Negative",
         "offsetgroup": "Negative",
         "orientation": "v",
         "showlegend": false,
         "type": "histogram",
         "x": [
          "Negative",
          "Negative"
         ],
         "xaxis": "x3",
         "yaxis": "y3"
        },
        {
         "alignmentgroup": "True",
         "bingroup": "x",
         "hovertemplate": "Customer Service=%{x}<br>Location= 香港大學綜合大樓地下2號舖<br>count=%{y}<extra></extra>",
         "legendgroup": "NA",
         "marker": {
          "color": "grey",
          "line": {
           "color": "black",
           "width": 0.4
          },
          "pattern": {
           "shape": ""
          }
         },
         "name": "NA",
         "offsetgroup": "NA",
         "orientation": "v",
         "showlegend": true,
         "type": "histogram",
         "x": [
          "NA",
          "NA",
          "NA",
          "NA",
          "NA",
          "NA",
          "NA",
          "NA",
          "NA",
          "NA",
          "NA",
          "NA",
          "NA",
          "NA",
          "NA",
          "NA",
          "NA",
          "NA"
         ],
         "xaxis": "x",
         "yaxis": "y"
        },
        {
         "alignmentgroup": "True",
         "bingroup": "x",
         "hovertemplate": "Customer Service=%{x}<br>Location=The Henry*<br>count=%{y}<extra></extra>",
         "legendgroup": "NA",
         "marker": {
          "color": "grey",
          "line": {
           "color": "black",
           "width": 0.4
          },
          "pattern": {
           "shape": ""
          }
         },
         "name": "NA",
         "offsetgroup": "NA",
         "orientation": "v",
         "showlegend": false,
         "type": "histogram",
         "x": [
          "NA",
          "NA",
          "NA",
          "NA",
          "NA",
          "NA",
          "NA",
          "NA",
          "NA",
          "NA",
          "NA",
          "NA",
          "NA",
          "NA",
          "NA",
          "NA",
          "NA"
         ],
         "xaxis": "x2",
         "yaxis": "y2"
        },
        {
         "alignmentgroup": "True",
         "bingroup": "x",
         "hovertemplate": "Customer Service=%{x}<br>Location=Imperial Kennedy<br>count=%{y}<extra></extra>",
         "legendgroup": "NA",
         "marker": {
          "color": "grey",
          "line": {
           "color": "black",
           "width": 0.4
          },
          "pattern": {
           "shape": ""
          }
         },
         "name": "NA",
         "offsetgroup": "NA",
         "orientation": "v",
         "showlegend": false,
         "type": "histogram",
         "x": [
          "NA",
          "NA",
          "NA",
          "NA",
          "NA",
          "NA",
          "NA",
          "NA",
          "NA",
          "NA",
          "NA",
          "NA",
          "NA",
          "NA",
          "NA",
          "NA"
         ],
         "xaxis": "x3",
         "yaxis": "y3"
        },
        {
         "alignmentgroup": "True",
         "bingroup": "x",
         "hovertemplate": "Customer Service=%{x}<br>Location=The Henry*<br>count=%{y}<extra></extra>",
         "legendgroup": "Positive",
         "marker": {
          "color": "rgb(5,48,97)",
          "line": {
           "color": "black",
           "width": 0.4
          },
          "pattern": {
           "shape": ""
          }
         },
         "name": "Positive",
         "offsetgroup": "Positive",
         "orientation": "v",
         "showlegend": true,
         "type": "histogram",
         "x": [
          "Positive",
          "Positive"
         ],
         "xaxis": "x2",
         "yaxis": "y2"
        },
        {
         "alignmentgroup": "True",
         "bingroup": "x",
         "hovertemplate": "Customer Service=%{x}<br>Location=Imperial Kennedy<br>count=%{y}<extra></extra>",
         "legendgroup": "Positive",
         "marker": {
          "color": "rgb(5,48,97)",
          "line": {
           "color": "black",
           "width": 0.4
          },
          "pattern": {
           "shape": ""
          }
         },
         "name": "Positive",
         "offsetgroup": "Positive",
         "orientation": "v",
         "showlegend": false,
         "type": "histogram",
         "x": [
          "Positive",
          "Positive"
         ],
         "xaxis": "x3",
         "yaxis": "y3"
        }
       ],
       "layout": {
        "annotations": [
         {
          "font": {},
          "showarrow": false,
          "text": "Location= 香港大學綜合大樓地下2號舖",
          "x": 0.16333333333333333,
          "xanchor": "center",
          "xref": "paper",
          "y": 1,
          "yanchor": "bottom",
          "yref": "paper"
         },
         {
          "font": {},
          "showarrow": false,
          "text": "Location=The Henry*",
          "x": 0.5,
          "xanchor": "center",
          "xref": "paper",
          "y": 1,
          "yanchor": "bottom",
          "yref": "paper"
         },
         {
          "font": {},
          "showarrow": false,
          "text": "Location=Imperial Kennedy",
          "x": 0.8366666666666667,
          "xanchor": "center",
          "xref": "paper",
          "y": 1,
          "yanchor": "bottom",
          "yref": "paper"
         }
        ],
        "barmode": "relative",
        "legend": {
         "bordercolor": "#B0C4DE",
         "borderwidth": 1,
         "orientation": "h",
         "title": {
          "text": "Review Ratings:"
         },
         "tracegroupgap": 0,
         "x": 0.5,
         "xanchor": "center",
         "y": 1.15,
         "yanchor": "top"
        },
        "showlegend": true,
        "template": {
         "data": {
          "bar": [
           {
            "error_x": {
             "color": "#2a3f5f"
            },
            "error_y": {
             "color": "#2a3f5f"
            },
            "marker": {
             "line": {
              "color": "#E5ECF6",
              "width": 0.5
             },
             "pattern": {
              "fillmode": "overlay",
              "size": 10,
              "solidity": 0.2
             }
            },
            "type": "bar"
           }
          ],
          "barpolar": [
           {
            "marker": {
             "line": {
              "color": "#E5ECF6",
              "width": 0.5
             },
             "pattern": {
              "fillmode": "overlay",
              "size": 10,
              "solidity": 0.2
             }
            },
            "type": "barpolar"
           }
          ],
          "carpet": [
           {
            "aaxis": {
             "endlinecolor": "#2a3f5f",
             "gridcolor": "white",
             "linecolor": "white",
             "minorgridcolor": "white",
             "startlinecolor": "#2a3f5f"
            },
            "baxis": {
             "endlinecolor": "#2a3f5f",
             "gridcolor": "white",
             "linecolor": "white",
             "minorgridcolor": "white",
             "startlinecolor": "#2a3f5f"
            },
            "type": "carpet"
           }
          ],
          "choropleth": [
           {
            "colorbar": {
             "outlinewidth": 0,
             "ticks": ""
            },
            "type": "choropleth"
           }
          ],
          "contour": [
           {
            "colorbar": {
             "outlinewidth": 0,
             "ticks": ""
            },
            "colorscale": [
             [
              0,
              "#0d0887"
             ],
             [
              0.1111111111111111,
              "#46039f"
             ],
             [
              0.2222222222222222,
              "#7201a8"
             ],
             [
              0.3333333333333333,
              "#9c179e"
             ],
             [
              0.4444444444444444,
              "#bd3786"
             ],
             [
              0.5555555555555556,
              "#d8576b"
             ],
             [
              0.6666666666666666,
              "#ed7953"
             ],
             [
              0.7777777777777778,
              "#fb9f3a"
             ],
             [
              0.8888888888888888,
              "#fdca26"
             ],
             [
              1,
              "#f0f921"
             ]
            ],
            "type": "contour"
           }
          ],
          "contourcarpet": [
           {
            "colorbar": {
             "outlinewidth": 0,
             "ticks": ""
            },
            "type": "contourcarpet"
           }
          ],
          "heatmap": [
           {
            "colorbar": {
             "outlinewidth": 0,
             "ticks": ""
            },
            "colorscale": [
             [
              0,
              "#0d0887"
             ],
             [
              0.1111111111111111,
              "#46039f"
             ],
             [
              0.2222222222222222,
              "#7201a8"
             ],
             [
              0.3333333333333333,
              "#9c179e"
             ],
             [
              0.4444444444444444,
              "#bd3786"
             ],
             [
              0.5555555555555556,
              "#d8576b"
             ],
             [
              0.6666666666666666,
              "#ed7953"
             ],
             [
              0.7777777777777778,
              "#fb9f3a"
             ],
             [
              0.8888888888888888,
              "#fdca26"
             ],
             [
              1,
              "#f0f921"
             ]
            ],
            "type": "heatmap"
           }
          ],
          "heatmapgl": [
           {
            "colorbar": {
             "outlinewidth": 0,
             "ticks": ""
            },
            "colorscale": [
             [
              0,
              "#0d0887"
             ],
             [
              0.1111111111111111,
              "#46039f"
             ],
             [
              0.2222222222222222,
              "#7201a8"
             ],
             [
              0.3333333333333333,
              "#9c179e"
             ],
             [
              0.4444444444444444,
              "#bd3786"
             ],
             [
              0.5555555555555556,
              "#d8576b"
             ],
             [
              0.6666666666666666,
              "#ed7953"
             ],
             [
              0.7777777777777778,
              "#fb9f3a"
             ],
             [
              0.8888888888888888,
              "#fdca26"
             ],
             [
              1,
              "#f0f921"
             ]
            ],
            "type": "heatmapgl"
           }
          ],
          "histogram": [
           {
            "marker": {
             "pattern": {
              "fillmode": "overlay",
              "size": 10,
              "solidity": 0.2
             }
            },
            "type": "histogram"
           }
          ],
          "histogram2d": [
           {
            "colorbar": {
             "outlinewidth": 0,
             "ticks": ""
            },
            "colorscale": [
             [
              0,
              "#0d0887"
             ],
             [
              0.1111111111111111,
              "#46039f"
             ],
             [
              0.2222222222222222,
              "#7201a8"
             ],
             [
              0.3333333333333333,
              "#9c179e"
             ],
             [
              0.4444444444444444,
              "#bd3786"
             ],
             [
              0.5555555555555556,
              "#d8576b"
             ],
             [
              0.6666666666666666,
              "#ed7953"
             ],
             [
              0.7777777777777778,
              "#fb9f3a"
             ],
             [
              0.8888888888888888,
              "#fdca26"
             ],
             [
              1,
              "#f0f921"
             ]
            ],
            "type": "histogram2d"
           }
          ],
          "histogram2dcontour": [
           {
            "colorbar": {
             "outlinewidth": 0,
             "ticks": ""
            },
            "colorscale": [
             [
              0,
              "#0d0887"
             ],
             [
              0.1111111111111111,
              "#46039f"
             ],
             [
              0.2222222222222222,
              "#7201a8"
             ],
             [
              0.3333333333333333,
              "#9c179e"
             ],
             [
              0.4444444444444444,
              "#bd3786"
             ],
             [
              0.5555555555555556,
              "#d8576b"
             ],
             [
              0.6666666666666666,
              "#ed7953"
             ],
             [
              0.7777777777777778,
              "#fb9f3a"
             ],
             [
              0.8888888888888888,
              "#fdca26"
             ],
             [
              1,
              "#f0f921"
             ]
            ],
            "type": "histogram2dcontour"
           }
          ],
          "mesh3d": [
           {
            "colorbar": {
             "outlinewidth": 0,
             "ticks": ""
            },
            "type": "mesh3d"
           }
          ],
          "parcoords": [
           {
            "line": {
             "colorbar": {
              "outlinewidth": 0,
              "ticks": ""
             }
            },
            "type": "parcoords"
           }
          ],
          "pie": [
           {
            "automargin": true,
            "type": "pie"
           }
          ],
          "scatter": [
           {
            "fillpattern": {
             "fillmode": "overlay",
             "size": 10,
             "solidity": 0.2
            },
            "type": "scatter"
           }
          ],
          "scatter3d": [
           {
            "line": {
             "colorbar": {
              "outlinewidth": 0,
              "ticks": ""
             }
            },
            "marker": {
             "colorbar": {
              "outlinewidth": 0,
              "ticks": ""
             }
            },
            "type": "scatter3d"
           }
          ],
          "scattercarpet": [
           {
            "marker": {
             "colorbar": {
              "outlinewidth": 0,
              "ticks": ""
             }
            },
            "type": "scattercarpet"
           }
          ],
          "scattergeo": [
           {
            "marker": {
             "colorbar": {
              "outlinewidth": 0,
              "ticks": ""
             }
            },
            "type": "scattergeo"
           }
          ],
          "scattergl": [
           {
            "marker": {
             "colorbar": {
              "outlinewidth": 0,
              "ticks": ""
             }
            },
            "type": "scattergl"
           }
          ],
          "scattermapbox": [
           {
            "marker": {
             "colorbar": {
              "outlinewidth": 0,
              "ticks": ""
             }
            },
            "type": "scattermapbox"
           }
          ],
          "scatterpolar": [
           {
            "marker": {
             "colorbar": {
              "outlinewidth": 0,
              "ticks": ""
             }
            },
            "type": "scatterpolar"
           }
          ],
          "scatterpolargl": [
           {
            "marker": {
             "colorbar": {
              "outlinewidth": 0,
              "ticks": ""
             }
            },
            "type": "scatterpolargl"
           }
          ],
          "scatterternary": [
           {
            "marker": {
             "colorbar": {
              "outlinewidth": 0,
              "ticks": ""
             }
            },
            "type": "scatterternary"
           }
          ],
          "surface": [
           {
            "colorbar": {
             "outlinewidth": 0,
             "ticks": ""
            },
            "colorscale": [
             [
              0,
              "#0d0887"
             ],
             [
              0.1111111111111111,
              "#46039f"
             ],
             [
              0.2222222222222222,
              "#7201a8"
             ],
             [
              0.3333333333333333,
              "#9c179e"
             ],
             [
              0.4444444444444444,
              "#bd3786"
             ],
             [
              0.5555555555555556,
              "#d8576b"
             ],
             [
              0.6666666666666666,
              "#ed7953"
             ],
             [
              0.7777777777777778,
              "#fb9f3a"
             ],
             [
              0.8888888888888888,
              "#fdca26"
             ],
             [
              1,
              "#f0f921"
             ]
            ],
            "type": "surface"
           }
          ],
          "table": [
           {
            "cells": {
             "fill": {
              "color": "#EBF0F8"
             },
             "line": {
              "color": "white"
             }
            },
            "header": {
             "fill": {
              "color": "#C8D4E3"
             },
             "line": {
              "color": "white"
             }
            },
            "type": "table"
           }
          ]
         },
         "layout": {
          "annotationdefaults": {
           "arrowcolor": "#2a3f5f",
           "arrowhead": 0,
           "arrowwidth": 1
          },
          "autotypenumbers": "strict",
          "coloraxis": {
           "colorbar": {
            "outlinewidth": 0,
            "ticks": ""
           }
          },
          "colorscale": {
           "diverging": [
            [
             0,
             "#8e0152"
            ],
            [
             0.1,
             "#c51b7d"
            ],
            [
             0.2,
             "#de77ae"
            ],
            [
             0.3,
             "#f1b6da"
            ],
            [
             0.4,
             "#fde0ef"
            ],
            [
             0.5,
             "#f7f7f7"
            ],
            [
             0.6,
             "#e6f5d0"
            ],
            [
             0.7,
             "#b8e186"
            ],
            [
             0.8,
             "#7fbc41"
            ],
            [
             0.9,
             "#4d9221"
            ],
            [
             1,
             "#276419"
            ]
           ],
           "sequential": [
            [
             0,
             "#0d0887"
            ],
            [
             0.1111111111111111,
             "#46039f"
            ],
            [
             0.2222222222222222,
             "#7201a8"
            ],
            [
             0.3333333333333333,
             "#9c179e"
            ],
            [
             0.4444444444444444,
             "#bd3786"
            ],
            [
             0.5555555555555556,
             "#d8576b"
            ],
            [
             0.6666666666666666,
             "#ed7953"
            ],
            [
             0.7777777777777778,
             "#fb9f3a"
            ],
            [
             0.8888888888888888,
             "#fdca26"
            ],
            [
             1,
             "#f0f921"
            ]
           ],
           "sequentialminus": [
            [
             0,
             "#0d0887"
            ],
            [
             0.1111111111111111,
             "#46039f"
            ],
            [
             0.2222222222222222,
             "#7201a8"
            ],
            [
             0.3333333333333333,
             "#9c179e"
            ],
            [
             0.4444444444444444,
             "#bd3786"
            ],
            [
             0.5555555555555556,
             "#d8576b"
            ],
            [
             0.6666666666666666,
             "#ed7953"
            ],
            [
             0.7777777777777778,
             "#fb9f3a"
            ],
            [
             0.8888888888888888,
             "#fdca26"
            ],
            [
             1,
             "#f0f921"
            ]
           ]
          },
          "colorway": [
           "#636efa",
           "#EF553B",
           "#00cc96",
           "#ab63fa",
           "#FFA15A",
           "#19d3f3",
           "#FF6692",
           "#B6E880",
           "#FF97FF",
           "#FECB52"
          ],
          "font": {
           "color": "#2a3f5f"
          },
          "geo": {
           "bgcolor": "white",
           "lakecolor": "white",
           "landcolor": "#E5ECF6",
           "showlakes": true,
           "showland": true,
           "subunitcolor": "white"
          },
          "hoverlabel": {
           "align": "left"
          },
          "hovermode": "closest",
          "mapbox": {
           "style": "light"
          },
          "paper_bgcolor": "white",
          "plot_bgcolor": "#E5ECF6",
          "polar": {
           "angularaxis": {
            "gridcolor": "white",
            "linecolor": "white",
            "ticks": ""
           },
           "bgcolor": "#E5ECF6",
           "radialaxis": {
            "gridcolor": "white",
            "linecolor": "white",
            "ticks": ""
           }
          },
          "scene": {
           "xaxis": {
            "backgroundcolor": "#E5ECF6",
            "gridcolor": "white",
            "gridwidth": 2,
            "linecolor": "white",
            "showbackground": true,
            "ticks": "",
            "zerolinecolor": "white"
           },
           "yaxis": {
            "backgroundcolor": "#E5ECF6",
            "gridcolor": "white",
            "gridwidth": 2,
            "linecolor": "white",
            "showbackground": true,
            "ticks": "",
            "zerolinecolor": "white"
           },
           "zaxis": {
            "backgroundcolor": "#E5ECF6",
            "gridcolor": "white",
            "gridwidth": 2,
            "linecolor": "white",
            "showbackground": true,
            "ticks": "",
            "zerolinecolor": "white"
           }
          },
          "shapedefaults": {
           "line": {
            "color": "#2a3f5f"
           }
          },
          "ternary": {
           "aaxis": {
            "gridcolor": "white",
            "linecolor": "white",
            "ticks": ""
           },
           "baxis": {
            "gridcolor": "white",
            "linecolor": "white",
            "ticks": ""
           },
           "bgcolor": "#E5ECF6",
           "caxis": {
            "gridcolor": "white",
            "linecolor": "white",
            "ticks": ""
           }
          },
          "title": {
           "x": 0.05
          },
          "xaxis": {
           "automargin": true,
           "gridcolor": "white",
           "linecolor": "white",
           "ticks": "",
           "title": {
            "standoff": 15
           },
           "zerolinecolor": "white",
           "zerolinewidth": 2
          },
          "yaxis": {
           "automargin": true,
           "gridcolor": "white",
           "linecolor": "white",
           "ticks": "",
           "title": {
            "standoff": 15
           },
           "zerolinecolor": "white",
           "zerolinewidth": 2
          }
         }
        },
        "title": {
         "text": "Histogram Chart of Customer Service Standard",
         "x": 0.5,
         "xanchor": "center",
         "y": 0.95,
         "yanchor": "top"
        },
        "xaxis": {
         "anchor": "y",
         "categoryarray": [
          "Negative",
          "Positive",
          "NA"
         ],
         "categoryorder": "array",
         "domain": [
          0,
          0.32666666666666666
         ],
         "title": {
          "text": "Customer Service"
         }
        },
        "xaxis2": {
         "anchor": "y2",
         "categoryarray": [
          "Negative",
          "NA",
          "Positive"
         ],
         "categoryorder": "array",
         "domain": [
          0.33666666666666667,
          0.6633333333333333
         ],
         "matches": "x",
         "title": {
          "text": "Customer Service"
         }
        },
        "xaxis3": {
         "anchor": "y3",
         "categoryarray": [
          "Negative",
          "NA",
          "Positive"
         ],
         "categoryorder": "array",
         "domain": [
          0.6733333333333333,
          1
         ],
         "matches": "x",
         "title": {
          "text": "Customer Service"
         }
        },
        "yaxis": {
         "anchor": "x",
         "domain": [
          0,
          1
         ],
         "title": {
          "text": "count"
         }
        },
        "yaxis2": {
         "anchor": "x2",
         "domain": [
          0,
          1
         ],
         "matches": "y",
         "showticklabels": false
        },
        "yaxis3": {
         "anchor": "x3",
         "domain": [
          0,
          1
         ],
         "matches": "y",
         "showticklabels": false
        }
       }
      },
      "text/html": [
       "<div>                            <div id=\"0be0fc2c-3bc0-4a27-9cd0-5eeb023dd6e1\" class=\"plotly-graph-div\" style=\"height:525px; width:100%;\"></div>            <script type=\"text/javascript\">                require([\"plotly\"], function(Plotly) {                    window.PLOTLYENV=window.PLOTLYENV || {};                                    if (document.getElementById(\"0be0fc2c-3bc0-4a27-9cd0-5eeb023dd6e1\")) {                    Plotly.newPlot(                        \"0be0fc2c-3bc0-4a27-9cd0-5eeb023dd6e1\",                        [{\"alignmentgroup\":\"True\",\"bingroup\":\"x\",\"hovertemplate\":\"Customer Service=%{x}<br>Location= \\u9999\\u6e2f\\u5927\\u5b78\\u7d9c\\u5408\\u5927\\u6a13\\u5730\\u4e0b2\\u865f\\u8216<br>count=%{y}<extra></extra>\",\"legendgroup\":\"Negative\",\"marker\":{\"color\":\"rgb(103,0,31)\",\"pattern\":{\"shape\":\"\"},\"line\":{\"color\":\"black\",\"width\":0.4}},\"name\":\"Negative\",\"offsetgroup\":\"Negative\",\"orientation\":\"v\",\"showlegend\":true,\"x\":[\"Negative\",\"Negative\"],\"xaxis\":\"x\",\"yaxis\":\"y\",\"type\":\"histogram\"},{\"alignmentgroup\":\"True\",\"bingroup\":\"x\",\"hovertemplate\":\"Customer Service=%{x}<br>Location=The Henry*<br>count=%{y}<extra></extra>\",\"legendgroup\":\"Negative\",\"marker\":{\"color\":\"rgb(103,0,31)\",\"pattern\":{\"shape\":\"\"},\"line\":{\"color\":\"black\",\"width\":0.4}},\"name\":\"Negative\",\"offsetgroup\":\"Negative\",\"orientation\":\"v\",\"showlegend\":false,\"x\":[\"Negative\"],\"xaxis\":\"x2\",\"yaxis\":\"y2\",\"type\":\"histogram\"},{\"alignmentgroup\":\"True\",\"bingroup\":\"x\",\"hovertemplate\":\"Customer Service=%{x}<br>Location=Imperial Kennedy<br>count=%{y}<extra></extra>\",\"legendgroup\":\"Negative\",\"marker\":{\"color\":\"rgb(103,0,31)\",\"pattern\":{\"shape\":\"\"},\"line\":{\"color\":\"black\",\"width\":0.4}},\"name\":\"Negative\",\"offsetgroup\":\"Negative\",\"orientation\":\"v\",\"showlegend\":false,\"x\":[\"Negative\",\"Negative\"],\"xaxis\":\"x3\",\"yaxis\":\"y3\",\"type\":\"histogram\"},{\"alignmentgroup\":\"True\",\"bingroup\":\"x\",\"hovertemplate\":\"Customer Service=%{x}<br>Location= \\u9999\\u6e2f\\u5927\\u5b78\\u7d9c\\u5408\\u5927\\u6a13\\u5730\\u4e0b2\\u865f\\u8216<br>count=%{y}<extra></extra>\",\"legendgroup\":\"NA\",\"marker\":{\"color\":\"grey\",\"pattern\":{\"shape\":\"\"},\"line\":{\"color\":\"black\",\"width\":0.4}},\"name\":\"NA\",\"offsetgroup\":\"NA\",\"orientation\":\"v\",\"showlegend\":true,\"x\":[\"NA\",\"NA\",\"NA\",\"NA\",\"NA\",\"NA\",\"NA\",\"NA\",\"NA\",\"NA\",\"NA\",\"NA\",\"NA\",\"NA\",\"NA\",\"NA\",\"NA\",\"NA\"],\"xaxis\":\"x\",\"yaxis\":\"y\",\"type\":\"histogram\"},{\"alignmentgroup\":\"True\",\"bingroup\":\"x\",\"hovertemplate\":\"Customer Service=%{x}<br>Location=The Henry*<br>count=%{y}<extra></extra>\",\"legendgroup\":\"NA\",\"marker\":{\"color\":\"grey\",\"pattern\":{\"shape\":\"\"},\"line\":{\"color\":\"black\",\"width\":0.4}},\"name\":\"NA\",\"offsetgroup\":\"NA\",\"orientation\":\"v\",\"showlegend\":false,\"x\":[\"NA\",\"NA\",\"NA\",\"NA\",\"NA\",\"NA\",\"NA\",\"NA\",\"NA\",\"NA\",\"NA\",\"NA\",\"NA\",\"NA\",\"NA\",\"NA\",\"NA\"],\"xaxis\":\"x2\",\"yaxis\":\"y2\",\"type\":\"histogram\"},{\"alignmentgroup\":\"True\",\"bingroup\":\"x\",\"hovertemplate\":\"Customer Service=%{x}<br>Location=Imperial Kennedy<br>count=%{y}<extra></extra>\",\"legendgroup\":\"NA\",\"marker\":{\"color\":\"grey\",\"pattern\":{\"shape\":\"\"},\"line\":{\"color\":\"black\",\"width\":0.4}},\"name\":\"NA\",\"offsetgroup\":\"NA\",\"orientation\":\"v\",\"showlegend\":false,\"x\":[\"NA\",\"NA\",\"NA\",\"NA\",\"NA\",\"NA\",\"NA\",\"NA\",\"NA\",\"NA\",\"NA\",\"NA\",\"NA\",\"NA\",\"NA\",\"NA\"],\"xaxis\":\"x3\",\"yaxis\":\"y3\",\"type\":\"histogram\"},{\"alignmentgroup\":\"True\",\"bingroup\":\"x\",\"hovertemplate\":\"Customer Service=%{x}<br>Location=The Henry*<br>count=%{y}<extra></extra>\",\"legendgroup\":\"Positive\",\"marker\":{\"color\":\"rgb(5,48,97)\",\"pattern\":{\"shape\":\"\"},\"line\":{\"color\":\"black\",\"width\":0.4}},\"name\":\"Positive\",\"offsetgroup\":\"Positive\",\"orientation\":\"v\",\"showlegend\":true,\"x\":[\"Positive\",\"Positive\"],\"xaxis\":\"x2\",\"yaxis\":\"y2\",\"type\":\"histogram\"},{\"alignmentgroup\":\"True\",\"bingroup\":\"x\",\"hovertemplate\":\"Customer Service=%{x}<br>Location=Imperial Kennedy<br>count=%{y}<extra></extra>\",\"legendgroup\":\"Positive\",\"marker\":{\"color\":\"rgb(5,48,97)\",\"pattern\":{\"shape\":\"\"},\"line\":{\"color\":\"black\",\"width\":0.4}},\"name\":\"Positive\",\"offsetgroup\":\"Positive\",\"orientation\":\"v\",\"showlegend\":false,\"x\":[\"Positive\",\"Positive\"],\"xaxis\":\"x3\",\"yaxis\":\"y3\",\"type\":\"histogram\"}],                        {\"template\":{\"data\":{\"histogram2dcontour\":[{\"type\":\"histogram2dcontour\",\"colorbar\":{\"outlinewidth\":0,\"ticks\":\"\"},\"colorscale\":[[0.0,\"#0d0887\"],[0.1111111111111111,\"#46039f\"],[0.2222222222222222,\"#7201a8\"],[0.3333333333333333,\"#9c179e\"],[0.4444444444444444,\"#bd3786\"],[0.5555555555555556,\"#d8576b\"],[0.6666666666666666,\"#ed7953\"],[0.7777777777777778,\"#fb9f3a\"],[0.8888888888888888,\"#fdca26\"],[1.0,\"#f0f921\"]]}],\"choropleth\":[{\"type\":\"choropleth\",\"colorbar\":{\"outlinewidth\":0,\"ticks\":\"\"}}],\"histogram2d\":[{\"type\":\"histogram2d\",\"colorbar\":{\"outlinewidth\":0,\"ticks\":\"\"},\"colorscale\":[[0.0,\"#0d0887\"],[0.1111111111111111,\"#46039f\"],[0.2222222222222222,\"#7201a8\"],[0.3333333333333333,\"#9c179e\"],[0.4444444444444444,\"#bd3786\"],[0.5555555555555556,\"#d8576b\"],[0.6666666666666666,\"#ed7953\"],[0.7777777777777778,\"#fb9f3a\"],[0.8888888888888888,\"#fdca26\"],[1.0,\"#f0f921\"]]}],\"heatmap\":[{\"type\":\"heatmap\",\"colorbar\":{\"outlinewidth\":0,\"ticks\":\"\"},\"colorscale\":[[0.0,\"#0d0887\"],[0.1111111111111111,\"#46039f\"],[0.2222222222222222,\"#7201a8\"],[0.3333333333333333,\"#9c179e\"],[0.4444444444444444,\"#bd3786\"],[0.5555555555555556,\"#d8576b\"],[0.6666666666666666,\"#ed7953\"],[0.7777777777777778,\"#fb9f3a\"],[0.8888888888888888,\"#fdca26\"],[1.0,\"#f0f921\"]]}],\"heatmapgl\":[{\"type\":\"heatmapgl\",\"colorbar\":{\"outlinewidth\":0,\"ticks\":\"\"},\"colorscale\":[[0.0,\"#0d0887\"],[0.1111111111111111,\"#46039f\"],[0.2222222222222222,\"#7201a8\"],[0.3333333333333333,\"#9c179e\"],[0.4444444444444444,\"#bd3786\"],[0.5555555555555556,\"#d8576b\"],[0.6666666666666666,\"#ed7953\"],[0.7777777777777778,\"#fb9f3a\"],[0.8888888888888888,\"#fdca26\"],[1.0,\"#f0f921\"]]}],\"contourcarpet\":[{\"type\":\"contourcarpet\",\"colorbar\":{\"outlinewidth\":0,\"ticks\":\"\"}}],\"contour\":[{\"type\":\"contour\",\"colorbar\":{\"outlinewidth\":0,\"ticks\":\"\"},\"colorscale\":[[0.0,\"#0d0887\"],[0.1111111111111111,\"#46039f\"],[0.2222222222222222,\"#7201a8\"],[0.3333333333333333,\"#9c179e\"],[0.4444444444444444,\"#bd3786\"],[0.5555555555555556,\"#d8576b\"],[0.6666666666666666,\"#ed7953\"],[0.7777777777777778,\"#fb9f3a\"],[0.8888888888888888,\"#fdca26\"],[1.0,\"#f0f921\"]]}],\"surface\":[{\"type\":\"surface\",\"colorbar\":{\"outlinewidth\":0,\"ticks\":\"\"},\"colorscale\":[[0.0,\"#0d0887\"],[0.1111111111111111,\"#46039f\"],[0.2222222222222222,\"#7201a8\"],[0.3333333333333333,\"#9c179e\"],[0.4444444444444444,\"#bd3786\"],[0.5555555555555556,\"#d8576b\"],[0.6666666666666666,\"#ed7953\"],[0.7777777777777778,\"#fb9f3a\"],[0.8888888888888888,\"#fdca26\"],[1.0,\"#f0f921\"]]}],\"mesh3d\":[{\"type\":\"mesh3d\",\"colorbar\":{\"outlinewidth\":0,\"ticks\":\"\"}}],\"scatter\":[{\"fillpattern\":{\"fillmode\":\"overlay\",\"size\":10,\"solidity\":0.2},\"type\":\"scatter\"}],\"parcoords\":[{\"type\":\"parcoords\",\"line\":{\"colorbar\":{\"outlinewidth\":0,\"ticks\":\"\"}}}],\"scatterpolargl\":[{\"type\":\"scatterpolargl\",\"marker\":{\"colorbar\":{\"outlinewidth\":0,\"ticks\":\"\"}}}],\"bar\":[{\"error_x\":{\"color\":\"#2a3f5f\"},\"error_y\":{\"color\":\"#2a3f5f\"},\"marker\":{\"line\":{\"color\":\"#E5ECF6\",\"width\":0.5},\"pattern\":{\"fillmode\":\"overlay\",\"size\":10,\"solidity\":0.2}},\"type\":\"bar\"}],\"scattergeo\":[{\"type\":\"scattergeo\",\"marker\":{\"colorbar\":{\"outlinewidth\":0,\"ticks\":\"\"}}}],\"scatterpolar\":[{\"type\":\"scatterpolar\",\"marker\":{\"colorbar\":{\"outlinewidth\":0,\"ticks\":\"\"}}}],\"histogram\":[{\"marker\":{\"pattern\":{\"fillmode\":\"overlay\",\"size\":10,\"solidity\":0.2}},\"type\":\"histogram\"}],\"scattergl\":[{\"type\":\"scattergl\",\"marker\":{\"colorbar\":{\"outlinewidth\":0,\"ticks\":\"\"}}}],\"scatter3d\":[{\"type\":\"scatter3d\",\"line\":{\"colorbar\":{\"outlinewidth\":0,\"ticks\":\"\"}},\"marker\":{\"colorbar\":{\"outlinewidth\":0,\"ticks\":\"\"}}}],\"scattermapbox\":[{\"type\":\"scattermapbox\",\"marker\":{\"colorbar\":{\"outlinewidth\":0,\"ticks\":\"\"}}}],\"scatterternary\":[{\"type\":\"scatterternary\",\"marker\":{\"colorbar\":{\"outlinewidth\":0,\"ticks\":\"\"}}}],\"scattercarpet\":[{\"type\":\"scattercarpet\",\"marker\":{\"colorbar\":{\"outlinewidth\":0,\"ticks\":\"\"}}}],\"carpet\":[{\"aaxis\":{\"endlinecolor\":\"#2a3f5f\",\"gridcolor\":\"white\",\"linecolor\":\"white\",\"minorgridcolor\":\"white\",\"startlinecolor\":\"#2a3f5f\"},\"baxis\":{\"endlinecolor\":\"#2a3f5f\",\"gridcolor\":\"white\",\"linecolor\":\"white\",\"minorgridcolor\":\"white\",\"startlinecolor\":\"#2a3f5f\"},\"type\":\"carpet\"}],\"table\":[{\"cells\":{\"fill\":{\"color\":\"#EBF0F8\"},\"line\":{\"color\":\"white\"}},\"header\":{\"fill\":{\"color\":\"#C8D4E3\"},\"line\":{\"color\":\"white\"}},\"type\":\"table\"}],\"barpolar\":[{\"marker\":{\"line\":{\"color\":\"#E5ECF6\",\"width\":0.5},\"pattern\":{\"fillmode\":\"overlay\",\"size\":10,\"solidity\":0.2}},\"type\":\"barpolar\"}],\"pie\":[{\"automargin\":true,\"type\":\"pie\"}]},\"layout\":{\"autotypenumbers\":\"strict\",\"colorway\":[\"#636efa\",\"#EF553B\",\"#00cc96\",\"#ab63fa\",\"#FFA15A\",\"#19d3f3\",\"#FF6692\",\"#B6E880\",\"#FF97FF\",\"#FECB52\"],\"font\":{\"color\":\"#2a3f5f\"},\"hovermode\":\"closest\",\"hoverlabel\":{\"align\":\"left\"},\"paper_bgcolor\":\"white\",\"plot_bgcolor\":\"#E5ECF6\",\"polar\":{\"bgcolor\":\"#E5ECF6\",\"angularaxis\":{\"gridcolor\":\"white\",\"linecolor\":\"white\",\"ticks\":\"\"},\"radialaxis\":{\"gridcolor\":\"white\",\"linecolor\":\"white\",\"ticks\":\"\"}},\"ternary\":{\"bgcolor\":\"#E5ECF6\",\"aaxis\":{\"gridcolor\":\"white\",\"linecolor\":\"white\",\"ticks\":\"\"},\"baxis\":{\"gridcolor\":\"white\",\"linecolor\":\"white\",\"ticks\":\"\"},\"caxis\":{\"gridcolor\":\"white\",\"linecolor\":\"white\",\"ticks\":\"\"}},\"coloraxis\":{\"colorbar\":{\"outlinewidth\":0,\"ticks\":\"\"}},\"colorscale\":{\"sequential\":[[0.0,\"#0d0887\"],[0.1111111111111111,\"#46039f\"],[0.2222222222222222,\"#7201a8\"],[0.3333333333333333,\"#9c179e\"],[0.4444444444444444,\"#bd3786\"],[0.5555555555555556,\"#d8576b\"],[0.6666666666666666,\"#ed7953\"],[0.7777777777777778,\"#fb9f3a\"],[0.8888888888888888,\"#fdca26\"],[1.0,\"#f0f921\"]],\"sequentialminus\":[[0.0,\"#0d0887\"],[0.1111111111111111,\"#46039f\"],[0.2222222222222222,\"#7201a8\"],[0.3333333333333333,\"#9c179e\"],[0.4444444444444444,\"#bd3786\"],[0.5555555555555556,\"#d8576b\"],[0.6666666666666666,\"#ed7953\"],[0.7777777777777778,\"#fb9f3a\"],[0.8888888888888888,\"#fdca26\"],[1.0,\"#f0f921\"]],\"diverging\":[[0,\"#8e0152\"],[0.1,\"#c51b7d\"],[0.2,\"#de77ae\"],[0.3,\"#f1b6da\"],[0.4,\"#fde0ef\"],[0.5,\"#f7f7f7\"],[0.6,\"#e6f5d0\"],[0.7,\"#b8e186\"],[0.8,\"#7fbc41\"],[0.9,\"#4d9221\"],[1,\"#276419\"]]},\"xaxis\":{\"gridcolor\":\"white\",\"linecolor\":\"white\",\"ticks\":\"\",\"title\":{\"standoff\":15},\"zerolinecolor\":\"white\",\"automargin\":true,\"zerolinewidth\":2},\"yaxis\":{\"gridcolor\":\"white\",\"linecolor\":\"white\",\"ticks\":\"\",\"title\":{\"standoff\":15},\"zerolinecolor\":\"white\",\"automargin\":true,\"zerolinewidth\":2},\"scene\":{\"xaxis\":{\"backgroundcolor\":\"#E5ECF6\",\"gridcolor\":\"white\",\"linecolor\":\"white\",\"showbackground\":true,\"ticks\":\"\",\"zerolinecolor\":\"white\",\"gridwidth\":2},\"yaxis\":{\"backgroundcolor\":\"#E5ECF6\",\"gridcolor\":\"white\",\"linecolor\":\"white\",\"showbackground\":true,\"ticks\":\"\",\"zerolinecolor\":\"white\",\"gridwidth\":2},\"zaxis\":{\"backgroundcolor\":\"#E5ECF6\",\"gridcolor\":\"white\",\"linecolor\":\"white\",\"showbackground\":true,\"ticks\":\"\",\"zerolinecolor\":\"white\",\"gridwidth\":2}},\"shapedefaults\":{\"line\":{\"color\":\"#2a3f5f\"}},\"annotationdefaults\":{\"arrowcolor\":\"#2a3f5f\",\"arrowhead\":0,\"arrowwidth\":1},\"geo\":{\"bgcolor\":\"white\",\"landcolor\":\"#E5ECF6\",\"subunitcolor\":\"white\",\"showland\":true,\"showlakes\":true,\"lakecolor\":\"white\"},\"title\":{\"x\":0.05},\"mapbox\":{\"style\":\"light\"}}},\"xaxis\":{\"anchor\":\"y\",\"domain\":[0.0,0.32666666666666666],\"title\":{\"text\":\"Customer Service\"},\"categoryorder\":\"array\",\"categoryarray\":[\"Negative\",\"Positive\",\"NA\"]},\"yaxis\":{\"anchor\":\"x\",\"domain\":[0.0,1.0],\"title\":{\"text\":\"count\"}},\"xaxis2\":{\"anchor\":\"y2\",\"domain\":[0.33666666666666667,0.6633333333333333],\"matches\":\"x\",\"title\":{\"text\":\"Customer Service\"},\"categoryorder\":\"array\",\"categoryarray\":[\"Negative\",\"NA\",\"Positive\"]},\"yaxis2\":{\"anchor\":\"x2\",\"domain\":[0.0,1.0],\"matches\":\"y\",\"showticklabels\":false},\"xaxis3\":{\"anchor\":\"y3\",\"domain\":[0.6733333333333333,1.0],\"matches\":\"x\",\"title\":{\"text\":\"Customer Service\"},\"categoryorder\":\"array\",\"categoryarray\":[\"Negative\",\"NA\",\"Positive\"]},\"yaxis3\":{\"anchor\":\"x3\",\"domain\":[0.0,1.0],\"matches\":\"y\",\"showticklabels\":false},\"annotations\":[{\"font\":{},\"showarrow\":false,\"text\":\"Location= \\u9999\\u6e2f\\u5927\\u5b78\\u7d9c\\u5408\\u5927\\u6a13\\u5730\\u4e0b2\\u865f\\u8216\",\"x\":0.16333333333333333,\"xanchor\":\"center\",\"xref\":\"paper\",\"y\":1.0,\"yanchor\":\"bottom\",\"yref\":\"paper\"},{\"font\":{},\"showarrow\":false,\"text\":\"Location=The Henry*\",\"x\":0.5,\"xanchor\":\"center\",\"xref\":\"paper\",\"y\":1.0,\"yanchor\":\"bottom\",\"yref\":\"paper\"},{\"font\":{},\"showarrow\":false,\"text\":\"Location=Imperial Kennedy\",\"x\":0.8366666666666667,\"xanchor\":\"center\",\"xref\":\"paper\",\"y\":1.0,\"yanchor\":\"bottom\",\"yref\":\"paper\"}],\"legend\":{\"title\":{\"text\":\"Review Ratings:\"},\"tracegroupgap\":0,\"orientation\":\"h\",\"yanchor\":\"top\",\"y\":1.15,\"xanchor\":\"center\",\"x\":0.5,\"bordercolor\":\"#B0C4DE\",\"borderwidth\":1},\"title\":{\"text\":\"Histogram Chart of Customer Service Standard\",\"y\":0.95,\"x\":0.5,\"xanchor\":\"center\",\"yanchor\":\"top\"},\"barmode\":\"relative\",\"showlegend\":true},                        {\"responsive\": true}                    ).then(function(){\n",
       "                            \n",
       "var gd = document.getElementById('0be0fc2c-3bc0-4a27-9cd0-5eeb023dd6e1');\n",
       "var x = new MutationObserver(function (mutations, observer) {{\n",
       "        var display = window.getComputedStyle(gd).display;\n",
       "        if (!display || display === 'none') {{\n",
       "            console.log([gd, 'removed!']);\n",
       "            Plotly.purge(gd);\n",
       "            observer.disconnect();\n",
       "        }}\n",
       "}});\n",
       "\n",
       "// Listen for the removal of the full notebook cells\n",
       "var notebookContainer = gd.closest('#notebook-container');\n",
       "if (notebookContainer) {{\n",
       "    x.observe(notebookContainer, {childList: true});\n",
       "}}\n",
       "\n",
       "// Listen for the clearing of the current output cell\n",
       "var outputEl = gd.closest('.output');\n",
       "if (outputEl) {{\n",
       "    x.observe(outputEl, {childList: true});\n",
       "}}\n",
       "\n",
       "                        })                };                });            </script>        </div>"
      ]
     },
     "metadata": {},
     "output_type": "display_data"
    }
   ],
   "source": [
    "custom_order = [\"Negative\", \"Positive\", \"NA\"]\n",
    "color_list= ['rgb(103,0,31)', 'rgb(5,48,97)', \"grey\"]\n",
    "color_map = {key:val for (key, val) in zip(custom_order,color_list)}\n",
    "\n",
    "\n",
    "fig = px.histogram(data, x=\"gpt_output_service\", \n",
    "                   color=\"gpt_output_service\", \n",
    "                   color_discrete_map = color_map,\n",
    "\n",
    "                   facet_col=\"location_name\",\n",
    "                   facet_col_spacing =0.01,\n",
    "                   labels={\"count\":\"Count\", \n",
    "                     \"gpt_output_service\":\"Customer Service\",\n",
    "                    \"location_name\": \"Location\"},\n",
    "                   title = \"Histogram Chart of Customer Service Standard\"                  \n",
    "                  )\n",
    "\n",
    "fig.update_traces(marker_line_color='black', marker_line_width=0.4)\n",
    "fig.update_layout(showlegend=True,\n",
    "                  xaxis={'categoryorder': 'array', 'categoryarray': custom_order},\n",
    "                  legend=dict(title=\"Review Ratings:\", orientation='h', yanchor='top',y=1.15,xanchor='center',x=0.5, bordercolor=\"#B0C4DE\", borderwidth=1),\n",
    "                  title=dict(y=0.95, x=0.5, xanchor='center', yanchor='top'),\n",
    "                 )\n",
    "fig.write_image(\"2hist_overview.jpeg\", width=800, height=500)\n",
    "fig.show()"
   ]
  },
  {
   "cell_type": "markdown",
   "id": "19bd014a",
   "metadata": {},
   "source": [
    "### Save the data processed and extracted into csv file"
   ]
  },
  {
   "cell_type": "code",
   "execution_count": 19,
   "id": "481d16a9",
   "metadata": {},
   "outputs": [],
   "source": [
    "data.to_csv(\"googlemaps_review_detail.csv\", index=False)"
   ]
  },
  {
   "cell_type": "markdown",
   "id": "b661be56",
   "metadata": {},
   "source": [
    "### Convert the emotions data to be plotted on Tableau"
   ]
  },
  {
   "cell_type": "code",
   "execution_count": 20,
   "id": "e60073d3",
   "metadata": {},
   "outputs": [],
   "source": [
    "emotion_list = []\n",
    "location_list = []\n",
    "for loc_id in data[\"location_name\"].unique().tolist():\n",
    "    # extract emotions one at a time by its location name\n",
    "    current_data = data[data[\"location_name\"]==loc_id]\n",
    "    # combine all emotions into one list\n",
    "    for i in current_data[\"gpt_output_emotions\"]:\n",
    "        # combine emotion words\n",
    "        emotion_list += i\n",
    "        # build a list based on location name\n",
    "        location_list += [loc_id]*len(i)\n",
    "\n",
    "# Save emotion data and location name to be used on Tableau\n",
    "collect_df = pd.DataFrame(data = {\"location_name\":location_list ,\"emotions\":emotion_list})\n",
    "collect_df.to_csv(\"googlemaps_tableau.csv\", index=False)"
   ]
  },
  {
   "cell_type": "code",
   "execution_count": null,
   "id": "469d56a8",
   "metadata": {},
   "outputs": [],
   "source": []
  },
  {
   "cell_type": "code",
   "execution_count": null,
   "id": "fc386eb1",
   "metadata": {},
   "outputs": [],
   "source": []
  },
  {
   "cell_type": "code",
   "execution_count": null,
   "id": "58e28e84",
   "metadata": {},
   "outputs": [],
   "source": []
  },
  {
   "cell_type": "code",
   "execution_count": null,
   "id": "cf0e4fb7",
   "metadata": {},
   "outputs": [],
   "source": []
  }
 ],
 "metadata": {
  "kernelspec": {
   "display_name": "Python 3 (ipykernel)",
   "language": "python",
   "name": "python3"
  },
  "language_info": {
   "codemirror_mode": {
    "name": "ipython",
    "version": 3
   },
   "file_extension": ".py",
   "mimetype": "text/x-python",
   "name": "python",
   "nbconvert_exporter": "python",
   "pygments_lexer": "ipython3",
   "version": "3.9.16"
  }
 },
 "nbformat": 4,
 "nbformat_minor": 5
}
